{
 "cells": [
  {
   "cell_type": "markdown",
   "id": "8147ade7",
   "metadata": {},
   "source": [
    "# Random Forest Model"
   ]
  },
  {
   "cell_type": "markdown",
   "id": "b905bc65",
   "metadata": {},
   "source": [
    "# Preparing Data"
   ]
  },
  {
   "cell_type": "code",
   "execution_count": 1,
   "id": "665a7805",
   "metadata": {},
   "outputs": [],
   "source": [
    "import pandas as pd\n",
    "import numpy as np\n",
    "import matplotlib.pyplot as plt\n",
    "%matplotlib inline\n",
    "import seaborn as sns"
   ]
  },
  {
   "cell_type": "code",
   "execution_count": 2,
   "id": "d798baf5",
   "metadata": {},
   "outputs": [],
   "source": [
    "df = pd.read_csv('duzce_cleaned_data.csv')"
   ]
  },
  {
   "cell_type": "code",
   "execution_count": 3,
   "id": "1798e9e7",
   "metadata": {},
   "outputs": [
    {
     "data": {
      "text/html": [
       "<div>\n",
       "<style scoped>\n",
       "    .dataframe tbody tr th:only-of-type {\n",
       "        vertical-align: middle;\n",
       "    }\n",
       "\n",
       "    .dataframe tbody tr th {\n",
       "        vertical-align: top;\n",
       "    }\n",
       "\n",
       "    .dataframe thead th {\n",
       "        text-align: right;\n",
       "    }\n",
       "</style>\n",
       "<table border=\"1\" class=\"dataframe\">\n",
       "  <thead>\n",
       "    <tr style=\"text-align: right;\">\n",
       "      <th></th>\n",
       "      <th>Building_height</th>\n",
       "      <th>Building_age</th>\n",
       "      <th>Torsional_irregularity</th>\n",
       "      <th>Projection_in_plan</th>\n",
       "      <th>Minimum_normalized_lateral_stiffness_index</th>\n",
       "      <th>Minimum_normalized_lateral_strength_index</th>\n",
       "      <th>Overhanging_ratio</th>\n",
       "      <th>Normalized_redundancy_score</th>\n",
       "      <th>Priority_index</th>\n",
       "      <th>PGA</th>\n",
       "      <th>PGV/PGA</th>\n",
       "      <th>Effective_SaT1</th>\n",
       "      <th>Class</th>\n",
       "    </tr>\n",
       "  </thead>\n",
       "  <tbody>\n",
       "    <tr>\n",
       "      <th>0</th>\n",
       "      <td>12.00</td>\n",
       "      <td>24.0</td>\n",
       "      <td>1</td>\n",
       "      <td>2</td>\n",
       "      <td>0.091896</td>\n",
       "      <td>3.005807</td>\n",
       "      <td>0.114932</td>\n",
       "      <td>1</td>\n",
       "      <td>0.013702</td>\n",
       "      <td>1.195908</td>\n",
       "      <td>0.074858</td>\n",
       "      <td>0.897751</td>\n",
       "      <td>M</td>\n",
       "    </tr>\n",
       "    <tr>\n",
       "      <th>1</th>\n",
       "      <td>11.20</td>\n",
       "      <td>19.0</td>\n",
       "      <td>2</td>\n",
       "      <td>2</td>\n",
       "      <td>0.079054</td>\n",
       "      <td>2.256757</td>\n",
       "      <td>0.152568</td>\n",
       "      <td>2</td>\n",
       "      <td>0.010158</td>\n",
       "      <td>1.195908</td>\n",
       "      <td>0.074858</td>\n",
       "      <td>0.916526</td>\n",
       "      <td>M</td>\n",
       "    </tr>\n",
       "    <tr>\n",
       "      <th>2</th>\n",
       "      <td>11.20</td>\n",
       "      <td>8.0</td>\n",
       "      <td>2</td>\n",
       "      <td>2</td>\n",
       "      <td>0.068851</td>\n",
       "      <td>1.717742</td>\n",
       "      <td>0.202016</td>\n",
       "      <td>1</td>\n",
       "      <td>0.007218</td>\n",
       "      <td>1.195908</td>\n",
       "      <td>0.074858</td>\n",
       "      <td>0.754786</td>\n",
       "      <td>M</td>\n",
       "    </tr>\n",
       "    <tr>\n",
       "      <th>3</th>\n",
       "      <td>16.20</td>\n",
       "      <td>14.0</td>\n",
       "      <td>2</td>\n",
       "      <td>2</td>\n",
       "      <td>0.043574</td>\n",
       "      <td>1.690346</td>\n",
       "      <td>0.071803</td>\n",
       "      <td>2</td>\n",
       "      <td>0.005137</td>\n",
       "      <td>1.195908</td>\n",
       "      <td>0.074858</td>\n",
       "      <td>0.604847</td>\n",
       "      <td>M</td>\n",
       "    </tr>\n",
       "    <tr>\n",
       "      <th>4</th>\n",
       "      <td>16.20</td>\n",
       "      <td>14.0</td>\n",
       "      <td>2</td>\n",
       "      <td>2</td>\n",
       "      <td>0.036941</td>\n",
       "      <td>1.207469</td>\n",
       "      <td>0.120498</td>\n",
       "      <td>1</td>\n",
       "      <td>0.009077</td>\n",
       "      <td>1.195908</td>\n",
       "      <td>0.074858</td>\n",
       "      <td>0.604847</td>\n",
       "      <td>M</td>\n",
       "    </tr>\n",
       "    <tr>\n",
       "      <th>...</th>\n",
       "      <td>...</td>\n",
       "      <td>...</td>\n",
       "      <td>...</td>\n",
       "      <td>...</td>\n",
       "      <td>...</td>\n",
       "      <td>...</td>\n",
       "      <td>...</td>\n",
       "      <td>...</td>\n",
       "      <td>...</td>\n",
       "      <td>...</td>\n",
       "      <td>...</td>\n",
       "      <td>...</td>\n",
       "      <td>...</td>\n",
       "    </tr>\n",
       "    <tr>\n",
       "      <th>478</th>\n",
       "      <td>8.55</td>\n",
       "      <td>18.0</td>\n",
       "      <td>2</td>\n",
       "      <td>2</td>\n",
       "      <td>0.053323</td>\n",
       "      <td>2.306667</td>\n",
       "      <td>0.039771</td>\n",
       "      <td>3</td>\n",
       "      <td>0.020086</td>\n",
       "      <td>1.195908</td>\n",
       "      <td>0.074858</td>\n",
       "      <td>0.868699</td>\n",
       "      <td>M</td>\n",
       "    </tr>\n",
       "    <tr>\n",
       "      <th>479</th>\n",
       "      <td>11.20</td>\n",
       "      <td>3.0</td>\n",
       "      <td>1</td>\n",
       "      <td>2</td>\n",
       "      <td>0.158659</td>\n",
       "      <td>2.896653</td>\n",
       "      <td>0.075902</td>\n",
       "      <td>1</td>\n",
       "      <td>0.010472</td>\n",
       "      <td>1.195908</td>\n",
       "      <td>0.074858</td>\n",
       "      <td>0.754786</td>\n",
       "      <td>M</td>\n",
       "    </tr>\n",
       "    <tr>\n",
       "      <th>480</th>\n",
       "      <td>11.20</td>\n",
       "      <td>5.0</td>\n",
       "      <td>2</td>\n",
       "      <td>2</td>\n",
       "      <td>0.198931</td>\n",
       "      <td>2.655852</td>\n",
       "      <td>0.170534</td>\n",
       "      <td>2</td>\n",
       "      <td>0.009189</td>\n",
       "      <td>1.195908</td>\n",
       "      <td>0.074858</td>\n",
       "      <td>0.754786</td>\n",
       "      <td>L</td>\n",
       "    </tr>\n",
       "    <tr>\n",
       "      <th>481</th>\n",
       "      <td>11.20</td>\n",
       "      <td>5.0</td>\n",
       "      <td>2</td>\n",
       "      <td>2</td>\n",
       "      <td>0.175697</td>\n",
       "      <td>2.605994</td>\n",
       "      <td>0.167368</td>\n",
       "      <td>2</td>\n",
       "      <td>0.009430</td>\n",
       "      <td>1.195908</td>\n",
       "      <td>0.074858</td>\n",
       "      <td>0.754786</td>\n",
       "      <td>L</td>\n",
       "    </tr>\n",
       "    <tr>\n",
       "      <th>482</th>\n",
       "      <td>14.50</td>\n",
       "      <td>6.0</td>\n",
       "      <td>1</td>\n",
       "      <td>2</td>\n",
       "      <td>0.069198</td>\n",
       "      <td>1.918092</td>\n",
       "      <td>0.244313</td>\n",
       "      <td>1</td>\n",
       "      <td>0.005573</td>\n",
       "      <td>1.195908</td>\n",
       "      <td>0.074858</td>\n",
       "      <td>0.846129</td>\n",
       "      <td>L</td>\n",
       "    </tr>\n",
       "  </tbody>\n",
       "</table>\n",
       "<p>483 rows × 13 columns</p>\n",
       "</div>"
      ],
      "text/plain": [
       "     Building_height  Building_age  Torsional_irregularity  \\\n",
       "0              12.00          24.0                       1   \n",
       "1              11.20          19.0                       2   \n",
       "2              11.20           8.0                       2   \n",
       "3              16.20          14.0                       2   \n",
       "4              16.20          14.0                       2   \n",
       "..               ...           ...                     ...   \n",
       "478             8.55          18.0                       2   \n",
       "479            11.20           3.0                       1   \n",
       "480            11.20           5.0                       2   \n",
       "481            11.20           5.0                       2   \n",
       "482            14.50           6.0                       1   \n",
       "\n",
       "     Projection_in_plan  Minimum_normalized_lateral_stiffness_index  \\\n",
       "0                     2                                    0.091896   \n",
       "1                     2                                    0.079054   \n",
       "2                     2                                    0.068851   \n",
       "3                     2                                    0.043574   \n",
       "4                     2                                    0.036941   \n",
       "..                  ...                                         ...   \n",
       "478                   2                                    0.053323   \n",
       "479                   2                                    0.158659   \n",
       "480                   2                                    0.198931   \n",
       "481                   2                                    0.175697   \n",
       "482                   2                                    0.069198   \n",
       "\n",
       "     Minimum_normalized_lateral_strength_index  Overhanging_ratio  \\\n",
       "0                                     3.005807           0.114932   \n",
       "1                                     2.256757           0.152568   \n",
       "2                                     1.717742           0.202016   \n",
       "3                                     1.690346           0.071803   \n",
       "4                                     1.207469           0.120498   \n",
       "..                                         ...                ...   \n",
       "478                                   2.306667           0.039771   \n",
       "479                                   2.896653           0.075902   \n",
       "480                                   2.655852           0.170534   \n",
       "481                                   2.605994           0.167368   \n",
       "482                                   1.918092           0.244313   \n",
       "\n",
       "     Normalized_redundancy_score  Priority_index       PGA   PGV/PGA  \\\n",
       "0                              1        0.013702  1.195908  0.074858   \n",
       "1                              2        0.010158  1.195908  0.074858   \n",
       "2                              1        0.007218  1.195908  0.074858   \n",
       "3                              2        0.005137  1.195908  0.074858   \n",
       "4                              1        0.009077  1.195908  0.074858   \n",
       "..                           ...             ...       ...       ...   \n",
       "478                            3        0.020086  1.195908  0.074858   \n",
       "479                            1        0.010472  1.195908  0.074858   \n",
       "480                            2        0.009189  1.195908  0.074858   \n",
       "481                            2        0.009430  1.195908  0.074858   \n",
       "482                            1        0.005573  1.195908  0.074858   \n",
       "\n",
       "     Effective_SaT1 Class  \n",
       "0          0.897751     M  \n",
       "1          0.916526     M  \n",
       "2          0.754786     M  \n",
       "3          0.604847     M  \n",
       "4          0.604847     M  \n",
       "..              ...   ...  \n",
       "478        0.868699     M  \n",
       "479        0.754786     M  \n",
       "480        0.754786     L  \n",
       "481        0.754786     L  \n",
       "482        0.846129     L  \n",
       "\n",
       "[483 rows x 13 columns]"
      ]
     },
     "execution_count": 3,
     "metadata": {},
     "output_type": "execute_result"
    }
   ],
   "source": [
    "df"
   ]
  },
  {
   "cell_type": "code",
   "execution_count": 4,
   "id": "aa53924f",
   "metadata": {},
   "outputs": [],
   "source": [
    "from sklearn.model_selection import train_test_split\n",
    "from sklearn.metrics import classification_report, confusion_matrix, accuracy_score\n",
    "from sklearn.ensemble import RandomForestClassifier"
   ]
  },
  {
   "cell_type": "code",
   "execution_count": 5,
   "id": "b721aee2",
   "metadata": {},
   "outputs": [],
   "source": [
    "# Select inputs and target\n",
    "\n",
    "# Location by index\n",
    "X = df.iloc[:,:-1]\n",
    "y = df.iloc[:,-1]"
   ]
  },
  {
   "cell_type": "code",
   "execution_count": 6,
   "id": "2caa3c9a",
   "metadata": {},
   "outputs": [
    {
     "data": {
      "text/html": [
       "<div>\n",
       "<style scoped>\n",
       "    .dataframe tbody tr th:only-of-type {\n",
       "        vertical-align: middle;\n",
       "    }\n",
       "\n",
       "    .dataframe tbody tr th {\n",
       "        vertical-align: top;\n",
       "    }\n",
       "\n",
       "    .dataframe thead th {\n",
       "        text-align: right;\n",
       "    }\n",
       "</style>\n",
       "<table border=\"1\" class=\"dataframe\">\n",
       "  <thead>\n",
       "    <tr style=\"text-align: right;\">\n",
       "      <th></th>\n",
       "      <th>Building_height</th>\n",
       "      <th>Building_age</th>\n",
       "      <th>Torsional_irregularity</th>\n",
       "      <th>Projection_in_plan</th>\n",
       "      <th>Minimum_normalized_lateral_stiffness_index</th>\n",
       "      <th>Minimum_normalized_lateral_strength_index</th>\n",
       "      <th>Overhanging_ratio</th>\n",
       "      <th>Normalized_redundancy_score</th>\n",
       "      <th>Priority_index</th>\n",
       "      <th>PGA</th>\n",
       "      <th>PGV/PGA</th>\n",
       "      <th>Effective_SaT1</th>\n",
       "    </tr>\n",
       "  </thead>\n",
       "  <tbody>\n",
       "    <tr>\n",
       "      <th>0</th>\n",
       "      <td>12.00</td>\n",
       "      <td>24.0</td>\n",
       "      <td>1</td>\n",
       "      <td>2</td>\n",
       "      <td>0.091896</td>\n",
       "      <td>3.005807</td>\n",
       "      <td>0.114932</td>\n",
       "      <td>1</td>\n",
       "      <td>0.013702</td>\n",
       "      <td>1.195908</td>\n",
       "      <td>0.074858</td>\n",
       "      <td>0.897751</td>\n",
       "    </tr>\n",
       "    <tr>\n",
       "      <th>1</th>\n",
       "      <td>11.20</td>\n",
       "      <td>19.0</td>\n",
       "      <td>2</td>\n",
       "      <td>2</td>\n",
       "      <td>0.079054</td>\n",
       "      <td>2.256757</td>\n",
       "      <td>0.152568</td>\n",
       "      <td>2</td>\n",
       "      <td>0.010158</td>\n",
       "      <td>1.195908</td>\n",
       "      <td>0.074858</td>\n",
       "      <td>0.916526</td>\n",
       "    </tr>\n",
       "    <tr>\n",
       "      <th>2</th>\n",
       "      <td>11.20</td>\n",
       "      <td>8.0</td>\n",
       "      <td>2</td>\n",
       "      <td>2</td>\n",
       "      <td>0.068851</td>\n",
       "      <td>1.717742</td>\n",
       "      <td>0.202016</td>\n",
       "      <td>1</td>\n",
       "      <td>0.007218</td>\n",
       "      <td>1.195908</td>\n",
       "      <td>0.074858</td>\n",
       "      <td>0.754786</td>\n",
       "    </tr>\n",
       "    <tr>\n",
       "      <th>3</th>\n",
       "      <td>16.20</td>\n",
       "      <td>14.0</td>\n",
       "      <td>2</td>\n",
       "      <td>2</td>\n",
       "      <td>0.043574</td>\n",
       "      <td>1.690346</td>\n",
       "      <td>0.071803</td>\n",
       "      <td>2</td>\n",
       "      <td>0.005137</td>\n",
       "      <td>1.195908</td>\n",
       "      <td>0.074858</td>\n",
       "      <td>0.604847</td>\n",
       "    </tr>\n",
       "    <tr>\n",
       "      <th>4</th>\n",
       "      <td>16.20</td>\n",
       "      <td>14.0</td>\n",
       "      <td>2</td>\n",
       "      <td>2</td>\n",
       "      <td>0.036941</td>\n",
       "      <td>1.207469</td>\n",
       "      <td>0.120498</td>\n",
       "      <td>1</td>\n",
       "      <td>0.009077</td>\n",
       "      <td>1.195908</td>\n",
       "      <td>0.074858</td>\n",
       "      <td>0.604847</td>\n",
       "    </tr>\n",
       "    <tr>\n",
       "      <th>...</th>\n",
       "      <td>...</td>\n",
       "      <td>...</td>\n",
       "      <td>...</td>\n",
       "      <td>...</td>\n",
       "      <td>...</td>\n",
       "      <td>...</td>\n",
       "      <td>...</td>\n",
       "      <td>...</td>\n",
       "      <td>...</td>\n",
       "      <td>...</td>\n",
       "      <td>...</td>\n",
       "      <td>...</td>\n",
       "    </tr>\n",
       "    <tr>\n",
       "      <th>478</th>\n",
       "      <td>8.55</td>\n",
       "      <td>18.0</td>\n",
       "      <td>2</td>\n",
       "      <td>2</td>\n",
       "      <td>0.053323</td>\n",
       "      <td>2.306667</td>\n",
       "      <td>0.039771</td>\n",
       "      <td>3</td>\n",
       "      <td>0.020086</td>\n",
       "      <td>1.195908</td>\n",
       "      <td>0.074858</td>\n",
       "      <td>0.868699</td>\n",
       "    </tr>\n",
       "    <tr>\n",
       "      <th>479</th>\n",
       "      <td>11.20</td>\n",
       "      <td>3.0</td>\n",
       "      <td>1</td>\n",
       "      <td>2</td>\n",
       "      <td>0.158659</td>\n",
       "      <td>2.896653</td>\n",
       "      <td>0.075902</td>\n",
       "      <td>1</td>\n",
       "      <td>0.010472</td>\n",
       "      <td>1.195908</td>\n",
       "      <td>0.074858</td>\n",
       "      <td>0.754786</td>\n",
       "    </tr>\n",
       "    <tr>\n",
       "      <th>480</th>\n",
       "      <td>11.20</td>\n",
       "      <td>5.0</td>\n",
       "      <td>2</td>\n",
       "      <td>2</td>\n",
       "      <td>0.198931</td>\n",
       "      <td>2.655852</td>\n",
       "      <td>0.170534</td>\n",
       "      <td>2</td>\n",
       "      <td>0.009189</td>\n",
       "      <td>1.195908</td>\n",
       "      <td>0.074858</td>\n",
       "      <td>0.754786</td>\n",
       "    </tr>\n",
       "    <tr>\n",
       "      <th>481</th>\n",
       "      <td>11.20</td>\n",
       "      <td>5.0</td>\n",
       "      <td>2</td>\n",
       "      <td>2</td>\n",
       "      <td>0.175697</td>\n",
       "      <td>2.605994</td>\n",
       "      <td>0.167368</td>\n",
       "      <td>2</td>\n",
       "      <td>0.009430</td>\n",
       "      <td>1.195908</td>\n",
       "      <td>0.074858</td>\n",
       "      <td>0.754786</td>\n",
       "    </tr>\n",
       "    <tr>\n",
       "      <th>482</th>\n",
       "      <td>14.50</td>\n",
       "      <td>6.0</td>\n",
       "      <td>1</td>\n",
       "      <td>2</td>\n",
       "      <td>0.069198</td>\n",
       "      <td>1.918092</td>\n",
       "      <td>0.244313</td>\n",
       "      <td>1</td>\n",
       "      <td>0.005573</td>\n",
       "      <td>1.195908</td>\n",
       "      <td>0.074858</td>\n",
       "      <td>0.846129</td>\n",
       "    </tr>\n",
       "  </tbody>\n",
       "</table>\n",
       "<p>483 rows × 12 columns</p>\n",
       "</div>"
      ],
      "text/plain": [
       "     Building_height  Building_age  Torsional_irregularity  \\\n",
       "0              12.00          24.0                       1   \n",
       "1              11.20          19.0                       2   \n",
       "2              11.20           8.0                       2   \n",
       "3              16.20          14.0                       2   \n",
       "4              16.20          14.0                       2   \n",
       "..               ...           ...                     ...   \n",
       "478             8.55          18.0                       2   \n",
       "479            11.20           3.0                       1   \n",
       "480            11.20           5.0                       2   \n",
       "481            11.20           5.0                       2   \n",
       "482            14.50           6.0                       1   \n",
       "\n",
       "     Projection_in_plan  Minimum_normalized_lateral_stiffness_index  \\\n",
       "0                     2                                    0.091896   \n",
       "1                     2                                    0.079054   \n",
       "2                     2                                    0.068851   \n",
       "3                     2                                    0.043574   \n",
       "4                     2                                    0.036941   \n",
       "..                  ...                                         ...   \n",
       "478                   2                                    0.053323   \n",
       "479                   2                                    0.158659   \n",
       "480                   2                                    0.198931   \n",
       "481                   2                                    0.175697   \n",
       "482                   2                                    0.069198   \n",
       "\n",
       "     Minimum_normalized_lateral_strength_index  Overhanging_ratio  \\\n",
       "0                                     3.005807           0.114932   \n",
       "1                                     2.256757           0.152568   \n",
       "2                                     1.717742           0.202016   \n",
       "3                                     1.690346           0.071803   \n",
       "4                                     1.207469           0.120498   \n",
       "..                                         ...                ...   \n",
       "478                                   2.306667           0.039771   \n",
       "479                                   2.896653           0.075902   \n",
       "480                                   2.655852           0.170534   \n",
       "481                                   2.605994           0.167368   \n",
       "482                                   1.918092           0.244313   \n",
       "\n",
       "     Normalized_redundancy_score  Priority_index       PGA   PGV/PGA  \\\n",
       "0                              1        0.013702  1.195908  0.074858   \n",
       "1                              2        0.010158  1.195908  0.074858   \n",
       "2                              1        0.007218  1.195908  0.074858   \n",
       "3                              2        0.005137  1.195908  0.074858   \n",
       "4                              1        0.009077  1.195908  0.074858   \n",
       "..                           ...             ...       ...       ...   \n",
       "478                            3        0.020086  1.195908  0.074858   \n",
       "479                            1        0.010472  1.195908  0.074858   \n",
       "480                            2        0.009189  1.195908  0.074858   \n",
       "481                            2        0.009430  1.195908  0.074858   \n",
       "482                            1        0.005573  1.195908  0.074858   \n",
       "\n",
       "     Effective_SaT1  \n",
       "0          0.897751  \n",
       "1          0.916526  \n",
       "2          0.754786  \n",
       "3          0.604847  \n",
       "4          0.604847  \n",
       "..              ...  \n",
       "478        0.868699  \n",
       "479        0.754786  \n",
       "480        0.754786  \n",
       "481        0.754786  \n",
       "482        0.846129  \n",
       "\n",
       "[483 rows x 12 columns]"
      ]
     },
     "execution_count": 6,
     "metadata": {},
     "output_type": "execute_result"
    }
   ],
   "source": [
    "X"
   ]
  },
  {
   "cell_type": "code",
   "execution_count": 7,
   "id": "7ff67557",
   "metadata": {},
   "outputs": [],
   "source": [
    "X_train, X_test, y_train, y_test = train_test_split(X, y, test_size=0.2, random_state = 56)"
   ]
  },
  {
   "cell_type": "code",
   "execution_count": 8,
   "id": "70c59d6f",
   "metadata": {},
   "outputs": [
    {
     "data": {
      "text/plain": [
       "((386, 12), (97, 12))"
      ]
     },
     "execution_count": 8,
     "metadata": {},
     "output_type": "execute_result"
    }
   ],
   "source": [
    "X_train.shape, X_test.shape"
   ]
  },
  {
   "cell_type": "code",
   "execution_count": 9,
   "id": "bef763c5",
   "metadata": {},
   "outputs": [
    {
     "data": {
      "text/html": [
       "<div>\n",
       "<style scoped>\n",
       "    .dataframe tbody tr th:only-of-type {\n",
       "        vertical-align: middle;\n",
       "    }\n",
       "\n",
       "    .dataframe tbody tr th {\n",
       "        vertical-align: top;\n",
       "    }\n",
       "\n",
       "    .dataframe thead th {\n",
       "        text-align: right;\n",
       "    }\n",
       "</style>\n",
       "<table border=\"1\" class=\"dataframe\">\n",
       "  <thead>\n",
       "    <tr style=\"text-align: right;\">\n",
       "      <th></th>\n",
       "      <th>Building_height</th>\n",
       "      <th>Building_age</th>\n",
       "      <th>Torsional_irregularity</th>\n",
       "      <th>Projection_in_plan</th>\n",
       "      <th>Minimum_normalized_lateral_stiffness_index</th>\n",
       "      <th>Minimum_normalized_lateral_strength_index</th>\n",
       "      <th>Overhanging_ratio</th>\n",
       "      <th>Normalized_redundancy_score</th>\n",
       "      <th>Priority_index</th>\n",
       "      <th>PGA</th>\n",
       "      <th>PGV/PGA</th>\n",
       "      <th>Effective_SaT1</th>\n",
       "    </tr>\n",
       "  </thead>\n",
       "  <tbody>\n",
       "    <tr>\n",
       "      <th>187</th>\n",
       "      <td>14.25</td>\n",
       "      <td>3.0</td>\n",
       "      <td>2</td>\n",
       "      <td>2</td>\n",
       "      <td>0.173243</td>\n",
       "      <td>1.585854</td>\n",
       "      <td>0.308289</td>\n",
       "      <td>1</td>\n",
       "      <td>0.004945</td>\n",
       "      <td>1.195908</td>\n",
       "      <td>0.074858</td>\n",
       "      <td>0.653230</td>\n",
       "    </tr>\n",
       "    <tr>\n",
       "      <th>270</th>\n",
       "      <td>8.25</td>\n",
       "      <td>10.0</td>\n",
       "      <td>2</td>\n",
       "      <td>2</td>\n",
       "      <td>0.155046</td>\n",
       "      <td>2.653266</td>\n",
       "      <td>0.169548</td>\n",
       "      <td>2</td>\n",
       "      <td>0.010369</td>\n",
       "      <td>1.205237</td>\n",
       "      <td>0.074942</td>\n",
       "      <td>0.878057</td>\n",
       "    </tr>\n",
       "    <tr>\n",
       "      <th>273</th>\n",
       "      <td>8.70</td>\n",
       "      <td>4.0</td>\n",
       "      <td>2</td>\n",
       "      <td>2</td>\n",
       "      <td>0.133317</td>\n",
       "      <td>2.706989</td>\n",
       "      <td>0.114919</td>\n",
       "      <td>1</td>\n",
       "      <td>0.013320</td>\n",
       "      <td>1.204091</td>\n",
       "      <td>0.074943</td>\n",
       "      <td>0.864178</td>\n",
       "    </tr>\n",
       "    <tr>\n",
       "      <th>44</th>\n",
       "      <td>13.50</td>\n",
       "      <td>19.0</td>\n",
       "      <td>2</td>\n",
       "      <td>2</td>\n",
       "      <td>0.106978</td>\n",
       "      <td>1.965828</td>\n",
       "      <td>0.080686</td>\n",
       "      <td>2</td>\n",
       "      <td>0.006453</td>\n",
       "      <td>1.195908</td>\n",
       "      <td>0.074858</td>\n",
       "      <td>0.674768</td>\n",
       "    </tr>\n",
       "    <tr>\n",
       "      <th>293</th>\n",
       "      <td>11.20</td>\n",
       "      <td>12.0</td>\n",
       "      <td>2</td>\n",
       "      <td>2</td>\n",
       "      <td>0.189502</td>\n",
       "      <td>4.322654</td>\n",
       "      <td>0.120824</td>\n",
       "      <td>1</td>\n",
       "      <td>0.015801</td>\n",
       "      <td>1.209780</td>\n",
       "      <td>0.074933</td>\n",
       "      <td>0.754786</td>\n",
       "    </tr>\n",
       "    <tr>\n",
       "      <th>...</th>\n",
       "      <td>...</td>\n",
       "      <td>...</td>\n",
       "      <td>...</td>\n",
       "      <td>...</td>\n",
       "      <td>...</td>\n",
       "      <td>...</td>\n",
       "      <td>...</td>\n",
       "      <td>...</td>\n",
       "      <td>...</td>\n",
       "      <td>...</td>\n",
       "      <td>...</td>\n",
       "      <td>...</td>\n",
       "    </tr>\n",
       "    <tr>\n",
       "      <th>235</th>\n",
       "      <td>8.40</td>\n",
       "      <td>6.0</td>\n",
       "      <td>1</td>\n",
       "      <td>1</td>\n",
       "      <td>0.120482</td>\n",
       "      <td>2.064018</td>\n",
       "      <td>0.113858</td>\n",
       "      <td>1</td>\n",
       "      <td>0.012724</td>\n",
       "      <td>1.188657</td>\n",
       "      <td>0.074936</td>\n",
       "      <td>1.000000</td>\n",
       "    </tr>\n",
       "    <tr>\n",
       "      <th>418</th>\n",
       "      <td>14.00</td>\n",
       "      <td>7.0</td>\n",
       "      <td>2</td>\n",
       "      <td>2</td>\n",
       "      <td>0.083495</td>\n",
       "      <td>1.970405</td>\n",
       "      <td>0.119159</td>\n",
       "      <td>1</td>\n",
       "      <td>0.007019</td>\n",
       "      <td>1.159555</td>\n",
       "      <td>0.074825</td>\n",
       "      <td>0.660204</td>\n",
       "    </tr>\n",
       "    <tr>\n",
       "      <th>192</th>\n",
       "      <td>16.80</td>\n",
       "      <td>7.0</td>\n",
       "      <td>1</td>\n",
       "      <td>2</td>\n",
       "      <td>0.171838</td>\n",
       "      <td>1.830868</td>\n",
       "      <td>0.202245</td>\n",
       "      <td>1</td>\n",
       "      <td>0.005915</td>\n",
       "      <td>1.195908</td>\n",
       "      <td>0.074858</td>\n",
       "      <td>0.591792</td>\n",
       "    </tr>\n",
       "    <tr>\n",
       "      <th>399</th>\n",
       "      <td>18.00</td>\n",
       "      <td>10.0</td>\n",
       "      <td>1</td>\n",
       "      <td>1</td>\n",
       "      <td>0.377627</td>\n",
       "      <td>2.186836</td>\n",
       "      <td>0.113858</td>\n",
       "      <td>2</td>\n",
       "      <td>0.011086</td>\n",
       "      <td>1.176957</td>\n",
       "      <td>0.074904</td>\n",
       "      <td>0.743179</td>\n",
       "    </tr>\n",
       "    <tr>\n",
       "      <th>341</th>\n",
       "      <td>6.60</td>\n",
       "      <td>1.0</td>\n",
       "      <td>2</td>\n",
       "      <td>1</td>\n",
       "      <td>1.029537</td>\n",
       "      <td>4.502778</td>\n",
       "      <td>0.113858</td>\n",
       "      <td>1</td>\n",
       "      <td>0.010028</td>\n",
       "      <td>1.231345</td>\n",
       "      <td>0.074801</td>\n",
       "      <td>1.000000</td>\n",
       "    </tr>\n",
       "  </tbody>\n",
       "</table>\n",
       "<p>386 rows × 12 columns</p>\n",
       "</div>"
      ],
      "text/plain": [
       "     Building_height  Building_age  Torsional_irregularity  \\\n",
       "187            14.25           3.0                       2   \n",
       "270             8.25          10.0                       2   \n",
       "273             8.70           4.0                       2   \n",
       "44             13.50          19.0                       2   \n",
       "293            11.20          12.0                       2   \n",
       "..               ...           ...                     ...   \n",
       "235             8.40           6.0                       1   \n",
       "418            14.00           7.0                       2   \n",
       "192            16.80           7.0                       1   \n",
       "399            18.00          10.0                       1   \n",
       "341             6.60           1.0                       2   \n",
       "\n",
       "     Projection_in_plan  Minimum_normalized_lateral_stiffness_index  \\\n",
       "187                   2                                    0.173243   \n",
       "270                   2                                    0.155046   \n",
       "273                   2                                    0.133317   \n",
       "44                    2                                    0.106978   \n",
       "293                   2                                    0.189502   \n",
       "..                  ...                                         ...   \n",
       "235                   1                                    0.120482   \n",
       "418                   2                                    0.083495   \n",
       "192                   2                                    0.171838   \n",
       "399                   1                                    0.377627   \n",
       "341                   1                                    1.029537   \n",
       "\n",
       "     Minimum_normalized_lateral_strength_index  Overhanging_ratio  \\\n",
       "187                                   1.585854           0.308289   \n",
       "270                                   2.653266           0.169548   \n",
       "273                                   2.706989           0.114919   \n",
       "44                                    1.965828           0.080686   \n",
       "293                                   4.322654           0.120824   \n",
       "..                                         ...                ...   \n",
       "235                                   2.064018           0.113858   \n",
       "418                                   1.970405           0.119159   \n",
       "192                                   1.830868           0.202245   \n",
       "399                                   2.186836           0.113858   \n",
       "341                                   4.502778           0.113858   \n",
       "\n",
       "     Normalized_redundancy_score  Priority_index       PGA   PGV/PGA  \\\n",
       "187                            1        0.004945  1.195908  0.074858   \n",
       "270                            2        0.010369  1.205237  0.074942   \n",
       "273                            1        0.013320  1.204091  0.074943   \n",
       "44                             2        0.006453  1.195908  0.074858   \n",
       "293                            1        0.015801  1.209780  0.074933   \n",
       "..                           ...             ...       ...       ...   \n",
       "235                            1        0.012724  1.188657  0.074936   \n",
       "418                            1        0.007019  1.159555  0.074825   \n",
       "192                            1        0.005915  1.195908  0.074858   \n",
       "399                            2        0.011086  1.176957  0.074904   \n",
       "341                            1        0.010028  1.231345  0.074801   \n",
       "\n",
       "     Effective_SaT1  \n",
       "187        0.653230  \n",
       "270        0.878057  \n",
       "273        0.864178  \n",
       "44         0.674768  \n",
       "293        0.754786  \n",
       "..              ...  \n",
       "235        1.000000  \n",
       "418        0.660204  \n",
       "192        0.591792  \n",
       "399        0.743179  \n",
       "341        1.000000  \n",
       "\n",
       "[386 rows x 12 columns]"
      ]
     },
     "execution_count": 9,
     "metadata": {},
     "output_type": "execute_result"
    }
   ],
   "source": [
    "X_train"
   ]
  },
  {
   "cell_type": "markdown",
   "id": "4c4873ff",
   "metadata": {},
   "source": [
    "# Dealing with Categorical Values"
   ]
  },
  {
   "cell_type": "markdown",
   "id": "f3bbe09e",
   "metadata": {},
   "source": [
    "# Label Encoding"
   ]
  },
  {
   "cell_type": "code",
   "execution_count": 10,
   "id": "6fb6fbcc",
   "metadata": {},
   "outputs": [],
   "source": [
    "# Used for musticlass target variable.\n",
    "\n",
    "from sklearn.preprocessing import LabelEncoder\n",
    "le = LabelEncoder()"
   ]
  },
  {
   "cell_type": "code",
   "execution_count": 11,
   "id": "381421e4",
   "metadata": {},
   "outputs": [
    {
     "data": {
      "text/html": [
       "<style>#sk-container-id-1 {color: black;}#sk-container-id-1 pre{padding: 0;}#sk-container-id-1 div.sk-toggleable {background-color: white;}#sk-container-id-1 label.sk-toggleable__label {cursor: pointer;display: block;width: 100%;margin-bottom: 0;padding: 0.3em;box-sizing: border-box;text-align: center;}#sk-container-id-1 label.sk-toggleable__label-arrow:before {content: \"▸\";float: left;margin-right: 0.25em;color: #696969;}#sk-container-id-1 label.sk-toggleable__label-arrow:hover:before {color: black;}#sk-container-id-1 div.sk-estimator:hover label.sk-toggleable__label-arrow:before {color: black;}#sk-container-id-1 div.sk-toggleable__content {max-height: 0;max-width: 0;overflow: hidden;text-align: left;background-color: #f0f8ff;}#sk-container-id-1 div.sk-toggleable__content pre {margin: 0.2em;color: black;border-radius: 0.25em;background-color: #f0f8ff;}#sk-container-id-1 input.sk-toggleable__control:checked~div.sk-toggleable__content {max-height: 200px;max-width: 100%;overflow: auto;}#sk-container-id-1 input.sk-toggleable__control:checked~label.sk-toggleable__label-arrow:before {content: \"▾\";}#sk-container-id-1 div.sk-estimator input.sk-toggleable__control:checked~label.sk-toggleable__label {background-color: #d4ebff;}#sk-container-id-1 div.sk-label input.sk-toggleable__control:checked~label.sk-toggleable__label {background-color: #d4ebff;}#sk-container-id-1 input.sk-hidden--visually {border: 0;clip: rect(1px 1px 1px 1px);clip: rect(1px, 1px, 1px, 1px);height: 1px;margin: -1px;overflow: hidden;padding: 0;position: absolute;width: 1px;}#sk-container-id-1 div.sk-estimator {font-family: monospace;background-color: #f0f8ff;border: 1px dotted black;border-radius: 0.25em;box-sizing: border-box;margin-bottom: 0.5em;}#sk-container-id-1 div.sk-estimator:hover {background-color: #d4ebff;}#sk-container-id-1 div.sk-parallel-item::after {content: \"\";width: 100%;border-bottom: 1px solid gray;flex-grow: 1;}#sk-container-id-1 div.sk-label:hover label.sk-toggleable__label {background-color: #d4ebff;}#sk-container-id-1 div.sk-serial::before {content: \"\";position: absolute;border-left: 1px solid gray;box-sizing: border-box;top: 0;bottom: 0;left: 50%;z-index: 0;}#sk-container-id-1 div.sk-serial {display: flex;flex-direction: column;align-items: center;background-color: white;padding-right: 0.2em;padding-left: 0.2em;position: relative;}#sk-container-id-1 div.sk-item {position: relative;z-index: 1;}#sk-container-id-1 div.sk-parallel {display: flex;align-items: stretch;justify-content: center;background-color: white;position: relative;}#sk-container-id-1 div.sk-item::before, #sk-container-id-1 div.sk-parallel-item::before {content: \"\";position: absolute;border-left: 1px solid gray;box-sizing: border-box;top: 0;bottom: 0;left: 50%;z-index: -1;}#sk-container-id-1 div.sk-parallel-item {display: flex;flex-direction: column;z-index: 1;position: relative;background-color: white;}#sk-container-id-1 div.sk-parallel-item:first-child::after {align-self: flex-end;width: 50%;}#sk-container-id-1 div.sk-parallel-item:last-child::after {align-self: flex-start;width: 50%;}#sk-container-id-1 div.sk-parallel-item:only-child::after {width: 0;}#sk-container-id-1 div.sk-dashed-wrapped {border: 1px dashed gray;margin: 0 0.4em 0.5em 0.4em;box-sizing: border-box;padding-bottom: 0.4em;background-color: white;}#sk-container-id-1 div.sk-label label {font-family: monospace;font-weight: bold;display: inline-block;line-height: 1.2em;}#sk-container-id-1 div.sk-label-container {text-align: center;}#sk-container-id-1 div.sk-container {/* jupyter's `normalize.less` sets `[hidden] { display: none; }` but bootstrap.min.css set `[hidden] { display: none !important; }` so we also need the `!important` here to be able to override the default hidden behavior on the sphinx rendered scikit-learn.org. See: https://github.com/scikit-learn/scikit-learn/issues/21755 */display: inline-block !important;position: relative;}#sk-container-id-1 div.sk-text-repr-fallback {display: none;}</style><div id=\"sk-container-id-1\" class=\"sk-top-container\"><div class=\"sk-text-repr-fallback\"><pre>LabelEncoder()</pre><b>In a Jupyter environment, please rerun this cell to show the HTML representation or trust the notebook. <br />On GitHub, the HTML representation is unable to render, please try loading this page with nbviewer.org.</b></div><div class=\"sk-container\" hidden><div class=\"sk-item\"><div class=\"sk-estimator sk-toggleable\"><input class=\"sk-toggleable__control sk-hidden--visually\" id=\"sk-estimator-id-1\" type=\"checkbox\" checked><label for=\"sk-estimator-id-1\" class=\"sk-toggleable__label sk-toggleable__label-arrow\">LabelEncoder</label><div class=\"sk-toggleable__content\"><pre>LabelEncoder()</pre></div></div></div></div></div>"
      ],
      "text/plain": [
       "LabelEncoder()"
      ]
     },
     "execution_count": 11,
     "metadata": {},
     "output_type": "execute_result"
    }
   ],
   "source": [
    "le.fit(y_train)"
   ]
  },
  {
   "cell_type": "code",
   "execution_count": 12,
   "id": "734b8b6f",
   "metadata": {},
   "outputs": [
    {
     "data": {
      "text/plain": [
       "array(['C/R', 'L', 'M', 'N', 'S'], dtype=object)"
      ]
     },
     "execution_count": 12,
     "metadata": {},
     "output_type": "execute_result"
    }
   ],
   "source": [
    "le.classes_"
   ]
  },
  {
   "cell_type": "code",
   "execution_count": 13,
   "id": "08eee4b0",
   "metadata": {},
   "outputs": [],
   "source": [
    "y_train = le.transform(y_train)\n",
    "y_test = le.transform(y_test)"
   ]
  },
  {
   "cell_type": "code",
   "execution_count": 14,
   "id": "7b24e92f",
   "metadata": {},
   "outputs": [
    {
     "data": {
      "text/plain": [
       "array([0, 1, 2, 3, 2, 2, 2, 1, 1, 4, 1, 2, 2, 1, 2, 4, 2, 4, 2, 3, 4, 1,\n",
       "       2, 1, 0, 2, 2, 2, 4, 2, 2, 0, 2, 0, 2, 0, 3, 3, 4, 2, 1, 2, 3, 2,\n",
       "       3, 2, 2, 1, 2, 4, 3, 1, 2, 2, 2, 2, 0, 0, 1, 2, 1, 2, 4, 1, 1, 1,\n",
       "       4, 4, 1, 2, 0, 3, 3, 4, 1, 1, 2, 1, 3, 2, 2, 2, 2, 2, 0, 2, 2, 3,\n",
       "       2, 3, 0, 4, 0, 1, 0, 4, 4, 1, 2, 3, 0, 2, 4, 2, 1, 1, 2, 1, 4, 4,\n",
       "       2, 2, 4, 3, 1, 2, 0, 3, 1, 2, 1, 1, 3, 4, 1, 1, 4, 4, 1, 0, 3, 2,\n",
       "       2, 2, 2, 2, 1, 2, 1, 1, 2, 1, 0, 4, 2, 4, 1, 1, 3, 1, 4, 2, 1, 2,\n",
       "       3, 1, 3, 1, 4, 4, 4, 0, 0, 1, 1, 2, 0, 0, 1, 3, 2, 1, 0, 4, 1, 0,\n",
       "       4, 2, 3, 3, 1, 3, 3, 3, 1, 1, 4, 2, 2, 0, 1, 1, 1, 2, 2, 4, 0, 1,\n",
       "       4, 1, 3, 3, 0, 2, 1, 4, 3, 2, 3, 1, 2, 2, 2, 2, 1, 2, 1, 3, 0, 4,\n",
       "       1, 0, 3, 3, 1, 2, 2, 1, 1, 3, 0, 2, 2, 0, 3, 1, 0, 2, 0, 3, 1, 3,\n",
       "       2, 1, 3, 0, 2, 0, 0, 2, 3, 1, 1, 3, 1, 1, 2, 3, 1, 0, 0, 1, 3, 4,\n",
       "       1, 1, 0, 2, 1, 1, 3, 0, 1, 0, 2, 1, 2, 0, 3, 1, 1, 4, 1, 2, 2, 4,\n",
       "       1, 4, 1, 1, 4, 2, 1, 4, 1, 1, 1, 2, 1, 4, 0, 4, 2, 0, 1, 2, 1, 2,\n",
       "       2, 2, 1, 2, 0, 2, 2, 3, 0, 0, 2, 3, 1, 0, 2, 1, 0, 2, 2, 1, 1, 2,\n",
       "       0, 2, 3, 0, 0, 2, 1, 2, 1, 2, 1, 2, 4, 1, 1, 1, 2, 1, 1, 1, 1, 2,\n",
       "       1, 2, 1, 4, 4, 2, 2, 3, 2, 1, 2, 4, 2, 1, 1, 0, 4, 3, 2, 1, 1, 1,\n",
       "       2, 4, 2, 1, 1, 2, 4, 1, 3, 0, 3, 1])"
      ]
     },
     "execution_count": 14,
     "metadata": {},
     "output_type": "execute_result"
    }
   ],
   "source": [
    "y_train"
   ]
  },
  {
   "cell_type": "code",
   "execution_count": 15,
   "id": "9303586d",
   "metadata": {},
   "outputs": [
    {
     "data": {
      "text/plain": [
       "array([1, 0, 2, 2, 1, 2, 2, 0, 0, 2, 1, 1, 1, 4, 0, 2, 1, 1, 2, 1, 1, 1,\n",
       "       0, 4, 3, 1, 1, 2, 4, 0, 4, 1, 0, 3, 2, 2, 0, 2, 3, 2, 2, 2, 2, 1,\n",
       "       2, 0, 1, 3, 2, 2, 4, 2, 0, 2, 1, 1, 1, 2, 1, 1, 4, 3, 2, 3, 2, 1,\n",
       "       4, 1, 1, 1, 1, 1, 3, 1, 2, 4, 1, 2, 3, 2, 2, 1, 2, 2, 2, 1, 2, 1,\n",
       "       2, 2, 4, 2, 3, 0, 0, 3, 1])"
      ]
     },
     "execution_count": 15,
     "metadata": {},
     "output_type": "execute_result"
    }
   ],
   "source": [
    "y_test"
   ]
  },
  {
   "cell_type": "markdown",
   "id": "420d582b",
   "metadata": {},
   "source": [
    "# Feature Scaling (Standardization)"
   ]
  },
  {
   "cell_type": "code",
   "execution_count": 16,
   "id": "e6417445",
   "metadata": {},
   "outputs": [],
   "source": [
    "# Feature scaling shoud be done after data splitting.There should be no influence on test data.\n",
    "\n",
    "from sklearn.preprocessing import StandardScaler\n",
    "sc = StandardScaler()\n",
    "X_train.iloc[:,:-1] = sc.fit_transform(X_train.iloc[:,:-1])\n",
    "\n",
    "# Not using fit method so that model doesn't know the mean and standard deviation of the test dataset\n",
    "\n",
    "X_test.iloc[:,:-1] = sc.transform(X_test.iloc[:,:-1])"
   ]
  },
  {
   "cell_type": "code",
   "execution_count": 17,
   "id": "ffdbc758",
   "metadata": {},
   "outputs": [
    {
     "data": {
      "text/html": [
       "<div>\n",
       "<style scoped>\n",
       "    .dataframe tbody tr th:only-of-type {\n",
       "        vertical-align: middle;\n",
       "    }\n",
       "\n",
       "    .dataframe tbody tr th {\n",
       "        vertical-align: top;\n",
       "    }\n",
       "\n",
       "    .dataframe thead th {\n",
       "        text-align: right;\n",
       "    }\n",
       "</style>\n",
       "<table border=\"1\" class=\"dataframe\">\n",
       "  <thead>\n",
       "    <tr style=\"text-align: right;\">\n",
       "      <th></th>\n",
       "      <th>Building_height</th>\n",
       "      <th>Building_age</th>\n",
       "      <th>Torsional_irregularity</th>\n",
       "      <th>Projection_in_plan</th>\n",
       "      <th>Minimum_normalized_lateral_stiffness_index</th>\n",
       "      <th>Minimum_normalized_lateral_strength_index</th>\n",
       "      <th>Overhanging_ratio</th>\n",
       "      <th>Normalized_redundancy_score</th>\n",
       "      <th>Priority_index</th>\n",
       "      <th>PGA</th>\n",
       "      <th>PGV/PGA</th>\n",
       "      <th>Effective_SaT1</th>\n",
       "    </tr>\n",
       "  </thead>\n",
       "  <tbody>\n",
       "    <tr>\n",
       "      <th>187</th>\n",
       "      <td>1.017980</td>\n",
       "      <td>-0.146702</td>\n",
       "      <td>0.974420</td>\n",
       "      <td>0.340010</td>\n",
       "      <td>0.211307</td>\n",
       "      <td>-1.024047</td>\n",
       "      <td>3.286302</td>\n",
       "      <td>-0.623172</td>\n",
       "      <td>-1.216134</td>\n",
       "      <td>0.017712</td>\n",
       "      <td>-0.070883</td>\n",
       "      <td>0.653230</td>\n",
       "    </tr>\n",
       "    <tr>\n",
       "      <th>270</th>\n",
       "      <td>-1.250226</td>\n",
       "      <td>-0.077641</td>\n",
       "      <td>0.974420</td>\n",
       "      <td>0.340010</td>\n",
       "      <td>0.103375</td>\n",
       "      <td>0.193059</td>\n",
       "      <td>0.951810</td>\n",
       "      <td>0.775342</td>\n",
       "      <td>-0.401027</td>\n",
       "      <td>0.720345</td>\n",
       "      <td>0.328695</td>\n",
       "      <td>0.878057</td>\n",
       "    </tr>\n",
       "    <tr>\n",
       "      <th>273</th>\n",
       "      <td>-1.080111</td>\n",
       "      <td>-0.136836</td>\n",
       "      <td>0.974420</td>\n",
       "      <td>0.340010</td>\n",
       "      <td>-0.025509</td>\n",
       "      <td>0.254316</td>\n",
       "      <td>0.032623</td>\n",
       "      <td>-0.623172</td>\n",
       "      <td>0.042524</td>\n",
       "      <td>0.634070</td>\n",
       "      <td>0.335866</td>\n",
       "      <td>0.864178</td>\n",
       "    </tr>\n",
       "    <tr>\n",
       "      <th>44</th>\n",
       "      <td>0.734454</td>\n",
       "      <td>0.011152</td>\n",
       "      <td>0.974420</td>\n",
       "      <td>0.340010</td>\n",
       "      <td>-0.181730</td>\n",
       "      <td>-0.590786</td>\n",
       "      <td>-0.543386</td>\n",
       "      <td>0.775342</td>\n",
       "      <td>-0.989458</td>\n",
       "      <td>0.017712</td>\n",
       "      <td>-0.070883</td>\n",
       "      <td>0.674768</td>\n",
       "    </tr>\n",
       "    <tr>\n",
       "      <th>293</th>\n",
       "      <td>-0.135025</td>\n",
       "      <td>-0.057909</td>\n",
       "      <td>0.974420</td>\n",
       "      <td>0.340010</td>\n",
       "      <td>0.307745</td>\n",
       "      <td>2.096562</td>\n",
       "      <td>0.131972</td>\n",
       "      <td>-0.623172</td>\n",
       "      <td>0.415386</td>\n",
       "      <td>1.062528</td>\n",
       "      <td>0.284847</td>\n",
       "      <td>0.754786</td>\n",
       "    </tr>\n",
       "    <tr>\n",
       "      <th>...</th>\n",
       "      <td>...</td>\n",
       "      <td>...</td>\n",
       "      <td>...</td>\n",
       "      <td>...</td>\n",
       "      <td>...</td>\n",
       "      <td>...</td>\n",
       "      <td>...</td>\n",
       "      <td>...</td>\n",
       "      <td>...</td>\n",
       "      <td>...</td>\n",
       "      <td>...</td>\n",
       "      <td>...</td>\n",
       "    </tr>\n",
       "    <tr>\n",
       "      <th>235</th>\n",
       "      <td>-1.193521</td>\n",
       "      <td>-0.117104</td>\n",
       "      <td>-1.026251</td>\n",
       "      <td>-2.941088</td>\n",
       "      <td>-0.101637</td>\n",
       "      <td>-0.478826</td>\n",
       "      <td>0.014771</td>\n",
       "      <td>-0.623172</td>\n",
       "      <td>-0.047104</td>\n",
       "      <td>-0.528416</td>\n",
       "      <td>0.302500</td>\n",
       "      <td>1.000000</td>\n",
       "    </tr>\n",
       "    <tr>\n",
       "      <th>418</th>\n",
       "      <td>0.923472</td>\n",
       "      <td>-0.107238</td>\n",
       "      <td>0.974420</td>\n",
       "      <td>0.340010</td>\n",
       "      <td>-0.321015</td>\n",
       "      <td>-0.585566</td>\n",
       "      <td>0.103958</td>\n",
       "      <td>-0.623172</td>\n",
       "      <td>-0.904456</td>\n",
       "      <td>-2.720372</td>\n",
       "      <td>-0.230764</td>\n",
       "      <td>0.660204</td>\n",
       "    </tr>\n",
       "    <tr>\n",
       "      <th>192</th>\n",
       "      <td>1.981968</td>\n",
       "      <td>-0.107238</td>\n",
       "      <td>-1.026251</td>\n",
       "      <td>0.340010</td>\n",
       "      <td>0.202974</td>\n",
       "      <td>-0.744672</td>\n",
       "      <td>1.501982</td>\n",
       "      <td>-0.623172</td>\n",
       "      <td>-1.070301</td>\n",
       "      <td>0.017712</td>\n",
       "      <td>-0.070883</td>\n",
       "      <td>0.591792</td>\n",
       "    </tr>\n",
       "    <tr>\n",
       "      <th>399</th>\n",
       "      <td>2.435609</td>\n",
       "      <td>-0.077641</td>\n",
       "      <td>-1.026251</td>\n",
       "      <td>-2.941088</td>\n",
       "      <td>1.423567</td>\n",
       "      <td>-0.338783</td>\n",
       "      <td>0.014771</td>\n",
       "      <td>0.775342</td>\n",
       "      <td>-0.293234</td>\n",
       "      <td>-1.409640</td>\n",
       "      <td>0.146989</td>\n",
       "      <td>0.743179</td>\n",
       "    </tr>\n",
       "    <tr>\n",
       "      <th>341</th>\n",
       "      <td>-1.873983</td>\n",
       "      <td>-0.166434</td>\n",
       "      <td>0.974420</td>\n",
       "      <td>-2.941088</td>\n",
       "      <td>5.290232</td>\n",
       "      <td>2.301946</td>\n",
       "      <td>0.014771</td>\n",
       "      <td>-0.623172</td>\n",
       "      <td>-0.452234</td>\n",
       "      <td>2.686762</td>\n",
       "      <td>-0.342585</td>\n",
       "      <td>1.000000</td>\n",
       "    </tr>\n",
       "  </tbody>\n",
       "</table>\n",
       "<p>386 rows × 12 columns</p>\n",
       "</div>"
      ],
      "text/plain": [
       "     Building_height  Building_age  Torsional_irregularity  \\\n",
       "187         1.017980     -0.146702                0.974420   \n",
       "270        -1.250226     -0.077641                0.974420   \n",
       "273        -1.080111     -0.136836                0.974420   \n",
       "44          0.734454      0.011152                0.974420   \n",
       "293        -0.135025     -0.057909                0.974420   \n",
       "..               ...           ...                     ...   \n",
       "235        -1.193521     -0.117104               -1.026251   \n",
       "418         0.923472     -0.107238                0.974420   \n",
       "192         1.981968     -0.107238               -1.026251   \n",
       "399         2.435609     -0.077641               -1.026251   \n",
       "341        -1.873983     -0.166434                0.974420   \n",
       "\n",
       "     Projection_in_plan  Minimum_normalized_lateral_stiffness_index  \\\n",
       "187            0.340010                                    0.211307   \n",
       "270            0.340010                                    0.103375   \n",
       "273            0.340010                                   -0.025509   \n",
       "44             0.340010                                   -0.181730   \n",
       "293            0.340010                                    0.307745   \n",
       "..                  ...                                         ...   \n",
       "235           -2.941088                                   -0.101637   \n",
       "418            0.340010                                   -0.321015   \n",
       "192            0.340010                                    0.202974   \n",
       "399           -2.941088                                    1.423567   \n",
       "341           -2.941088                                    5.290232   \n",
       "\n",
       "     Minimum_normalized_lateral_strength_index  Overhanging_ratio  \\\n",
       "187                                  -1.024047           3.286302   \n",
       "270                                   0.193059           0.951810   \n",
       "273                                   0.254316           0.032623   \n",
       "44                                   -0.590786          -0.543386   \n",
       "293                                   2.096562           0.131972   \n",
       "..                                         ...                ...   \n",
       "235                                  -0.478826           0.014771   \n",
       "418                                  -0.585566           0.103958   \n",
       "192                                  -0.744672           1.501982   \n",
       "399                                  -0.338783           0.014771   \n",
       "341                                   2.301946           0.014771   \n",
       "\n",
       "     Normalized_redundancy_score  Priority_index       PGA   PGV/PGA  \\\n",
       "187                    -0.623172       -1.216134  0.017712 -0.070883   \n",
       "270                     0.775342       -0.401027  0.720345  0.328695   \n",
       "273                    -0.623172        0.042524  0.634070  0.335866   \n",
       "44                      0.775342       -0.989458  0.017712 -0.070883   \n",
       "293                    -0.623172        0.415386  1.062528  0.284847   \n",
       "..                           ...             ...       ...       ...   \n",
       "235                    -0.623172       -0.047104 -0.528416  0.302500   \n",
       "418                    -0.623172       -0.904456 -2.720372 -0.230764   \n",
       "192                    -0.623172       -1.070301  0.017712 -0.070883   \n",
       "399                     0.775342       -0.293234 -1.409640  0.146989   \n",
       "341                    -0.623172       -0.452234  2.686762 -0.342585   \n",
       "\n",
       "     Effective_SaT1  \n",
       "187        0.653230  \n",
       "270        0.878057  \n",
       "273        0.864178  \n",
       "44         0.674768  \n",
       "293        0.754786  \n",
       "..              ...  \n",
       "235        1.000000  \n",
       "418        0.660204  \n",
       "192        0.591792  \n",
       "399        0.743179  \n",
       "341        1.000000  \n",
       "\n",
       "[386 rows x 12 columns]"
      ]
     },
     "execution_count": 17,
     "metadata": {},
     "output_type": "execute_result"
    }
   ],
   "source": [
    "X_train"
   ]
  },
  {
   "cell_type": "code",
   "execution_count": 18,
   "id": "f34c5f19",
   "metadata": {},
   "outputs": [
    {
     "data": {
      "text/html": [
       "<div>\n",
       "<style scoped>\n",
       "    .dataframe tbody tr th:only-of-type {\n",
       "        vertical-align: middle;\n",
       "    }\n",
       "\n",
       "    .dataframe tbody tr th {\n",
       "        vertical-align: top;\n",
       "    }\n",
       "\n",
       "    .dataframe thead th {\n",
       "        text-align: right;\n",
       "    }\n",
       "</style>\n",
       "<table border=\"1\" class=\"dataframe\">\n",
       "  <thead>\n",
       "    <tr style=\"text-align: right;\">\n",
       "      <th></th>\n",
       "      <th>Building_height</th>\n",
       "      <th>Building_age</th>\n",
       "      <th>Torsional_irregularity</th>\n",
       "      <th>Projection_in_plan</th>\n",
       "      <th>Minimum_normalized_lateral_stiffness_index</th>\n",
       "      <th>Minimum_normalized_lateral_strength_index</th>\n",
       "      <th>Overhanging_ratio</th>\n",
       "      <th>Normalized_redundancy_score</th>\n",
       "      <th>Priority_index</th>\n",
       "      <th>PGA</th>\n",
       "      <th>PGV/PGA</th>\n",
       "      <th>Effective_SaT1</th>\n",
       "    </tr>\n",
       "  </thead>\n",
       "  <tbody>\n",
       "    <tr>\n",
       "      <th>97</th>\n",
       "      <td>-2.176411</td>\n",
       "      <td>0.090079</td>\n",
       "      <td>-1.026251</td>\n",
       "      <td>0.340010</td>\n",
       "      <td>-0.622277</td>\n",
       "      <td>-0.077721</td>\n",
       "      <td>0.122539</td>\n",
       "      <td>2.173856</td>\n",
       "      <td>0.144734</td>\n",
       "      <td>-0.698284</td>\n",
       "      <td>-2.736524</td>\n",
       "      <td>0.975957</td>\n",
       "    </tr>\n",
       "    <tr>\n",
       "      <th>167</th>\n",
       "      <td>-0.135025</td>\n",
       "      <td>-0.107238</td>\n",
       "      <td>-1.026251</td>\n",
       "      <td>0.340010</td>\n",
       "      <td>0.060195</td>\n",
       "      <td>-0.303897</td>\n",
       "      <td>0.258540</td>\n",
       "      <td>-0.623172</td>\n",
       "      <td>-0.461245</td>\n",
       "      <td>0.017712</td>\n",
       "      <td>-0.070883</td>\n",
       "      <td>0.754786</td>\n",
       "    </tr>\n",
       "    <tr>\n",
       "      <th>66</th>\n",
       "      <td>-0.286239</td>\n",
       "      <td>-0.146702</td>\n",
       "      <td>0.974420</td>\n",
       "      <td>0.340010</td>\n",
       "      <td>-0.054469</td>\n",
       "      <td>0.001726</td>\n",
       "      <td>1.428988</td>\n",
       "      <td>-0.623172</td>\n",
       "      <td>-0.914037</td>\n",
       "      <td>0.017712</td>\n",
       "      <td>-0.070883</td>\n",
       "      <td>0.771437</td>\n",
       "    </tr>\n",
       "    <tr>\n",
       "      <th>442</th>\n",
       "      <td>0.923472</td>\n",
       "      <td>-0.126970</td>\n",
       "      <td>0.974420</td>\n",
       "      <td>0.340010</td>\n",
       "      <td>0.679002</td>\n",
       "      <td>-0.311285</td>\n",
       "      <td>1.198192</td>\n",
       "      <td>-0.623172</td>\n",
       "      <td>-1.135556</td>\n",
       "      <td>0.017712</td>\n",
       "      <td>-0.070883</td>\n",
       "      <td>0.660204</td>\n",
       "    </tr>\n",
       "    <tr>\n",
       "      <th>294</th>\n",
       "      <td>-1.080111</td>\n",
       "      <td>0.021018</td>\n",
       "      <td>0.974420</td>\n",
       "      <td>0.340010</td>\n",
       "      <td>-0.628405</td>\n",
       "      <td>-1.045358</td>\n",
       "      <td>1.081222</td>\n",
       "      <td>0.775342</td>\n",
       "      <td>-1.084468</td>\n",
       "      <td>1.062528</td>\n",
       "      <td>0.284847</td>\n",
       "      <td>0.864178</td>\n",
       "    </tr>\n",
       "    <tr>\n",
       "      <th>...</th>\n",
       "      <td>...</td>\n",
       "      <td>...</td>\n",
       "      <td>...</td>\n",
       "      <td>...</td>\n",
       "      <td>...</td>\n",
       "      <td>...</td>\n",
       "      <td>...</td>\n",
       "      <td>...</td>\n",
       "      <td>...</td>\n",
       "      <td>...</td>\n",
       "      <td>...</td>\n",
       "      <td>...</td>\n",
       "    </tr>\n",
       "    <tr>\n",
       "      <th>47</th>\n",
       "      <td>0.923472</td>\n",
       "      <td>-0.097373</td>\n",
       "      <td>0.974420</td>\n",
       "      <td>0.340010</td>\n",
       "      <td>-0.632005</td>\n",
       "      <td>-0.412955</td>\n",
       "      <td>0.014771</td>\n",
       "      <td>2.173856</td>\n",
       "      <td>0.292564</td>\n",
       "      <td>0.017712</td>\n",
       "      <td>-0.070883</td>\n",
       "      <td>0.857180</td>\n",
       "    </tr>\n",
       "    <tr>\n",
       "      <th>204</th>\n",
       "      <td>0.016189</td>\n",
       "      <td>0.040750</td>\n",
       "      <td>-1.026251</td>\n",
       "      <td>0.340010</td>\n",
       "      <td>-0.287000</td>\n",
       "      <td>0.450925</td>\n",
       "      <td>-0.521539</td>\n",
       "      <td>-0.623172</td>\n",
       "      <td>-1.038896</td>\n",
       "      <td>0.017712</td>\n",
       "      <td>-0.070883</td>\n",
       "      <td>0.906928</td>\n",
       "    </tr>\n",
       "    <tr>\n",
       "      <th>223</th>\n",
       "      <td>0.923472</td>\n",
       "      <td>-0.166434</td>\n",
       "      <td>-1.026251</td>\n",
       "      <td>-2.941088</td>\n",
       "      <td>0.165395</td>\n",
       "      <td>-0.310699</td>\n",
       "      <td>-1.809561</td>\n",
       "      <td>-0.623172</td>\n",
       "      <td>-0.801635</td>\n",
       "      <td>0.017712</td>\n",
       "      <td>-0.070883</td>\n",
       "      <td>0.660204</td>\n",
       "    </tr>\n",
       "    <tr>\n",
       "      <th>389</th>\n",
       "      <td>-1.193521</td>\n",
       "      <td>0.109811</td>\n",
       "      <td>-1.026251</td>\n",
       "      <td>0.340010</td>\n",
       "      <td>0.595522</td>\n",
       "      <td>2.294978</td>\n",
       "      <td>0.014771</td>\n",
       "      <td>0.775342</td>\n",
       "      <td>1.923114</td>\n",
       "      <td>-0.686366</td>\n",
       "      <td>0.281788</td>\n",
       "      <td>0.873324</td>\n",
       "    </tr>\n",
       "    <tr>\n",
       "      <th>126</th>\n",
       "      <td>-0.135025</td>\n",
       "      <td>-0.018445</td>\n",
       "      <td>0.974420</td>\n",
       "      <td>0.340010</td>\n",
       "      <td>-0.228452</td>\n",
       "      <td>-0.521784</td>\n",
       "      <td>-1.091261</td>\n",
       "      <td>0.775342</td>\n",
       "      <td>1.230688</td>\n",
       "      <td>0.220534</td>\n",
       "      <td>-2.586028</td>\n",
       "      <td>0.916526</td>\n",
       "    </tr>\n",
       "  </tbody>\n",
       "</table>\n",
       "<p>97 rows × 12 columns</p>\n",
       "</div>"
      ],
      "text/plain": [
       "     Building_height  Building_age  Torsional_irregularity  \\\n",
       "97         -2.176411      0.090079               -1.026251   \n",
       "167        -0.135025     -0.107238               -1.026251   \n",
       "66         -0.286239     -0.146702                0.974420   \n",
       "442         0.923472     -0.126970                0.974420   \n",
       "294        -1.080111      0.021018                0.974420   \n",
       "..               ...           ...                     ...   \n",
       "47          0.923472     -0.097373                0.974420   \n",
       "204         0.016189      0.040750               -1.026251   \n",
       "223         0.923472     -0.166434               -1.026251   \n",
       "389        -1.193521      0.109811               -1.026251   \n",
       "126        -0.135025     -0.018445                0.974420   \n",
       "\n",
       "     Projection_in_plan  Minimum_normalized_lateral_stiffness_index  \\\n",
       "97             0.340010                                   -0.622277   \n",
       "167            0.340010                                    0.060195   \n",
       "66             0.340010                                   -0.054469   \n",
       "442            0.340010                                    0.679002   \n",
       "294            0.340010                                   -0.628405   \n",
       "..                  ...                                         ...   \n",
       "47             0.340010                                   -0.632005   \n",
       "204            0.340010                                   -0.287000   \n",
       "223           -2.941088                                    0.165395   \n",
       "389            0.340010                                    0.595522   \n",
       "126            0.340010                                   -0.228452   \n",
       "\n",
       "     Minimum_normalized_lateral_strength_index  Overhanging_ratio  \\\n",
       "97                                   -0.077721           0.122539   \n",
       "167                                  -0.303897           0.258540   \n",
       "66                                    0.001726           1.428988   \n",
       "442                                  -0.311285           1.198192   \n",
       "294                                  -1.045358           1.081222   \n",
       "..                                         ...                ...   \n",
       "47                                   -0.412955           0.014771   \n",
       "204                                   0.450925          -0.521539   \n",
       "223                                  -0.310699          -1.809561   \n",
       "389                                   2.294978           0.014771   \n",
       "126                                  -0.521784          -1.091261   \n",
       "\n",
       "     Normalized_redundancy_score  Priority_index       PGA   PGV/PGA  \\\n",
       "97                      2.173856        0.144734 -0.698284 -2.736524   \n",
       "167                    -0.623172       -0.461245  0.017712 -0.070883   \n",
       "66                     -0.623172       -0.914037  0.017712 -0.070883   \n",
       "442                    -0.623172       -1.135556  0.017712 -0.070883   \n",
       "294                     0.775342       -1.084468  1.062528  0.284847   \n",
       "..                           ...             ...       ...       ...   \n",
       "47                      2.173856        0.292564  0.017712 -0.070883   \n",
       "204                    -0.623172       -1.038896  0.017712 -0.070883   \n",
       "223                    -0.623172       -0.801635  0.017712 -0.070883   \n",
       "389                     0.775342        1.923114 -0.686366  0.281788   \n",
       "126                     0.775342        1.230688  0.220534 -2.586028   \n",
       "\n",
       "     Effective_SaT1  \n",
       "97         0.975957  \n",
       "167        0.754786  \n",
       "66         0.771437  \n",
       "442        0.660204  \n",
       "294        0.864178  \n",
       "..              ...  \n",
       "47         0.857180  \n",
       "204        0.906928  \n",
       "223        0.660204  \n",
       "389        0.873324  \n",
       "126        0.916526  \n",
       "\n",
       "[97 rows x 12 columns]"
      ]
     },
     "execution_count": 18,
     "metadata": {},
     "output_type": "execute_result"
    }
   ],
   "source": [
    "X_test"
   ]
  },
  {
   "cell_type": "markdown",
   "id": "db198c43",
   "metadata": {},
   "source": [
    "# Creating Model"
   ]
  },
  {
   "cell_type": "code",
   "execution_count": 19,
   "id": "e0254607",
   "metadata": {},
   "outputs": [],
   "source": [
    "clf = RandomForestClassifier(max_samples=0.75,random_state=42)"
   ]
  },
  {
   "cell_type": "code",
   "execution_count": 20,
   "id": "832b39fe",
   "metadata": {},
   "outputs": [
    {
     "data": {
      "text/html": [
       "<style>#sk-container-id-2 {color: black;}#sk-container-id-2 pre{padding: 0;}#sk-container-id-2 div.sk-toggleable {background-color: white;}#sk-container-id-2 label.sk-toggleable__label {cursor: pointer;display: block;width: 100%;margin-bottom: 0;padding: 0.3em;box-sizing: border-box;text-align: center;}#sk-container-id-2 label.sk-toggleable__label-arrow:before {content: \"▸\";float: left;margin-right: 0.25em;color: #696969;}#sk-container-id-2 label.sk-toggleable__label-arrow:hover:before {color: black;}#sk-container-id-2 div.sk-estimator:hover label.sk-toggleable__label-arrow:before {color: black;}#sk-container-id-2 div.sk-toggleable__content {max-height: 0;max-width: 0;overflow: hidden;text-align: left;background-color: #f0f8ff;}#sk-container-id-2 div.sk-toggleable__content pre {margin: 0.2em;color: black;border-radius: 0.25em;background-color: #f0f8ff;}#sk-container-id-2 input.sk-toggleable__control:checked~div.sk-toggleable__content {max-height: 200px;max-width: 100%;overflow: auto;}#sk-container-id-2 input.sk-toggleable__control:checked~label.sk-toggleable__label-arrow:before {content: \"▾\";}#sk-container-id-2 div.sk-estimator input.sk-toggleable__control:checked~label.sk-toggleable__label {background-color: #d4ebff;}#sk-container-id-2 div.sk-label input.sk-toggleable__control:checked~label.sk-toggleable__label {background-color: #d4ebff;}#sk-container-id-2 input.sk-hidden--visually {border: 0;clip: rect(1px 1px 1px 1px);clip: rect(1px, 1px, 1px, 1px);height: 1px;margin: -1px;overflow: hidden;padding: 0;position: absolute;width: 1px;}#sk-container-id-2 div.sk-estimator {font-family: monospace;background-color: #f0f8ff;border: 1px dotted black;border-radius: 0.25em;box-sizing: border-box;margin-bottom: 0.5em;}#sk-container-id-2 div.sk-estimator:hover {background-color: #d4ebff;}#sk-container-id-2 div.sk-parallel-item::after {content: \"\";width: 100%;border-bottom: 1px solid gray;flex-grow: 1;}#sk-container-id-2 div.sk-label:hover label.sk-toggleable__label {background-color: #d4ebff;}#sk-container-id-2 div.sk-serial::before {content: \"\";position: absolute;border-left: 1px solid gray;box-sizing: border-box;top: 0;bottom: 0;left: 50%;z-index: 0;}#sk-container-id-2 div.sk-serial {display: flex;flex-direction: column;align-items: center;background-color: white;padding-right: 0.2em;padding-left: 0.2em;position: relative;}#sk-container-id-2 div.sk-item {position: relative;z-index: 1;}#sk-container-id-2 div.sk-parallel {display: flex;align-items: stretch;justify-content: center;background-color: white;position: relative;}#sk-container-id-2 div.sk-item::before, #sk-container-id-2 div.sk-parallel-item::before {content: \"\";position: absolute;border-left: 1px solid gray;box-sizing: border-box;top: 0;bottom: 0;left: 50%;z-index: -1;}#sk-container-id-2 div.sk-parallel-item {display: flex;flex-direction: column;z-index: 1;position: relative;background-color: white;}#sk-container-id-2 div.sk-parallel-item:first-child::after {align-self: flex-end;width: 50%;}#sk-container-id-2 div.sk-parallel-item:last-child::after {align-self: flex-start;width: 50%;}#sk-container-id-2 div.sk-parallel-item:only-child::after {width: 0;}#sk-container-id-2 div.sk-dashed-wrapped {border: 1px dashed gray;margin: 0 0.4em 0.5em 0.4em;box-sizing: border-box;padding-bottom: 0.4em;background-color: white;}#sk-container-id-2 div.sk-label label {font-family: monospace;font-weight: bold;display: inline-block;line-height: 1.2em;}#sk-container-id-2 div.sk-label-container {text-align: center;}#sk-container-id-2 div.sk-container {/* jupyter's `normalize.less` sets `[hidden] { display: none; }` but bootstrap.min.css set `[hidden] { display: none !important; }` so we also need the `!important` here to be able to override the default hidden behavior on the sphinx rendered scikit-learn.org. See: https://github.com/scikit-learn/scikit-learn/issues/21755 */display: inline-block !important;position: relative;}#sk-container-id-2 div.sk-text-repr-fallback {display: none;}</style><div id=\"sk-container-id-2\" class=\"sk-top-container\"><div class=\"sk-text-repr-fallback\"><pre>RandomForestClassifier(max_samples=0.75, random_state=42)</pre><b>In a Jupyter environment, please rerun this cell to show the HTML representation or trust the notebook. <br />On GitHub, the HTML representation is unable to render, please try loading this page with nbviewer.org.</b></div><div class=\"sk-container\" hidden><div class=\"sk-item\"><div class=\"sk-estimator sk-toggleable\"><input class=\"sk-toggleable__control sk-hidden--visually\" id=\"sk-estimator-id-2\" type=\"checkbox\" checked><label for=\"sk-estimator-id-2\" class=\"sk-toggleable__label sk-toggleable__label-arrow\">RandomForestClassifier</label><div class=\"sk-toggleable__content\"><pre>RandomForestClassifier(max_samples=0.75, random_state=42)</pre></div></div></div></div></div>"
      ],
      "text/plain": [
       "RandomForestClassifier(max_samples=0.75, random_state=42)"
      ]
     },
     "execution_count": 20,
     "metadata": {},
     "output_type": "execute_result"
    }
   ],
   "source": [
    "clf.fit(X_train, y_train)"
   ]
  },
  {
   "cell_type": "code",
   "execution_count": 21,
   "id": "50a21205",
   "metadata": {},
   "outputs": [],
   "source": [
    "y_pred = clf.predict(X_test)"
   ]
  },
  {
   "cell_type": "code",
   "execution_count": 22,
   "id": "cd9de4b6",
   "metadata": {},
   "outputs": [
    {
     "data": {
      "text/plain": [
       "0.4329896907216495"
      ]
     },
     "execution_count": 22,
     "metadata": {},
     "output_type": "execute_result"
    }
   ],
   "source": [
    "accuracy_score(y_test, y_pred)"
   ]
  },
  {
   "cell_type": "markdown",
   "id": "bee31f71",
   "metadata": {},
   "source": [
    "# Cross Validation"
   ]
  },
  {
   "cell_type": "code",
   "execution_count": 23,
   "id": "ee9eb108",
   "metadata": {},
   "outputs": [
    {
     "data": {
      "text/plain": [
       "0.46211734693877543"
      ]
     },
     "execution_count": 23,
     "metadata": {},
     "output_type": "execute_result"
    }
   ],
   "source": [
    "# For class imbalanced dataset applying stratified K-Fold cross validation\n",
    "\n",
    "from sklearn.model_selection import cross_val_score\n",
    "np.mean(cross_val_score(RandomForestClassifier(),X,y,cv=10,scoring='accuracy'))\n"
   ]
  },
  {
   "cell_type": "markdown",
   "id": "c229350d",
   "metadata": {},
   "source": [
    "# Hyperparameter Tuning"
   ]
  },
  {
   "cell_type": "markdown",
   "id": "a25130e9",
   "metadata": {},
   "source": [
    "# GridSearchCV"
   ]
  },
  {
   "cell_type": "code",
   "execution_count": 24,
   "id": "6b54ad45",
   "metadata": {},
   "outputs": [],
   "source": [
    "# Number of trees in random forest\n",
    "n_estimators = [20,60,100,120]\n",
    "\n",
    "# Number of features to consider at every split\n",
    "max_features = [0.2,0.6,1.0]\n",
    "\n",
    "# Maximum number of levels in tree\n",
    "max_depth = [2,8,None]\n",
    "\n",
    "# Number of samples\n",
    "max_samples = [0.5,0.75,1.0]\n"
   ]
  },
  {
   "cell_type": "code",
   "execution_count": 25,
   "id": "6916c82d",
   "metadata": {},
   "outputs": [
    {
     "name": "stdout",
     "output_type": "stream",
     "text": [
      "{'n_estimators': [20, 60, 100, 120], 'max_features': [0.2, 0.6, 1.0], 'max_depth': [2, 8, None], 'max_samples': [0.5, 0.75, 1.0]}\n"
     ]
    }
   ],
   "source": [
    "param_grid = {'n_estimators': n_estimators,\n",
    "             'max_features': max_features,\n",
    "             'max_depth': max_depth,\n",
    "             'max_samples': max_samples\n",
    "             }\n",
    "print(param_grid)"
   ]
  },
  {
   "cell_type": "code",
   "execution_count": 26,
   "id": "74ebacf8",
   "metadata": {},
   "outputs": [],
   "source": [
    "rf = RandomForestClassifier()"
   ]
  },
  {
   "cell_type": "code",
   "execution_count": 27,
   "id": "1f3ee19a",
   "metadata": {},
   "outputs": [],
   "source": [
    "\n",
    "from sklearn.model_selection import GridSearchCV\n",
    "\n",
    "rf_grid = GridSearchCV(estimator = rf,\n",
    "                      param_grid = param_grid,\n",
    "                      cv = 10,\n",
    "                      verbose = 2,\n",
    "                      n_jobs = -1)"
   ]
  },
  {
   "cell_type": "code",
   "execution_count": 28,
   "id": "f87ea817",
   "metadata": {},
   "outputs": [
    {
     "name": "stdout",
     "output_type": "stream",
     "text": [
      "Fitting 10 folds for each of 108 candidates, totalling 1080 fits\n"
     ]
    },
    {
     "data": {
      "text/html": [
       "<style>#sk-container-id-3 {color: black;}#sk-container-id-3 pre{padding: 0;}#sk-container-id-3 div.sk-toggleable {background-color: white;}#sk-container-id-3 label.sk-toggleable__label {cursor: pointer;display: block;width: 100%;margin-bottom: 0;padding: 0.3em;box-sizing: border-box;text-align: center;}#sk-container-id-3 label.sk-toggleable__label-arrow:before {content: \"▸\";float: left;margin-right: 0.25em;color: #696969;}#sk-container-id-3 label.sk-toggleable__label-arrow:hover:before {color: black;}#sk-container-id-3 div.sk-estimator:hover label.sk-toggleable__label-arrow:before {color: black;}#sk-container-id-3 div.sk-toggleable__content {max-height: 0;max-width: 0;overflow: hidden;text-align: left;background-color: #f0f8ff;}#sk-container-id-3 div.sk-toggleable__content pre {margin: 0.2em;color: black;border-radius: 0.25em;background-color: #f0f8ff;}#sk-container-id-3 input.sk-toggleable__control:checked~div.sk-toggleable__content {max-height: 200px;max-width: 100%;overflow: auto;}#sk-container-id-3 input.sk-toggleable__control:checked~label.sk-toggleable__label-arrow:before {content: \"▾\";}#sk-container-id-3 div.sk-estimator input.sk-toggleable__control:checked~label.sk-toggleable__label {background-color: #d4ebff;}#sk-container-id-3 div.sk-label input.sk-toggleable__control:checked~label.sk-toggleable__label {background-color: #d4ebff;}#sk-container-id-3 input.sk-hidden--visually {border: 0;clip: rect(1px 1px 1px 1px);clip: rect(1px, 1px, 1px, 1px);height: 1px;margin: -1px;overflow: hidden;padding: 0;position: absolute;width: 1px;}#sk-container-id-3 div.sk-estimator {font-family: monospace;background-color: #f0f8ff;border: 1px dotted black;border-radius: 0.25em;box-sizing: border-box;margin-bottom: 0.5em;}#sk-container-id-3 div.sk-estimator:hover {background-color: #d4ebff;}#sk-container-id-3 div.sk-parallel-item::after {content: \"\";width: 100%;border-bottom: 1px solid gray;flex-grow: 1;}#sk-container-id-3 div.sk-label:hover label.sk-toggleable__label {background-color: #d4ebff;}#sk-container-id-3 div.sk-serial::before {content: \"\";position: absolute;border-left: 1px solid gray;box-sizing: border-box;top: 0;bottom: 0;left: 50%;z-index: 0;}#sk-container-id-3 div.sk-serial {display: flex;flex-direction: column;align-items: center;background-color: white;padding-right: 0.2em;padding-left: 0.2em;position: relative;}#sk-container-id-3 div.sk-item {position: relative;z-index: 1;}#sk-container-id-3 div.sk-parallel {display: flex;align-items: stretch;justify-content: center;background-color: white;position: relative;}#sk-container-id-3 div.sk-item::before, #sk-container-id-3 div.sk-parallel-item::before {content: \"\";position: absolute;border-left: 1px solid gray;box-sizing: border-box;top: 0;bottom: 0;left: 50%;z-index: -1;}#sk-container-id-3 div.sk-parallel-item {display: flex;flex-direction: column;z-index: 1;position: relative;background-color: white;}#sk-container-id-3 div.sk-parallel-item:first-child::after {align-self: flex-end;width: 50%;}#sk-container-id-3 div.sk-parallel-item:last-child::after {align-self: flex-start;width: 50%;}#sk-container-id-3 div.sk-parallel-item:only-child::after {width: 0;}#sk-container-id-3 div.sk-dashed-wrapped {border: 1px dashed gray;margin: 0 0.4em 0.5em 0.4em;box-sizing: border-box;padding-bottom: 0.4em;background-color: white;}#sk-container-id-3 div.sk-label label {font-family: monospace;font-weight: bold;display: inline-block;line-height: 1.2em;}#sk-container-id-3 div.sk-label-container {text-align: center;}#sk-container-id-3 div.sk-container {/* jupyter's `normalize.less` sets `[hidden] { display: none; }` but bootstrap.min.css set `[hidden] { display: none !important; }` so we also need the `!important` here to be able to override the default hidden behavior on the sphinx rendered scikit-learn.org. See: https://github.com/scikit-learn/scikit-learn/issues/21755 */display: inline-block !important;position: relative;}#sk-container-id-3 div.sk-text-repr-fallback {display: none;}</style><div id=\"sk-container-id-3\" class=\"sk-top-container\"><div class=\"sk-text-repr-fallback\"><pre>GridSearchCV(cv=10, estimator=RandomForestClassifier(), n_jobs=-1,\n",
       "             param_grid={&#x27;max_depth&#x27;: [2, 8, None],\n",
       "                         &#x27;max_features&#x27;: [0.2, 0.6, 1.0],\n",
       "                         &#x27;max_samples&#x27;: [0.5, 0.75, 1.0],\n",
       "                         &#x27;n_estimators&#x27;: [20, 60, 100, 120]},\n",
       "             verbose=2)</pre><b>In a Jupyter environment, please rerun this cell to show the HTML representation or trust the notebook. <br />On GitHub, the HTML representation is unable to render, please try loading this page with nbviewer.org.</b></div><div class=\"sk-container\" hidden><div class=\"sk-item sk-dashed-wrapped\"><div class=\"sk-label-container\"><div class=\"sk-label sk-toggleable\"><input class=\"sk-toggleable__control sk-hidden--visually\" id=\"sk-estimator-id-3\" type=\"checkbox\" ><label for=\"sk-estimator-id-3\" class=\"sk-toggleable__label sk-toggleable__label-arrow\">GridSearchCV</label><div class=\"sk-toggleable__content\"><pre>GridSearchCV(cv=10, estimator=RandomForestClassifier(), n_jobs=-1,\n",
       "             param_grid={&#x27;max_depth&#x27;: [2, 8, None],\n",
       "                         &#x27;max_features&#x27;: [0.2, 0.6, 1.0],\n",
       "                         &#x27;max_samples&#x27;: [0.5, 0.75, 1.0],\n",
       "                         &#x27;n_estimators&#x27;: [20, 60, 100, 120]},\n",
       "             verbose=2)</pre></div></div></div><div class=\"sk-parallel\"><div class=\"sk-parallel-item\"><div class=\"sk-item\"><div class=\"sk-label-container\"><div class=\"sk-label sk-toggleable\"><input class=\"sk-toggleable__control sk-hidden--visually\" id=\"sk-estimator-id-4\" type=\"checkbox\" ><label for=\"sk-estimator-id-4\" class=\"sk-toggleable__label sk-toggleable__label-arrow\">estimator: RandomForestClassifier</label><div class=\"sk-toggleable__content\"><pre>RandomForestClassifier()</pre></div></div></div><div class=\"sk-serial\"><div class=\"sk-item\"><div class=\"sk-estimator sk-toggleable\"><input class=\"sk-toggleable__control sk-hidden--visually\" id=\"sk-estimator-id-5\" type=\"checkbox\" ><label for=\"sk-estimator-id-5\" class=\"sk-toggleable__label sk-toggleable__label-arrow\">RandomForestClassifier</label><div class=\"sk-toggleable__content\"><pre>RandomForestClassifier()</pre></div></div></div></div></div></div></div></div></div></div>"
      ],
      "text/plain": [
       "GridSearchCV(cv=10, estimator=RandomForestClassifier(), n_jobs=-1,\n",
       "             param_grid={'max_depth': [2, 8, None],\n",
       "                         'max_features': [0.2, 0.6, 1.0],\n",
       "                         'max_samples': [0.5, 0.75, 1.0],\n",
       "                         'n_estimators': [20, 60, 100, 120]},\n",
       "             verbose=2)"
      ]
     },
     "execution_count": 28,
     "metadata": {},
     "output_type": "execute_result"
    }
   ],
   "source": [
    "rf_grid.fit(X_train, y_train)"
   ]
  },
  {
   "cell_type": "code",
   "execution_count": 29,
   "id": "efc31763",
   "metadata": {},
   "outputs": [
    {
     "data": {
      "text/plain": [
       "{'max_depth': None,\n",
       " 'max_features': 0.2,\n",
       " 'max_samples': 1.0,\n",
       " 'n_estimators': 100}"
      ]
     },
     "execution_count": 29,
     "metadata": {},
     "output_type": "execute_result"
    }
   ],
   "source": [
    "rf_grid.best_params_"
   ]
  },
  {
   "cell_type": "code",
   "execution_count": 30,
   "id": "de1bddb9",
   "metadata": {},
   "outputs": [
    {
     "data": {
      "text/plain": [
       "0.5495276653171389"
      ]
     },
     "execution_count": 30,
     "metadata": {},
     "output_type": "execute_result"
    }
   ],
   "source": [
    "rf_grid.best_score_"
   ]
  },
  {
   "cell_type": "markdown",
   "id": "c5c43769",
   "metadata": {},
   "source": [
    "# Model Evaluation\n"
   ]
  },
  {
   "cell_type": "code",
   "execution_count": 31,
   "id": "cae1c22d",
   "metadata": {},
   "outputs": [
    {
     "name": "stdout",
     "output_type": "stream",
     "text": [
      "              precision    recall  f1-score   support\n",
      "\n",
      "           0       0.42      0.42      0.42        12\n",
      "           1       0.47      0.44      0.45        32\n",
      "           2       0.43      0.56      0.49        34\n",
      "           3       0.44      0.40      0.42        10\n",
      "           4       0.00      0.00      0.00         9\n",
      "\n",
      "    accuracy                           0.43        97\n",
      "   macro avg       0.35      0.36      0.36        97\n",
      "weighted avg       0.40      0.43      0.41        97\n",
      "\n"
     ]
    }
   ],
   "source": [
    "# Classification Report\n",
    "\n",
    "print(classification_report(y_test, y_pred))"
   ]
  },
  {
   "cell_type": "code",
   "execution_count": 32,
   "id": "88ddbac1",
   "metadata": {},
   "outputs": [
    {
     "name": "stdout",
     "output_type": "stream",
     "text": [
      "[[ 5  0  7  0  0]\n",
      " [ 1 14 15  2  0]\n",
      " [ 4  8 19  2  1]\n",
      " [ 0  5  0  4  1]\n",
      " [ 2  3  3  1  0]]\n"
     ]
    }
   ],
   "source": [
    "# Confusion Matrix\n",
    "\n",
    "cf_matrix = confusion_matrix(y_test, y_pred)\n",
    "print(cf_matrix)"
   ]
  },
  {
   "cell_type": "code",
   "execution_count": 33,
   "id": "0c53b0d0",
   "metadata": {},
   "outputs": [],
   "source": [
    "labels = ['C/R', 'L', 'M', 'N', 'S']\n",
    "labels.sort()\n"
   ]
  },
  {
   "cell_type": "code",
   "execution_count": 34,
   "id": "455850e1",
   "metadata": {},
   "outputs": [
    {
     "data": {
      "image/png": "[encoded data removed]",
      "text/plain": [
       "<Figure size 1000x1000 with 2 Axes>"
      ]
     },
     "metadata": {},
     "output_type": "display_data"
    }
   ],
   "source": [
    "import seaborn as sns\n",
    "\n",
    "fig = plt.figure(figsize=(10,10))\n",
    "ax = sns.heatmap(cf_matrix, annot=True, cmap='coolwarm', fmt='.0f',\n",
    "                xticklabels=labels, yticklabels=labels)\n",
    "\n",
    "ax.set_title('Seaborn Confuse Matrix with labels\\n\\n');\n",
    "ax.set_xlabel('\\nPredicted values')\n",
    "ax.set_ylabel('Actual Values');"
   ]
  },
  {
   "cell_type": "markdown",
   "id": "67d80509",
   "metadata": {},
   "source": [
    "# Decision Tree"
   ]
  },
  {
   "cell_type": "code",
   "execution_count": 35,
   "id": "9a07d17e",
   "metadata": {},
   "outputs": [],
   "source": [
    "from sklearn.tree import DecisionTreeClassifier"
   ]
  },
  {
   "cell_type": "code",
   "execution_count": 36,
   "id": "80a08b6d",
   "metadata": {},
   "outputs": [],
   "source": [
    "clf_2 = DecisionTreeClassifier(max_depth=4, random_state = 42)"
   ]
  },
  {
   "cell_type": "code",
   "execution_count": 37,
   "id": "50fe9ef0",
   "metadata": {},
   "outputs": [],
   "source": [
    "clf_2 = clf_2.fit(X_train, y_train)"
   ]
  },
  {
   "cell_type": "code",
   "execution_count": 38,
   "id": "e87f5926",
   "metadata": {},
   "outputs": [
    {
     "data": {
      "text/plain": [
       "{'ccp_alpha': 0.0,\n",
       " 'class_weight': None,\n",
       " 'criterion': 'gini',\n",
       " 'max_depth': 4,\n",
       " 'max_features': None,\n",
       " 'max_leaf_nodes': None,\n",
       " 'min_impurity_decrease': 0.0,\n",
       " 'min_samples_leaf': 1,\n",
       " 'min_samples_split': 2,\n",
       " 'min_weight_fraction_leaf': 0.0,\n",
       " 'random_state': 42,\n",
       " 'splitter': 'best'}"
      ]
     },
     "execution_count": 38,
     "metadata": {},
     "output_type": "execute_result"
    }
   ],
   "source": [
    "clf_2.get_params()"
   ]
  },
  {
   "cell_type": "code",
   "execution_count": 39,
   "id": "a1908bc2",
   "metadata": {},
   "outputs": [],
   "source": [
    "y_pred_2 = clf_2.predict(X_test)"
   ]
  },
  {
   "cell_type": "code",
   "execution_count": 40,
   "id": "c7f48431",
   "metadata": {},
   "outputs": [
    {
     "data": {
      "text/plain": [
       "0.4536082474226804"
      ]
     },
     "execution_count": 40,
     "metadata": {},
     "output_type": "execute_result"
    }
   ],
   "source": [
    "accuracy_score(y_test, y_pred_2)"
   ]
  },
  {
   "cell_type": "code",
   "execution_count": 41,
   "id": "e560c0ad",
   "metadata": {},
   "outputs": [
    {
     "name": "stdout",
     "output_type": "stream",
     "text": [
      "{'max_depth': [2, 3, 5, 10, 20, None], 'criterion': ['gini', 'entropy'], 'min_samples_leaf': [5, 10, 20, 50, 100]}\n"
     ]
    }
   ],
   "source": [
    "# Hyperparameter Tuning and Cross Validation\n",
    "\n",
    "param_dict = {'max_depth': [2, 3, 5, 10, 20, None],\n",
    "             'criterion': [\"gini\", \"entropy\"],\n",
    "             'min_samples_leaf': [5, 10, 20, 50, 100]\n",
    "             }\n",
    "print(param_dict)"
   ]
  },
  {
   "cell_type": "code",
   "execution_count": 42,
   "id": "b2eecdd1",
   "metadata": {},
   "outputs": [],
   "source": [
    "dt_grid = GridSearchCV(estimator = DecisionTreeClassifier(),\n",
    "                      param_grid = param_dict,\n",
    "                      cv = 10,\n",
    "                      verbose = 2,\n",
    "                      n_jobs = -1)"
   ]
  },
  {
   "cell_type": "code",
   "execution_count": 43,
   "id": "3f902cca",
   "metadata": {},
   "outputs": [
    {
     "name": "stdout",
     "output_type": "stream",
     "text": [
      "Fitting 10 folds for each of 60 candidates, totalling 600 fits\n"
     ]
    },
    {
     "data": {
      "text/html": [
       "<style>#sk-container-id-4 {color: black;}#sk-container-id-4 pre{padding: 0;}#sk-container-id-4 div.sk-toggleable {background-color: white;}#sk-container-id-4 label.sk-toggleable__label {cursor: pointer;display: block;width: 100%;margin-bottom: 0;padding: 0.3em;box-sizing: border-box;text-align: center;}#sk-container-id-4 label.sk-toggleable__label-arrow:before {content: \"▸\";float: left;margin-right: 0.25em;color: #696969;}#sk-container-id-4 label.sk-toggleable__label-arrow:hover:before {color: black;}#sk-container-id-4 div.sk-estimator:hover label.sk-toggleable__label-arrow:before {color: black;}#sk-container-id-4 div.sk-toggleable__content {max-height: 0;max-width: 0;overflow: hidden;text-align: left;background-color: #f0f8ff;}#sk-container-id-4 div.sk-toggleable__content pre {margin: 0.2em;color: black;border-radius: 0.25em;background-color: #f0f8ff;}#sk-container-id-4 input.sk-toggleable__control:checked~div.sk-toggleable__content {max-height: 200px;max-width: 100%;overflow: auto;}#sk-container-id-4 input.sk-toggleable__control:checked~label.sk-toggleable__label-arrow:before {content: \"▾\";}#sk-container-id-4 div.sk-estimator input.sk-toggleable__control:checked~label.sk-toggleable__label {background-color: #d4ebff;}#sk-container-id-4 div.sk-label input.sk-toggleable__control:checked~label.sk-toggleable__label {background-color: #d4ebff;}#sk-container-id-4 input.sk-hidden--visually {border: 0;clip: rect(1px 1px 1px 1px);clip: rect(1px, 1px, 1px, 1px);height: 1px;margin: -1px;overflow: hidden;padding: 0;position: absolute;width: 1px;}#sk-container-id-4 div.sk-estimator {font-family: monospace;background-color: #f0f8ff;border: 1px dotted black;border-radius: 0.25em;box-sizing: border-box;margin-bottom: 0.5em;}#sk-container-id-4 div.sk-estimator:hover {background-color: #d4ebff;}#sk-container-id-4 div.sk-parallel-item::after {content: \"\";width: 100%;border-bottom: 1px solid gray;flex-grow: 1;}#sk-container-id-4 div.sk-label:hover label.sk-toggleable__label {background-color: #d4ebff;}#sk-container-id-4 div.sk-serial::before {content: \"\";position: absolute;border-left: 1px solid gray;box-sizing: border-box;top: 0;bottom: 0;left: 50%;z-index: 0;}#sk-container-id-4 div.sk-serial {display: flex;flex-direction: column;align-items: center;background-color: white;padding-right: 0.2em;padding-left: 0.2em;position: relative;}#sk-container-id-4 div.sk-item {position: relative;z-index: 1;}#sk-container-id-4 div.sk-parallel {display: flex;align-items: stretch;justify-content: center;background-color: white;position: relative;}#sk-container-id-4 div.sk-item::before, #sk-container-id-4 div.sk-parallel-item::before {content: \"\";position: absolute;border-left: 1px solid gray;box-sizing: border-box;top: 0;bottom: 0;left: 50%;z-index: -1;}#sk-container-id-4 div.sk-parallel-item {display: flex;flex-direction: column;z-index: 1;position: relative;background-color: white;}#sk-container-id-4 div.sk-parallel-item:first-child::after {align-self: flex-end;width: 50%;}#sk-container-id-4 div.sk-parallel-item:last-child::after {align-self: flex-start;width: 50%;}#sk-container-id-4 div.sk-parallel-item:only-child::after {width: 0;}#sk-container-id-4 div.sk-dashed-wrapped {border: 1px dashed gray;margin: 0 0.4em 0.5em 0.4em;box-sizing: border-box;padding-bottom: 0.4em;background-color: white;}#sk-container-id-4 div.sk-label label {font-family: monospace;font-weight: bold;display: inline-block;line-height: 1.2em;}#sk-container-id-4 div.sk-label-container {text-align: center;}#sk-container-id-4 div.sk-container {/* jupyter's `normalize.less` sets `[hidden] { display: none; }` but bootstrap.min.css set `[hidden] { display: none !important; }` so we also need the `!important` here to be able to override the default hidden behavior on the sphinx rendered scikit-learn.org. See: https://github.com/scikit-learn/scikit-learn/issues/21755 */display: inline-block !important;position: relative;}#sk-container-id-4 div.sk-text-repr-fallback {display: none;}</style><div id=\"sk-container-id-4\" class=\"sk-top-container\"><div class=\"sk-text-repr-fallback\"><pre>GridSearchCV(cv=10, estimator=DecisionTreeClassifier(), n_jobs=-1,\n",
       "             param_grid={&#x27;criterion&#x27;: [&#x27;gini&#x27;, &#x27;entropy&#x27;],\n",
       "                         &#x27;max_depth&#x27;: [2, 3, 5, 10, 20, None],\n",
       "                         &#x27;min_samples_leaf&#x27;: [5, 10, 20, 50, 100]},\n",
       "             verbose=2)</pre><b>In a Jupyter environment, please rerun this cell to show the HTML representation or trust the notebook. <br />On GitHub, the HTML representation is unable to render, please try loading this page with nbviewer.org.</b></div><div class=\"sk-container\" hidden><div class=\"sk-item sk-dashed-wrapped\"><div class=\"sk-label-container\"><div class=\"sk-label sk-toggleable\"><input class=\"sk-toggleable__control sk-hidden--visually\" id=\"sk-estimator-id-6\" type=\"checkbox\" ><label for=\"sk-estimator-id-6\" class=\"sk-toggleable__label sk-toggleable__label-arrow\">GridSearchCV</label><div class=\"sk-toggleable__content\"><pre>GridSearchCV(cv=10, estimator=DecisionTreeClassifier(), n_jobs=-1,\n",
       "             param_grid={&#x27;criterion&#x27;: [&#x27;gini&#x27;, &#x27;entropy&#x27;],\n",
       "                         &#x27;max_depth&#x27;: [2, 3, 5, 10, 20, None],\n",
       "                         &#x27;min_samples_leaf&#x27;: [5, 10, 20, 50, 100]},\n",
       "             verbose=2)</pre></div></div></div><div class=\"sk-parallel\"><div class=\"sk-parallel-item\"><div class=\"sk-item\"><div class=\"sk-label-container\"><div class=\"sk-label sk-toggleable\"><input class=\"sk-toggleable__control sk-hidden--visually\" id=\"sk-estimator-id-7\" type=\"checkbox\" ><label for=\"sk-estimator-id-7\" class=\"sk-toggleable__label sk-toggleable__label-arrow\">estimator: DecisionTreeClassifier</label><div class=\"sk-toggleable__content\"><pre>DecisionTreeClassifier()</pre></div></div></div><div class=\"sk-serial\"><div class=\"sk-item\"><div class=\"sk-estimator sk-toggleable\"><input class=\"sk-toggleable__control sk-hidden--visually\" id=\"sk-estimator-id-8\" type=\"checkbox\" ><label for=\"sk-estimator-id-8\" class=\"sk-toggleable__label sk-toggleable__label-arrow\">DecisionTreeClassifier</label><div class=\"sk-toggleable__content\"><pre>DecisionTreeClassifier()</pre></div></div></div></div></div></div></div></div></div></div>"
      ],
      "text/plain": [
       "GridSearchCV(cv=10, estimator=DecisionTreeClassifier(), n_jobs=-1,\n",
       "             param_grid={'criterion': ['gini', 'entropy'],\n",
       "                         'max_depth': [2, 3, 5, 10, 20, None],\n",
       "                         'min_samples_leaf': [5, 10, 20, 50, 100]},\n",
       "             verbose=2)"
      ]
     },
     "execution_count": 43,
     "metadata": {},
     "output_type": "execute_result"
    }
   ],
   "source": [
    "dt_grid.fit(X_train, y_train)"
   ]
  },
  {
   "cell_type": "code",
   "execution_count": 44,
   "id": "94a0f749",
   "metadata": {},
   "outputs": [
    {
     "data": {
      "text/plain": [
       "{'criterion': 'entropy', 'max_depth': 10, 'min_samples_leaf': 20}"
      ]
     },
     "execution_count": 44,
     "metadata": {},
     "output_type": "execute_result"
    }
   ],
   "source": [
    "dt_grid.best_params_"
   ]
  },
  {
   "cell_type": "code",
   "execution_count": 45,
   "id": "00143ee4",
   "metadata": {},
   "outputs": [
    {
     "data": {
      "text/plain": [
       "0.4716599190283401"
      ]
     },
     "execution_count": 45,
     "metadata": {},
     "output_type": "execute_result"
    }
   ],
   "source": [
    "dt_grid.best_score_"
   ]
  },
  {
   "cell_type": "code",
   "execution_count": 46,
   "id": "4db0bc5d",
   "metadata": {},
   "outputs": [
    {
     "name": "stdout",
     "output_type": "stream",
     "text": [
      "              precision    recall  f1-score   support\n",
      "\n",
      "           0       0.10      0.08      0.09        12\n",
      "           1       0.56      0.44      0.49        32\n",
      "           2       0.43      0.68      0.53        34\n",
      "           3       0.62      0.50      0.56        10\n",
      "           4       1.00      0.11      0.20         9\n",
      "\n",
      "    accuracy                           0.45        97\n",
      "   macro avg       0.54      0.36      0.37        97\n",
      "weighted avg       0.51      0.45      0.43        97\n",
      "\n"
     ]
    }
   ],
   "source": [
    "# Classification Report\n",
    "\n",
    "print(classification_report(y_test, y_pred_2))"
   ]
  },
  {
   "cell_type": "code",
   "execution_count": 47,
   "id": "ad33bd35",
   "metadata": {},
   "outputs": [
    {
     "name": "stdout",
     "output_type": "stream",
     "text": [
      "[[ 1  0 11  0  0]\n",
      " [ 2 14 14  2  0]\n",
      " [ 5  5 23  1  0]\n",
      " [ 0  3  2  5  0]\n",
      " [ 2  3  3  0  1]]\n"
     ]
    }
   ],
   "source": [
    "# Confusion Matrix\n",
    "\n",
    "cf_matrix = confusion_matrix(y_test, y_pred_2)\n",
    "print(cf_matrix)"
   ]
  },
  {
   "cell_type": "code",
   "execution_count": 48,
   "id": "36bad5e4",
   "metadata": {},
   "outputs": [],
   "source": [
    "labels = ['C/R', 'L', 'M', 'N', 'S']\n",
    "labels.sort()\n"
   ]
  },
  {
   "cell_type": "code",
   "execution_count": 49,
   "id": "4f1272f7",
   "metadata": {},
   "outputs": [
    {
     "data": {
      "image/png": "[encoded data removed]",
      "text/plain": [
       "<Figure size 1000x1000 with 2 Axes>"
      ]
     },
     "metadata": {},
     "output_type": "display_data"
    }
   ],
   "source": [
    "import seaborn as sns\n",
    "\n",
    "fig = plt.figure(figsize=(10,10))\n",
    "ax = sns.heatmap(cf_matrix, annot=True, cmap='coolwarm', fmt='.0f',\n",
    "                xticklabels=labels, yticklabels=labels)\n",
    "\n",
    "ax.set_title('Seaborn Confuse Matrix with labels\\n\\n');\n",
    "ax.set_xlabel('\\nPredicted values')\n",
    "ax.set_ylabel('Actual Values');"
   ]
  },
  {
   "cell_type": "markdown",
   "id": "8c3f1a32",
   "metadata": {},
   "source": [
    "# Support_Vector_Machine"
   ]
  },
  {
   "cell_type": "code",
   "execution_count": 50,
   "id": "f043a3d9",
   "metadata": {},
   "outputs": [],
   "source": [
    "from sklearn.svm import SVC"
   ]
  },
  {
   "cell_type": "code",
   "execution_count": 51,
   "id": "70784d39",
   "metadata": {},
   "outputs": [],
   "source": [
    "model = SVC(random_state = 42)"
   ]
  },
  {
   "cell_type": "code",
   "execution_count": 52,
   "id": "ce7e4912",
   "metadata": {},
   "outputs": [],
   "source": [
    "clf = model.fit(X_train, y_train)"
   ]
  },
  {
   "cell_type": "code",
   "execution_count": 53,
   "id": "6afcd4dc",
   "metadata": {},
   "outputs": [],
   "source": [
    "y_pred = clf.predict(X_test)"
   ]
  },
  {
   "cell_type": "code",
   "execution_count": 54,
   "id": "ae1243eb",
   "metadata": {},
   "outputs": [
    {
     "data": {
      "text/plain": [
       "0.4845360824742268"
      ]
     },
     "execution_count": 54,
     "metadata": {},
     "output_type": "execute_result"
    }
   ],
   "source": [
    "accuracy_score(y_test, y_pred)"
   ]
  },
  {
   "cell_type": "code",
   "execution_count": 55,
   "id": "6ef04cd6",
   "metadata": {},
   "outputs": [
    {
     "name": "stdout",
     "output_type": "stream",
     "text": [
      "{'C': [0.1, 1, 10, 100], 'gamma': [1, 0.1, 0.01, 0.001], 'kernel': ['rbf', 'linear', 'poly']}\n"
     ]
    }
   ],
   "source": [
    "# Hyperparameter Tuning and Cross Validation\n",
    "\n",
    "param_dict = {'C': [0.1,1,10,100],\n",
    "             'gamma': [1,0.1,0.01,0.001],\n",
    "             'kernel': ['rbf', 'linear', 'poly']\n",
    "             }\n",
    "print(param_dict)"
   ]
  },
  {
   "cell_type": "code",
   "execution_count": 56,
   "id": "5d78d3db",
   "metadata": {},
   "outputs": [],
   "source": [
    "svm_grid = GridSearchCV(estimator = SVC(),\n",
    "                      param_grid = param_dict,\n",
    "                      cv = 10,\n",
    "                      verbose = 2,\n",
    "                      n_jobs = -1)"
   ]
  },
  {
   "cell_type": "code",
   "execution_count": 57,
   "id": "a3048635",
   "metadata": {},
   "outputs": [
    {
     "name": "stdout",
     "output_type": "stream",
     "text": [
      "Fitting 10 folds for each of 48 candidates, totalling 480 fits\n"
     ]
    },
    {
     "data": {
      "text/html": [
       "<style>#sk-container-id-5 {color: black;}#sk-container-id-5 pre{padding: 0;}#sk-container-id-5 div.sk-toggleable {background-color: white;}#sk-container-id-5 label.sk-toggleable__label {cursor: pointer;display: block;width: 100%;margin-bottom: 0;padding: 0.3em;box-sizing: border-box;text-align: center;}#sk-container-id-5 label.sk-toggleable__label-arrow:before {content: \"▸\";float: left;margin-right: 0.25em;color: #696969;}#sk-container-id-5 label.sk-toggleable__label-arrow:hover:before {color: black;}#sk-container-id-5 div.sk-estimator:hover label.sk-toggleable__label-arrow:before {color: black;}#sk-container-id-5 div.sk-toggleable__content {max-height: 0;max-width: 0;overflow: hidden;text-align: left;background-color: #f0f8ff;}#sk-container-id-5 div.sk-toggleable__content pre {margin: 0.2em;color: black;border-radius: 0.25em;background-color: #f0f8ff;}#sk-container-id-5 input.sk-toggleable__control:checked~div.sk-toggleable__content {max-height: 200px;max-width: 100%;overflow: auto;}#sk-container-id-5 input.sk-toggleable__control:checked~label.sk-toggleable__label-arrow:before {content: \"▾\";}#sk-container-id-5 div.sk-estimator input.sk-toggleable__control:checked~label.sk-toggleable__label {background-color: #d4ebff;}#sk-container-id-5 div.sk-label input.sk-toggleable__control:checked~label.sk-toggleable__label {background-color: #d4ebff;}#sk-container-id-5 input.sk-hidden--visually {border: 0;clip: rect(1px 1px 1px 1px);clip: rect(1px, 1px, 1px, 1px);height: 1px;margin: -1px;overflow: hidden;padding: 0;position: absolute;width: 1px;}#sk-container-id-5 div.sk-estimator {font-family: monospace;background-color: #f0f8ff;border: 1px dotted black;border-radius: 0.25em;box-sizing: border-box;margin-bottom: 0.5em;}#sk-container-id-5 div.sk-estimator:hover {background-color: #d4ebff;}#sk-container-id-5 div.sk-parallel-item::after {content: \"\";width: 100%;border-bottom: 1px solid gray;flex-grow: 1;}#sk-container-id-5 div.sk-label:hover label.sk-toggleable__label {background-color: #d4ebff;}#sk-container-id-5 div.sk-serial::before {content: \"\";position: absolute;border-left: 1px solid gray;box-sizing: border-box;top: 0;bottom: 0;left: 50%;z-index: 0;}#sk-container-id-5 div.sk-serial {display: flex;flex-direction: column;align-items: center;background-color: white;padding-right: 0.2em;padding-left: 0.2em;position: relative;}#sk-container-id-5 div.sk-item {position: relative;z-index: 1;}#sk-container-id-5 div.sk-parallel {display: flex;align-items: stretch;justify-content: center;background-color: white;position: relative;}#sk-container-id-5 div.sk-item::before, #sk-container-id-5 div.sk-parallel-item::before {content: \"\";position: absolute;border-left: 1px solid gray;box-sizing: border-box;top: 0;bottom: 0;left: 50%;z-index: -1;}#sk-container-id-5 div.sk-parallel-item {display: flex;flex-direction: column;z-index: 1;position: relative;background-color: white;}#sk-container-id-5 div.sk-parallel-item:first-child::after {align-self: flex-end;width: 50%;}#sk-container-id-5 div.sk-parallel-item:last-child::after {align-self: flex-start;width: 50%;}#sk-container-id-5 div.sk-parallel-item:only-child::after {width: 0;}#sk-container-id-5 div.sk-dashed-wrapped {border: 1px dashed gray;margin: 0 0.4em 0.5em 0.4em;box-sizing: border-box;padding-bottom: 0.4em;background-color: white;}#sk-container-id-5 div.sk-label label {font-family: monospace;font-weight: bold;display: inline-block;line-height: 1.2em;}#sk-container-id-5 div.sk-label-container {text-align: center;}#sk-container-id-5 div.sk-container {/* jupyter's `normalize.less` sets `[hidden] { display: none; }` but bootstrap.min.css set `[hidden] { display: none !important; }` so we also need the `!important` here to be able to override the default hidden behavior on the sphinx rendered scikit-learn.org. See: https://github.com/scikit-learn/scikit-learn/issues/21755 */display: inline-block !important;position: relative;}#sk-container-id-5 div.sk-text-repr-fallback {display: none;}</style><div id=\"sk-container-id-5\" class=\"sk-top-container\"><div class=\"sk-text-repr-fallback\"><pre>GridSearchCV(cv=10, estimator=SVC(), n_jobs=-1,\n",
       "             param_grid={&#x27;C&#x27;: [0.1, 1, 10, 100], &#x27;gamma&#x27;: [1, 0.1, 0.01, 0.001],\n",
       "                         &#x27;kernel&#x27;: [&#x27;rbf&#x27;, &#x27;linear&#x27;, &#x27;poly&#x27;]},\n",
       "             verbose=2)</pre><b>In a Jupyter environment, please rerun this cell to show the HTML representation or trust the notebook. <br />On GitHub, the HTML representation is unable to render, please try loading this page with nbviewer.org.</b></div><div class=\"sk-container\" hidden><div class=\"sk-item sk-dashed-wrapped\"><div class=\"sk-label-container\"><div class=\"sk-label sk-toggleable\"><input class=\"sk-toggleable__control sk-hidden--visually\" id=\"sk-estimator-id-9\" type=\"checkbox\" ><label for=\"sk-estimator-id-9\" class=\"sk-toggleable__label sk-toggleable__label-arrow\">GridSearchCV</label><div class=\"sk-toggleable__content\"><pre>GridSearchCV(cv=10, estimator=SVC(), n_jobs=-1,\n",
       "             param_grid={&#x27;C&#x27;: [0.1, 1, 10, 100], &#x27;gamma&#x27;: [1, 0.1, 0.01, 0.001],\n",
       "                         &#x27;kernel&#x27;: [&#x27;rbf&#x27;, &#x27;linear&#x27;, &#x27;poly&#x27;]},\n",
       "             verbose=2)</pre></div></div></div><div class=\"sk-parallel\"><div class=\"sk-parallel-item\"><div class=\"sk-item\"><div class=\"sk-label-container\"><div class=\"sk-label sk-toggleable\"><input class=\"sk-toggleable__control sk-hidden--visually\" id=\"sk-estimator-id-10\" type=\"checkbox\" ><label for=\"sk-estimator-id-10\" class=\"sk-toggleable__label sk-toggleable__label-arrow\">estimator: SVC</label><div class=\"sk-toggleable__content\"><pre>SVC()</pre></div></div></div><div class=\"sk-serial\"><div class=\"sk-item\"><div class=\"sk-estimator sk-toggleable\"><input class=\"sk-toggleable__control sk-hidden--visually\" id=\"sk-estimator-id-11\" type=\"checkbox\" ><label for=\"sk-estimator-id-11\" class=\"sk-toggleable__label sk-toggleable__label-arrow\">SVC</label><div class=\"sk-toggleable__content\"><pre>SVC()</pre></div></div></div></div></div></div></div></div></div></div>"
      ],
      "text/plain": [
       "GridSearchCV(cv=10, estimator=SVC(), n_jobs=-1,\n",
       "             param_grid={'C': [0.1, 1, 10, 100], 'gamma': [1, 0.1, 0.01, 0.001],\n",
       "                         'kernel': ['rbf', 'linear', 'poly']},\n",
       "             verbose=2)"
      ]
     },
     "execution_count": 57,
     "metadata": {},
     "output_type": "execute_result"
    }
   ],
   "source": [
    "svm_grid.fit(X_train, y_train)"
   ]
  },
  {
   "cell_type": "code",
   "execution_count": 58,
   "id": "072e8090",
   "metadata": {},
   "outputs": [
    {
     "data": {
      "text/plain": [
       "{'C': 1, 'gamma': 0.1, 'kernel': 'rbf'}"
      ]
     },
     "execution_count": 58,
     "metadata": {},
     "output_type": "execute_result"
    }
   ],
   "source": [
    "svm_grid.best_params_"
   ]
  },
  {
   "cell_type": "code",
   "execution_count": 59,
   "id": "a0b637a0",
   "metadata": {},
   "outputs": [
    {
     "data": {
      "text/plain": [
       "0.510391363022942"
      ]
     },
     "execution_count": 59,
     "metadata": {},
     "output_type": "execute_result"
    }
   ],
   "source": [
    "svm_grid.best_score_"
   ]
  },
  {
   "cell_type": "code",
   "execution_count": 60,
   "id": "0bb26500",
   "metadata": {},
   "outputs": [
    {
     "name": "stdout",
     "output_type": "stream",
     "text": [
      "              precision    recall  f1-score   support\n",
      "\n",
      "           0       0.45      0.42      0.43        12\n",
      "           1       0.51      0.59      0.55        32\n",
      "           2       0.45      0.56      0.50        34\n",
      "           3       0.57      0.40      0.47        10\n",
      "           4       0.00      0.00      0.00         9\n",
      "\n",
      "    accuracy                           0.48        97\n",
      "   macro avg       0.40      0.39      0.39        97\n",
      "weighted avg       0.44      0.48      0.46        97\n",
      "\n"
     ]
    },
    {
     "name": "stderr",
     "output_type": "stream",
     "text": [
      "C:\\Users\\user\\anaconda3\\Lib\\site-packages\\sklearn\\metrics\\_classification.py:1469: UndefinedMetricWarning: Precision and F-score are ill-defined and being set to 0.0 in labels with no predicted samples. Use `zero_division` parameter to control this behavior.\n",
      "  _warn_prf(average, modifier, msg_start, len(result))\n",
      "C:\\Users\\user\\anaconda3\\Lib\\site-packages\\sklearn\\metrics\\_classification.py:1469: UndefinedMetricWarning: Precision and F-score are ill-defined and being set to 0.0 in labels with no predicted samples. Use `zero_division` parameter to control this behavior.\n",
      "  _warn_prf(average, modifier, msg_start, len(result))\n",
      "C:\\Users\\user\\anaconda3\\Lib\\site-packages\\sklearn\\metrics\\_classification.py:1469: UndefinedMetricWarning: Precision and F-score are ill-defined and being set to 0.0 in labels with no predicted samples. Use `zero_division` parameter to control this behavior.\n",
      "  _warn_prf(average, modifier, msg_start, len(result))\n"
     ]
    }
   ],
   "source": [
    "# Classification Report\n",
    "\n",
    "print(classification_report(y_test, y_pred))"
   ]
  },
  {
   "cell_type": "code",
   "execution_count": 61,
   "id": "7c91bba8",
   "metadata": {},
   "outputs": [
    {
     "name": "stdout",
     "output_type": "stream",
     "text": [
      "[[ 5  0  7  0  0]\n",
      " [ 1 19 10  2  0]\n",
      " [ 5 10 19  0  0]\n",
      " [ 0  4  2  4  0]\n",
      " [ 0  4  4  1  0]]\n"
     ]
    }
   ],
   "source": [
    "# Confusion Matrix\n",
    "\n",
    "cf_matrix = confusion_matrix(y_test, y_pred)\n",
    "print(cf_matrix)"
   ]
  },
  {
   "cell_type": "code",
   "execution_count": 62,
   "id": "545b853c",
   "metadata": {},
   "outputs": [],
   "source": [
    "labels = ['C/R', 'L', 'M', 'N', 'S']\n",
    "labels.sort()"
   ]
  },
  {
   "cell_type": "code",
   "execution_count": 63,
   "id": "ccf5a385",
   "metadata": {},
   "outputs": [
    {
     "data": {
      "image/png": "[encoded data removed]",
      "text/plain": [
       "<Figure size 1000x1000 with 2 Axes>"
      ]
     },
     "metadata": {},
     "output_type": "display_data"
    }
   ],
   "source": [
    "import seaborn as sns\n",
    "\n",
    "fig = plt.figure(figsize=(10,10))\n",
    "ax = sns.heatmap(cf_matrix, annot=True, cmap='coolwarm', fmt='.0f',\n",
    "                xticklabels=labels, yticklabels=labels)\n",
    "\n",
    "ax.set_title('Seaborn Confuse Matrix with labels\\n\\n');\n",
    "ax.set_xlabel('\\nPredicted values')\n",
    "ax.set_ylabel('Actual Values');"
   ]
  },
  {
   "cell_type": "markdown",
   "id": "d5896f28",
   "metadata": {},
   "source": [
    "# XGBoost\n"
   ]
  },
  {
   "cell_type": "code",
   "execution_count": 64,
   "id": "1d0e00bc",
   "metadata": {},
   "outputs": [],
   "source": [
    "from xgboost import XGBClassifier"
   ]
  },
  {
   "cell_type": "code",
   "execution_count": 65,
   "id": "822993b4",
   "metadata": {},
   "outputs": [],
   "source": [
    "xgb = XGBClassifier(objective='multi:softmax', max_depth=6, num_class=5, n_estimators=100, random_state=42, subsample=0.8)"
   ]
  },
  {
   "cell_type": "code",
   "execution_count": 66,
   "id": "06d21720",
   "metadata": {},
   "outputs": [],
   "source": [
    "# Fit the model\n",
    "\n",
    "clf = xgb.fit(X_train, y_train)"
   ]
  },
  {
   "cell_type": "code",
   "execution_count": 67,
   "id": "b482b081",
   "metadata": {},
   "outputs": [],
   "source": [
    "# Predict the unseen data\n",
    "\n",
    "y_pred = clf.predict(X_test)"
   ]
  },
  {
   "cell_type": "code",
   "execution_count": 68,
   "id": "ad4a1bdb",
   "metadata": {},
   "outputs": [
    {
     "data": {
      "text/plain": [
       "{'objective': 'multi:softmax',\n",
       " 'base_score': None,\n",
       " 'booster': None,\n",
       " 'callbacks': None,\n",
       " 'colsample_bylevel': None,\n",
       " 'colsample_bynode': None,\n",
       " 'colsample_bytree': None,\n",
       " 'device': None,\n",
       " 'early_stopping_rounds': None,\n",
       " 'enable_categorical': False,\n",
       " 'eval_metric': None,\n",
       " 'feature_types': None,\n",
       " 'gamma': None,\n",
       " 'grow_policy': None,\n",
       " 'importance_type': None,\n",
       " 'interaction_constraints': None,\n",
       " 'learning_rate': None,\n",
       " 'max_bin': None,\n",
       " 'max_cat_threshold': None,\n",
       " 'max_cat_to_onehot': None,\n",
       " 'max_delta_step': None,\n",
       " 'max_depth': 6,\n",
       " 'max_leaves': None,\n",
       " 'min_child_weight': None,\n",
       " 'missing': nan,\n",
       " 'monotone_constraints': None,\n",
       " 'multi_strategy': None,\n",
       " 'n_estimators': 100,\n",
       " 'n_jobs': None,\n",
       " 'num_parallel_tree': None,\n",
       " 'random_state': 42,\n",
       " 'reg_alpha': None,\n",
       " 'reg_lambda': None,\n",
       " 'sampling_method': None,\n",
       " 'scale_pos_weight': None,\n",
       " 'subsample': 0.8,\n",
       " 'tree_method': None,\n",
       " 'validate_parameters': None,\n",
       " 'verbosity': None,\n",
       " 'num_class': 5}"
      ]
     },
     "execution_count": 68,
     "metadata": {},
     "output_type": "execute_result"
    }
   ],
   "source": [
    "clf.get_params()"
   ]
  },
  {
   "cell_type": "code",
   "execution_count": 69,
   "id": "eb1ea588",
   "metadata": {},
   "outputs": [
    {
     "data": {
      "text/plain": [
       "0.4639175257731959"
      ]
     },
     "execution_count": 69,
     "metadata": {},
     "output_type": "execute_result"
    }
   ],
   "source": [
    "# accuracy score\n",
    "\n",
    "accuracy_score(y_test, y_pred)"
   ]
  },
  {
   "cell_type": "code",
   "execution_count": 70,
   "id": "27ac0a79",
   "metadata": {},
   "outputs": [
    {
     "name": "stdout",
     "output_type": "stream",
     "text": [
      "{'learning_rate': [0.01, 0.02, 0.03, 0.05, 0.1], 'gamma': [0.1, 0.2, 0.3, 0.4, 0.5], 'max_depth': [5, 8, 10, 15]}\n"
     ]
    }
   ],
   "source": [
    "# Hyperparameter Tuning and Cross Validation\n",
    "\n",
    "param_dict = {'learning_rate': [0.01, 0.02, 0.03, 0.05, 0.10],\n",
    "             'gamma': [0.1, 0.2, 0.3, 0.4, 0.5],\n",
    "             'max_depth': [5, 8, 10, 15]\n",
    "             }\n",
    "print(param_dict)"
   ]
  },
  {
   "cell_type": "code",
   "execution_count": 71,
   "id": "ca4c9811",
   "metadata": {},
   "outputs": [],
   "source": [
    "from sklearn.model_selection import GridSearchCV\n",
    "\n",
    "dt_grid = GridSearchCV(estimator = XGBClassifier(),\n",
    "                      param_grid = param_dict,\n",
    "                      cv = 5,\n",
    "                      verbose = 2,\n",
    "                      n_jobs = -1)"
   ]
  },
  {
   "cell_type": "code",
   "execution_count": 72,
   "id": "921c3b22",
   "metadata": {},
   "outputs": [
    {
     "name": "stdout",
     "output_type": "stream",
     "text": [
      "Fitting 5 folds for each of 100 candidates, totalling 500 fits\n"
     ]
    },
    {
     "data": {
      "text/html": [
       "<style>#sk-container-id-6 {color: black;}#sk-container-id-6 pre{padding: 0;}#sk-container-id-6 div.sk-toggleable {background-color: white;}#sk-container-id-6 label.sk-toggleable__label {cursor: pointer;display: block;width: 100%;margin-bottom: 0;padding: 0.3em;box-sizing: border-box;text-align: center;}#sk-container-id-6 label.sk-toggleable__label-arrow:before {content: \"▸\";float: left;margin-right: 0.25em;color: #696969;}#sk-container-id-6 label.sk-toggleable__label-arrow:hover:before {color: black;}#sk-container-id-6 div.sk-estimator:hover label.sk-toggleable__label-arrow:before {color: black;}#sk-container-id-6 div.sk-toggleable__content {max-height: 0;max-width: 0;overflow: hidden;text-align: left;background-color: #f0f8ff;}#sk-container-id-6 div.sk-toggleable__content pre {margin: 0.2em;color: black;border-radius: 0.25em;background-color: #f0f8ff;}#sk-container-id-6 input.sk-toggleable__control:checked~div.sk-toggleable__content {max-height: 200px;max-width: 100%;overflow: auto;}#sk-container-id-6 input.sk-toggleable__control:checked~label.sk-toggleable__label-arrow:before {content: \"▾\";}#sk-container-id-6 div.sk-estimator input.sk-toggleable__control:checked~label.sk-toggleable__label {background-color: #d4ebff;}#sk-container-id-6 div.sk-label input.sk-toggleable__control:checked~label.sk-toggleable__label {background-color: #d4ebff;}#sk-container-id-6 input.sk-hidden--visually {border: 0;clip: rect(1px 1px 1px 1px);clip: rect(1px, 1px, 1px, 1px);height: 1px;margin: -1px;overflow: hidden;padding: 0;position: absolute;width: 1px;}#sk-container-id-6 div.sk-estimator {font-family: monospace;background-color: #f0f8ff;border: 1px dotted black;border-radius: 0.25em;box-sizing: border-box;margin-bottom: 0.5em;}#sk-container-id-6 div.sk-estimator:hover {background-color: #d4ebff;}#sk-container-id-6 div.sk-parallel-item::after {content: \"\";width: 100%;border-bottom: 1px solid gray;flex-grow: 1;}#sk-container-id-6 div.sk-label:hover label.sk-toggleable__label {background-color: #d4ebff;}#sk-container-id-6 div.sk-serial::before {content: \"\";position: absolute;border-left: 1px solid gray;box-sizing: border-box;top: 0;bottom: 0;left: 50%;z-index: 0;}#sk-container-id-6 div.sk-serial {display: flex;flex-direction: column;align-items: center;background-color: white;padding-right: 0.2em;padding-left: 0.2em;position: relative;}#sk-container-id-6 div.sk-item {position: relative;z-index: 1;}#sk-container-id-6 div.sk-parallel {display: flex;align-items: stretch;justify-content: center;background-color: white;position: relative;}#sk-container-id-6 div.sk-item::before, #sk-container-id-6 div.sk-parallel-item::before {content: \"\";position: absolute;border-left: 1px solid gray;box-sizing: border-box;top: 0;bottom: 0;left: 50%;z-index: -1;}#sk-container-id-6 div.sk-parallel-item {display: flex;flex-direction: column;z-index: 1;position: relative;background-color: white;}#sk-container-id-6 div.sk-parallel-item:first-child::after {align-self: flex-end;width: 50%;}#sk-container-id-6 div.sk-parallel-item:last-child::after {align-self: flex-start;width: 50%;}#sk-container-id-6 div.sk-parallel-item:only-child::after {width: 0;}#sk-container-id-6 div.sk-dashed-wrapped {border: 1px dashed gray;margin: 0 0.4em 0.5em 0.4em;box-sizing: border-box;padding-bottom: 0.4em;background-color: white;}#sk-container-id-6 div.sk-label label {font-family: monospace;font-weight: bold;display: inline-block;line-height: 1.2em;}#sk-container-id-6 div.sk-label-container {text-align: center;}#sk-container-id-6 div.sk-container {/* jupyter's `normalize.less` sets `[hidden] { display: none; }` but bootstrap.min.css set `[hidden] { display: none !important; }` so we also need the `!important` here to be able to override the default hidden behavior on the sphinx rendered scikit-learn.org. See: https://github.com/scikit-learn/scikit-learn/issues/21755 */display: inline-block !important;position: relative;}#sk-container-id-6 div.sk-text-repr-fallback {display: none;}</style><div id=\"sk-container-id-6\" class=\"sk-top-container\"><div class=\"sk-text-repr-fallback\"><pre>GridSearchCV(cv=5,\n",
       "             estimator=XGBClassifier(base_score=None, booster=None,\n",
       "                                     callbacks=None, colsample_bylevel=None,\n",
       "                                     colsample_bynode=None,\n",
       "                                     colsample_bytree=None, device=None,\n",
       "                                     early_stopping_rounds=None,\n",
       "                                     enable_categorical=False, eval_metric=None,\n",
       "                                     feature_types=None, gamma=None,\n",
       "                                     grow_policy=None, importance_type=None,\n",
       "                                     interaction_constraints=None,\n",
       "                                     learning_rate=None,...\n",
       "                                     max_cat_to_onehot=None,\n",
       "                                     max_delta_step=None, max_depth=None,\n",
       "                                     max_leaves=None, min_child_weight=None,\n",
       "                                     missing=nan, monotone_constraints=None,\n",
       "                                     multi_strategy=None, n_estimators=None,\n",
       "                                     n_jobs=None, num_parallel_tree=None,\n",
       "                                     random_state=None, ...),\n",
       "             n_jobs=-1,\n",
       "             param_grid={&#x27;gamma&#x27;: [0.1, 0.2, 0.3, 0.4, 0.5],\n",
       "                         &#x27;learning_rate&#x27;: [0.01, 0.02, 0.03, 0.05, 0.1],\n",
       "                         &#x27;max_depth&#x27;: [5, 8, 10, 15]},\n",
       "             verbose=2)</pre><b>In a Jupyter environment, please rerun this cell to show the HTML representation or trust the notebook. <br />On GitHub, the HTML representation is unable to render, please try loading this page with nbviewer.org.</b></div><div class=\"sk-container\" hidden><div class=\"sk-item sk-dashed-wrapped\"><div class=\"sk-label-container\"><div class=\"sk-label sk-toggleable\"><input class=\"sk-toggleable__control sk-hidden--visually\" id=\"sk-estimator-id-12\" type=\"checkbox\" ><label for=\"sk-estimator-id-12\" class=\"sk-toggleable__label sk-toggleable__label-arrow\">GridSearchCV</label><div class=\"sk-toggleable__content\"><pre>GridSearchCV(cv=5,\n",
       "             estimator=XGBClassifier(base_score=None, booster=None,\n",
       "                                     callbacks=None, colsample_bylevel=None,\n",
       "                                     colsample_bynode=None,\n",
       "                                     colsample_bytree=None, device=None,\n",
       "                                     early_stopping_rounds=None,\n",
       "                                     enable_categorical=False, eval_metric=None,\n",
       "                                     feature_types=None, gamma=None,\n",
       "                                     grow_policy=None, importance_type=None,\n",
       "                                     interaction_constraints=None,\n",
       "                                     learning_rate=None,...\n",
       "                                     max_cat_to_onehot=None,\n",
       "                                     max_delta_step=None, max_depth=None,\n",
       "                                     max_leaves=None, min_child_weight=None,\n",
       "                                     missing=nan, monotone_constraints=None,\n",
       "                                     multi_strategy=None, n_estimators=None,\n",
       "                                     n_jobs=None, num_parallel_tree=None,\n",
       "                                     random_state=None, ...),\n",
       "             n_jobs=-1,\n",
       "             param_grid={&#x27;gamma&#x27;: [0.1, 0.2, 0.3, 0.4, 0.5],\n",
       "                         &#x27;learning_rate&#x27;: [0.01, 0.02, 0.03, 0.05, 0.1],\n",
       "                         &#x27;max_depth&#x27;: [5, 8, 10, 15]},\n",
       "             verbose=2)</pre></div></div></div><div class=\"sk-parallel\"><div class=\"sk-parallel-item\"><div class=\"sk-item\"><div class=\"sk-label-container\"><div class=\"sk-label sk-toggleable\"><input class=\"sk-toggleable__control sk-hidden--visually\" id=\"sk-estimator-id-13\" type=\"checkbox\" ><label for=\"sk-estimator-id-13\" class=\"sk-toggleable__label sk-toggleable__label-arrow\">estimator: XGBClassifier</label><div class=\"sk-toggleable__content\"><pre>XGBClassifier(base_score=None, booster=None, callbacks=None,\n",
       "              colsample_bylevel=None, colsample_bynode=None,\n",
       "              colsample_bytree=None, device=None, early_stopping_rounds=None,\n",
       "              enable_categorical=False, eval_metric=None, feature_types=None,\n",
       "              gamma=None, grow_policy=None, importance_type=None,\n",
       "              interaction_constraints=None, learning_rate=None, max_bin=None,\n",
       "              max_cat_threshold=None, max_cat_to_onehot=None,\n",
       "              max_delta_step=None, max_depth=None, max_leaves=None,\n",
       "              min_child_weight=None, missing=nan, monotone_constraints=None,\n",
       "              multi_strategy=None, n_estimators=None, n_jobs=None,\n",
       "              num_parallel_tree=None, random_state=None, ...)</pre></div></div></div><div class=\"sk-serial\"><div class=\"sk-item\"><div class=\"sk-estimator sk-toggleable\"><input class=\"sk-toggleable__control sk-hidden--visually\" id=\"sk-estimator-id-14\" type=\"checkbox\" ><label for=\"sk-estimator-id-14\" class=\"sk-toggleable__label sk-toggleable__label-arrow\">XGBClassifier</label><div class=\"sk-toggleable__content\"><pre>XGBClassifier(base_score=None, booster=None, callbacks=None,\n",
       "              colsample_bylevel=None, colsample_bynode=None,\n",
       "              colsample_bytree=None, device=None, early_stopping_rounds=None,\n",
       "              enable_categorical=False, eval_metric=None, feature_types=None,\n",
       "              gamma=None, grow_policy=None, importance_type=None,\n",
       "              interaction_constraints=None, learning_rate=None, max_bin=None,\n",
       "              max_cat_threshold=None, max_cat_to_onehot=None,\n",
       "              max_delta_step=None, max_depth=None, max_leaves=None,\n",
       "              min_child_weight=None, missing=nan, monotone_constraints=None,\n",
       "              multi_strategy=None, n_estimators=None, n_jobs=None,\n",
       "              num_parallel_tree=None, random_state=None, ...)</pre></div></div></div></div></div></div></div></div></div></div>"
      ],
      "text/plain": [
       "GridSearchCV(cv=5,\n",
       "             estimator=XGBClassifier(base_score=None, booster=None,\n",
       "                                     callbacks=None, colsample_bylevel=None,\n",
       "                                     colsample_bynode=None,\n",
       "                                     colsample_bytree=None, device=None,\n",
       "                                     early_stopping_rounds=None,\n",
       "                                     enable_categorical=False, eval_metric=None,\n",
       "                                     feature_types=None, gamma=None,\n",
       "                                     grow_policy=None, importance_type=None,\n",
       "                                     interaction_constraints=None,\n",
       "                                     learning_rate=None,...\n",
       "                                     max_cat_to_onehot=None,\n",
       "                                     max_delta_step=None, max_depth=None,\n",
       "                                     max_leaves=None, min_child_weight=None,\n",
       "                                     missing=nan, monotone_constraints=None,\n",
       "                                     multi_strategy=None, n_estimators=None,\n",
       "                                     n_jobs=None, num_parallel_tree=None,\n",
       "                                     random_state=None, ...),\n",
       "             n_jobs=-1,\n",
       "             param_grid={'gamma': [0.1, 0.2, 0.3, 0.4, 0.5],\n",
       "                         'learning_rate': [0.01, 0.02, 0.03, 0.05, 0.1],\n",
       "                         'max_depth': [5, 8, 10, 15]},\n",
       "             verbose=2)"
      ]
     },
     "execution_count": 72,
     "metadata": {},
     "output_type": "execute_result"
    }
   ],
   "source": [
    "dt_grid.fit(X_train, y_train)"
   ]
  },
  {
   "cell_type": "code",
   "execution_count": 73,
   "id": "3887d7b6",
   "metadata": {},
   "outputs": [
    {
     "data": {
      "text/plain": [
       "{'gamma': 0.4, 'learning_rate': 0.1, 'max_depth': 15}"
      ]
     },
     "execution_count": 73,
     "metadata": {},
     "output_type": "execute_result"
    }
   ],
   "source": [
    "dt_grid.best_params_\n"
   ]
  },
  {
   "cell_type": "code",
   "execution_count": 74,
   "id": "76d374e8",
   "metadata": {},
   "outputs": [
    {
     "data": {
      "text/plain": [
       "0.5285714285714286"
      ]
     },
     "execution_count": 74,
     "metadata": {},
     "output_type": "execute_result"
    }
   ],
   "source": [
    "dt_grid.best_score_"
   ]
  },
  {
   "cell_type": "code",
   "execution_count": 75,
   "id": "60819f8c",
   "metadata": {},
   "outputs": [
    {
     "name": "stdout",
     "output_type": "stream",
     "text": [
      "              precision    recall  f1-score   support\n",
      "\n",
      "           0       0.64      0.58      0.61        12\n",
      "           1       0.48      0.34      0.40        32\n",
      "           2       0.46      0.56      0.51        34\n",
      "           3       0.42      0.50      0.45        10\n",
      "           4       0.30      0.33      0.32         9\n",
      "\n",
      "    accuracy                           0.46        97\n",
      "   macro avg       0.46      0.46      0.46        97\n",
      "weighted avg       0.47      0.46      0.46        97\n",
      "\n"
     ]
    }
   ],
   "source": [
    "# Classification Report\n",
    "\n",
    "print(classification_report(y_test, y_pred))"
   ]
  },
  {
   "cell_type": "code",
   "execution_count": 76,
   "id": "f27d785c",
   "metadata": {},
   "outputs": [
    {
     "name": "stdout",
     "output_type": "stream",
     "text": [
      "[[ 7  0  5  0  0]\n",
      " [ 0 11 14  4  3]\n",
      " [ 4  6 19  2  3]\n",
      " [ 0  4  0  5  1]\n",
      " [ 0  2  3  1  3]]\n"
     ]
    }
   ],
   "source": [
    "# Confusion Matrix\n",
    "\n",
    "cf_matrix = confusion_matrix(y_test, y_pred)\n",
    "print(cf_matrix)"
   ]
  },
  {
   "cell_type": "code",
   "execution_count": 77,
   "id": "c9fd8721",
   "metadata": {},
   "outputs": [],
   "source": [
    "labels = ['C/R', 'L', 'M', 'N', 'S']\n",
    "labels.sort()"
   ]
  },
  {
   "cell_type": "code",
   "execution_count": 78,
   "id": "25221d00",
   "metadata": {},
   "outputs": [
    {
     "data": {
      "image/png": "[encoded data removed]",
      "text/plain": [
       "<Figure size 1000x1000 with 2 Axes>"
      ]
     },
     "metadata": {},
     "output_type": "display_data"
    }
   ],
   "source": [
    "import seaborn as sns\n",
    "\n",
    "fig = plt.figure(figsize=(10,10))\n",
    "ax = sns.heatmap(cf_matrix, annot=True, cmap='coolwarm', fmt='.0f',\n",
    "                xticklabels=labels, yticklabels=labels)\n",
    "\n",
    "ax.set_title('Seaborn Confuse Matrix with labels\\n\\n');\n",
    "ax.set_xlabel('\\nPredicted values')\n",
    "ax.set_ylabel('Actual Values');"
   ]
  },
  {
   "cell_type": "markdown",
   "id": "efa020cd",
   "metadata": {},
   "source": [
    "# Feature Importance"
   ]
  },
  {
   "cell_type": "code",
   "execution_count": 79,
   "id": "bb51bf81",
   "metadata": {},
   "outputs": [
    {
     "data": {
      "text/plain": [
       "Index(['Building_height', 'Building_age', 'Torsional_irregularity',\n",
       "       'Projection_in_plan', 'Minimum_normalized_lateral_stiffness_index',\n",
       "       'Minimum_normalized_lateral_strength_index', 'Overhanging_ratio',\n",
       "       'Normalized_redundancy_score', 'Priority_index', 'PGA', 'PGV/PGA',\n",
       "       'Effective_SaT1'],\n",
       "      dtype='object')"
      ]
     },
     "execution_count": 79,
     "metadata": {},
     "output_type": "execute_result"
    }
   ],
   "source": [
    "feature_names = X_train.columns\n",
    "feature_names"
   ]
  },
  {
   "cell_type": "code",
   "execution_count": 80,
   "id": "bd28a652",
   "metadata": {},
   "outputs": [
    {
     "data": {
      "text/plain": [
       "array([0.08464705, 0.07305799, 0.07245166, 0.0610663 , 0.06086462,\n",
       "       0.06343207, 0.05972541, 0.10380431, 0.07762781, 0.15733728,\n",
       "       0.12766448, 0.05832104], dtype=float32)"
      ]
     },
     "execution_count": 80,
     "metadata": {},
     "output_type": "execute_result"
    }
   ],
   "source": [
    "clf.feature_importances_"
   ]
  },
  {
   "cell_type": "code",
   "execution_count": 81,
   "id": "50f34186",
   "metadata": {},
   "outputs": [
    {
     "data": {
      "text/html": [
       "<div>\n",
       "<style scoped>\n",
       "    .dataframe tbody tr th:only-of-type {\n",
       "        vertical-align: middle;\n",
       "    }\n",
       "\n",
       "    .dataframe tbody tr th {\n",
       "        vertical-align: top;\n",
       "    }\n",
       "\n",
       "    .dataframe thead th {\n",
       "        text-align: right;\n",
       "    }\n",
       "</style>\n",
       "<table border=\"1\" class=\"dataframe\">\n",
       "  <thead>\n",
       "    <tr style=\"text-align: right;\">\n",
       "      <th></th>\n",
       "      <th>0</th>\n",
       "    </tr>\n",
       "  </thead>\n",
       "  <tbody>\n",
       "    <tr>\n",
       "      <th>PGA</th>\n",
       "      <td>0.157337</td>\n",
       "    </tr>\n",
       "    <tr>\n",
       "      <th>PGV/PGA</th>\n",
       "      <td>0.127664</td>\n",
       "    </tr>\n",
       "    <tr>\n",
       "      <th>Normalized_redundancy_score</th>\n",
       "      <td>0.103804</td>\n",
       "    </tr>\n",
       "    <tr>\n",
       "      <th>Building_height</th>\n",
       "      <td>0.084647</td>\n",
       "    </tr>\n",
       "    <tr>\n",
       "      <th>Priority_index</th>\n",
       "      <td>0.077628</td>\n",
       "    </tr>\n",
       "    <tr>\n",
       "      <th>Building_age</th>\n",
       "      <td>0.073058</td>\n",
       "    </tr>\n",
       "    <tr>\n",
       "      <th>Torsional_irregularity</th>\n",
       "      <td>0.072452</td>\n",
       "    </tr>\n",
       "    <tr>\n",
       "      <th>Minimum_normalized_lateral_strength_index</th>\n",
       "      <td>0.063432</td>\n",
       "    </tr>\n",
       "    <tr>\n",
       "      <th>Projection_in_plan</th>\n",
       "      <td>0.061066</td>\n",
       "    </tr>\n",
       "    <tr>\n",
       "      <th>Minimum_normalized_lateral_stiffness_index</th>\n",
       "      <td>0.060865</td>\n",
       "    </tr>\n",
       "    <tr>\n",
       "      <th>Overhanging_ratio</th>\n",
       "      <td>0.059725</td>\n",
       "    </tr>\n",
       "    <tr>\n",
       "      <th>Effective_SaT1</th>\n",
       "      <td>0.058321</td>\n",
       "    </tr>\n",
       "  </tbody>\n",
       "</table>\n",
       "</div>"
      ],
      "text/plain": [
       "                                                   0\n",
       "PGA                                         0.157337\n",
       "PGV/PGA                                     0.127664\n",
       "Normalized_redundancy_score                 0.103804\n",
       "Building_height                             0.084647\n",
       "Priority_index                              0.077628\n",
       "Building_age                                0.073058\n",
       "Torsional_irregularity                      0.072452\n",
       "Minimum_normalized_lateral_strength_index   0.063432\n",
       "Projection_in_plan                          0.061066\n",
       "Minimum_normalized_lateral_stiffness_index  0.060865\n",
       "Overhanging_ratio                           0.059725\n",
       "Effective_SaT1                              0.058321"
      ]
     },
     "execution_count": 81,
     "metadata": {},
     "output_type": "execute_result"
    }
   ],
   "source": [
    "feature_importance = pd.DataFrame(clf.feature_importances_, index = feature_names).sort_values(0, ascending=False)\n",
    "feature_importance"
   ]
  },
  {
   "cell_type": "code",
   "execution_count": 82,
   "id": "8a4d2a90",
   "metadata": {},
   "outputs": [
    {
     "data": {
      "text/plain": [
       "['PGA',\n",
       " 'PGV/PGA',\n",
       " 'Normalized_redundancy_score',\n",
       " 'Building_height',\n",
       " 'Priority_index',\n",
       " 'Building_age',\n",
       " 'Torsional_irregularity',\n",
       " 'Minimum_normalized_lateral_strength_index',\n",
       " 'Projection_in_plan',\n",
       " 'Minimum_normalized_lateral_stiffness_index',\n",
       " 'Overhanging_ratio',\n",
       " 'Effective_SaT1']"
      ]
     },
     "execution_count": 82,
     "metadata": {},
     "output_type": "execute_result"
    }
   ],
   "source": [
    "features = list(feature_importance[feature_importance[0]>0].index)\n",
    "features"
   ]
  },
  {
   "cell_type": "code",
   "execution_count": 83,
   "id": "acfdc623",
   "metadata": {},
   "outputs": [
    {
     "data": {
      "text/plain": [
       "<Axes: >"
      ]
     },
     "execution_count": 83,
     "metadata": {},
     "output_type": "execute_result"
    },
    {
     "data": {
      "image/png": "[encoded data removed]",
      "text/plain": [
       "<Figure size 640x480 with 1 Axes>"
      ]
     },
     "metadata": {},
     "output_type": "display_data"
    }
   ],
   "source": [
    "feature_importance.head(10).plot(kind='bar')"
   ]
  },
  {
   "cell_type": "code",
   "execution_count": null,
   "id": "21ec3f2b",
   "metadata": {},
   "outputs": [],
   "source": []
  },
  {
   "cell_type": "code",
   "execution_count": null,
   "id": "86064c97",
   "metadata": {},
   "outputs": [],
   "source": []
  },
  {
   "cell_type": "code",
   "execution_count": null,
   "id": "a2e55162",
   "metadata": {},
   "outputs": [],
   "source": []
  },
  {
   "cell_type": "code",
   "execution_count": null,
   "id": "e4f71301",
   "metadata": {},
   "outputs": [],
   "source": []
  },
  {
   "cell_type": "code",
   "execution_count": null,
   "id": "87f45a44",
   "metadata": {},
   "outputs": [],
   "source": []
  },
  {
   "cell_type": "code",
   "execution_count": null,
   "id": "7a697b47",
   "metadata": {},
   "outputs": [],
   "source": []
  },
  {
   "cell_type": "code",
   "execution_count": null,
   "id": "dd8995b3",
   "metadata": {},
   "outputs": [],
   "source": []
  }
 ],
 "metadata": {
  "kernelspec": {
   "display_name": "Python 3 (ipykernel)",
   "language": "python",
   "name": "python3"
  },
  "language_info": {
   "codemirror_mode": {
    "name": "ipython",
    "version": 3
   },
   "file_extension": ".py",
   "mimetype": "text/x-python",
   "name": "python",
   "nbconvert_exporter": "python",
   "pygments_lexer": "ipython3",
   "version": "3.11.5"
  }
 },
 "nbformat": 4,
 "nbformat_minor": 5
}
