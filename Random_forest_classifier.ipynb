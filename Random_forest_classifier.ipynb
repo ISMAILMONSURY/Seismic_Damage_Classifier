{
 "cells": [
  {
   "cell_type": "markdown",
   "id": "87c0ecf1",
   "metadata": {},
   "source": [
    "# Duzce_database_damage_classifier"
   ]
  },
  {
   "cell_type": "markdown",
   "id": "f3734907",
   "metadata": {},
   "source": [
    "# Importing Libraries"
   ]
  },
  {
   "cell_type": "code",
   "execution_count": 1,
   "id": "b457263b",
   "metadata": {},
   "outputs": [],
   "source": [
    "import pandas as pd\n",
    "import numpy as np\n",
    "import matplotlib.pyplot as plt\n",
    "%matplotlib inline\n",
    "import seaborn as sns"
   ]
  },
  {
   "cell_type": "markdown",
   "id": "4eb64aa7",
   "metadata": {},
   "source": [
    "# Load_data"
   ]
  },
  {
   "cell_type": "code",
   "execution_count": 2,
   "id": "b5389ea6",
   "metadata": {},
   "outputs": [],
   "source": [
    "headers = ['Construction_time', 'Storey_height', 'Number_of_stories', 'Floor_area', 'Plan_irregularity_A1', 'Plan_irregularity_A2', 'Plan_irregularity_A3', 'Plan_irregularity_A4', 'Vertical_irregularity_B1', 'Vertical_irregularity_B2', 'Vertical_irregularity_B3', 'Bays_Number_x', 'Bays_Number_y', 'System_type', 'Overhanging_area', 'Column_area', 'storey_number', 'Class']\n",
    "df = pd.read_csv('Database.csv', names=headers)"
   ]
  },
  {
   "cell_type": "markdown",
   "id": "85b6200c",
   "metadata": {},
   "source": [
    "# Explore Data"
   ]
  },
  {
   "cell_type": "code",
   "execution_count": 3,
   "id": "4c244405",
   "metadata": {},
   "outputs": [
    {
     "data": {
      "text/plain": [
       "Construction_time           float64\n",
       "Storey_height               float64\n",
       "Number_of_stories             int64\n",
       "Floor_area                  float64\n",
       "Plan_irregularity_A1          int64\n",
       "Plan_irregularity_A2          int64\n",
       "Plan_irregularity_A3          int64\n",
       "Plan_irregularity_A4          int64\n",
       "Vertical_irregularity_B1      int64\n",
       "Vertical_irregularity_B2      int64\n",
       "Vertical_irregularity_B3      int64\n",
       "Bays_Number_x                 int64\n",
       "Bays_Number_y                 int64\n",
       "System_type                   int64\n",
       "Overhanging_area            float64\n",
       "Column_area                 float64\n",
       "storey_number                 int64\n",
       "Class                        object\n",
       "dtype: object"
      ]
     },
     "execution_count": 3,
     "metadata": {},
     "output_type": "execute_result"
    }
   ],
   "source": [
    "df.dtypes"
   ]
  },
  {
   "cell_type": "code",
   "execution_count": 4,
   "id": "ae2934bb",
   "metadata": {},
   "outputs": [
    {
     "data": {
      "text/html": [
       "<div>\n",
       "<style scoped>\n",
       "    .dataframe tbody tr th:only-of-type {\n",
       "        vertical-align: middle;\n",
       "    }\n",
       "\n",
       "    .dataframe tbody tr th {\n",
       "        vertical-align: top;\n",
       "    }\n",
       "\n",
       "    .dataframe thead th {\n",
       "        text-align: right;\n",
       "    }\n",
       "</style>\n",
       "<table border=\"1\" class=\"dataframe\">\n",
       "  <thead>\n",
       "    <tr style=\"text-align: right;\">\n",
       "      <th></th>\n",
       "      <th>Construction_time</th>\n",
       "      <th>Storey_height</th>\n",
       "      <th>Number_of_stories</th>\n",
       "      <th>Floor_area</th>\n",
       "      <th>Plan_irregularity_A1</th>\n",
       "      <th>Plan_irregularity_A2</th>\n",
       "      <th>Plan_irregularity_A3</th>\n",
       "      <th>Plan_irregularity_A4</th>\n",
       "      <th>Vertical_irregularity_B1</th>\n",
       "      <th>Vertical_irregularity_B2</th>\n",
       "      <th>Vertical_irregularity_B3</th>\n",
       "      <th>Bays_Number_x</th>\n",
       "      <th>Bays_Number_y</th>\n",
       "      <th>System_type</th>\n",
       "      <th>Overhanging_area</th>\n",
       "      <th>Column_area</th>\n",
       "      <th>storey_number</th>\n",
       "      <th>Class</th>\n",
       "    </tr>\n",
       "  </thead>\n",
       "  <tbody>\n",
       "    <tr>\n",
       "      <th>count</th>\n",
       "      <td>481.000000</td>\n",
       "      <td>483.000000</td>\n",
       "      <td>483.000000</td>\n",
       "      <td>483.00000</td>\n",
       "      <td>483.000000</td>\n",
       "      <td>483.000000</td>\n",
       "      <td>483.000000</td>\n",
       "      <td>483.000000</td>\n",
       "      <td>483.000000</td>\n",
       "      <td>483.000000</td>\n",
       "      <td>483.000000</td>\n",
       "      <td>483.000000</td>\n",
       "      <td>483.000000</td>\n",
       "      <td>483.000000</td>\n",
       "      <td>483.000000</td>\n",
       "      <td>483.000000</td>\n",
       "      <td>483.000000</td>\n",
       "      <td>483</td>\n",
       "    </tr>\n",
       "    <tr>\n",
       "      <th>unique</th>\n",
       "      <td>NaN</td>\n",
       "      <td>NaN</td>\n",
       "      <td>NaN</td>\n",
       "      <td>NaN</td>\n",
       "      <td>NaN</td>\n",
       "      <td>NaN</td>\n",
       "      <td>NaN</td>\n",
       "      <td>NaN</td>\n",
       "      <td>NaN</td>\n",
       "      <td>NaN</td>\n",
       "      <td>NaN</td>\n",
       "      <td>NaN</td>\n",
       "      <td>NaN</td>\n",
       "      <td>NaN</td>\n",
       "      <td>NaN</td>\n",
       "      <td>NaN</td>\n",
       "      <td>NaN</td>\n",
       "      <td>6</td>\n",
       "    </tr>\n",
       "    <tr>\n",
       "      <th>top</th>\n",
       "      <td>NaN</td>\n",
       "      <td>NaN</td>\n",
       "      <td>NaN</td>\n",
       "      <td>NaN</td>\n",
       "      <td>NaN</td>\n",
       "      <td>NaN</td>\n",
       "      <td>NaN</td>\n",
       "      <td>NaN</td>\n",
       "      <td>NaN</td>\n",
       "      <td>NaN</td>\n",
       "      <td>NaN</td>\n",
       "      <td>NaN</td>\n",
       "      <td>NaN</td>\n",
       "      <td>NaN</td>\n",
       "      <td>NaN</td>\n",
       "      <td>NaN</td>\n",
       "      <td>NaN</td>\n",
       "      <td>M</td>\n",
       "    </tr>\n",
       "    <tr>\n",
       "      <th>freq</th>\n",
       "      <td>NaN</td>\n",
       "      <td>NaN</td>\n",
       "      <td>NaN</td>\n",
       "      <td>NaN</td>\n",
       "      <td>NaN</td>\n",
       "      <td>NaN</td>\n",
       "      <td>NaN</td>\n",
       "      <td>NaN</td>\n",
       "      <td>NaN</td>\n",
       "      <td>NaN</td>\n",
       "      <td>NaN</td>\n",
       "      <td>NaN</td>\n",
       "      <td>NaN</td>\n",
       "      <td>NaN</td>\n",
       "      <td>NaN</td>\n",
       "      <td>NaN</td>\n",
       "      <td>NaN</td>\n",
       "      <td>151</td>\n",
       "    </tr>\n",
       "    <tr>\n",
       "      <th>mean</th>\n",
       "      <td>1986.328482</td>\n",
       "      <td>2.837350</td>\n",
       "      <td>4.055901</td>\n",
       "      <td>1053.91795</td>\n",
       "      <td>1.511387</td>\n",
       "      <td>1.960663</td>\n",
       "      <td>1.892340</td>\n",
       "      <td>1.745342</td>\n",
       "      <td>1.917184</td>\n",
       "      <td>1.403727</td>\n",
       "      <td>1.973085</td>\n",
       "      <td>2.805383</td>\n",
       "      <td>3.430642</td>\n",
       "      <td>1.227743</td>\n",
       "      <td>20.689669</td>\n",
       "      <td>4.511984</td>\n",
       "      <td>4.055901</td>\n",
       "      <td>NaN</td>\n",
       "    </tr>\n",
       "    <tr>\n",
       "      <th>std</th>\n",
       "      <td>9.155156</td>\n",
       "      <td>0.136865</td>\n",
       "      <td>0.950530</td>\n",
       "      <td>748.78236</td>\n",
       "      <td>0.500389</td>\n",
       "      <td>0.194598</td>\n",
       "      <td>0.310272</td>\n",
       "      <td>0.436121</td>\n",
       "      <td>0.275889</td>\n",
       "      <td>0.491153</td>\n",
       "      <td>0.162003</td>\n",
       "      <td>1.292900</td>\n",
       "      <td>1.708185</td>\n",
       "      <td>0.419811</td>\n",
       "      <td>20.974272</td>\n",
       "      <td>2.868662</td>\n",
       "      <td>0.950530</td>\n",
       "      <td>NaN</td>\n",
       "    </tr>\n",
       "    <tr>\n",
       "      <th>min</th>\n",
       "      <td>1950.000000</td>\n",
       "      <td>2.500000</td>\n",
       "      <td>2.000000</td>\n",
       "      <td>78.00000</td>\n",
       "      <td>1.000000</td>\n",
       "      <td>1.000000</td>\n",
       "      <td>1.000000</td>\n",
       "      <td>1.000000</td>\n",
       "      <td>1.000000</td>\n",
       "      <td>1.000000</td>\n",
       "      <td>1.000000</td>\n",
       "      <td>0.000000</td>\n",
       "      <td>0.000000</td>\n",
       "      <td>1.000000</td>\n",
       "      <td>0.000000</td>\n",
       "      <td>0.000000</td>\n",
       "      <td>2.000000</td>\n",
       "      <td>NaN</td>\n",
       "    </tr>\n",
       "    <tr>\n",
       "      <th>25%</th>\n",
       "      <td>1980.000000</td>\n",
       "      <td>2.750000</td>\n",
       "      <td>3.000000</td>\n",
       "      <td>492.50000</td>\n",
       "      <td>1.000000</td>\n",
       "      <td>2.000000</td>\n",
       "      <td>2.000000</td>\n",
       "      <td>1.000000</td>\n",
       "      <td>2.000000</td>\n",
       "      <td>1.000000</td>\n",
       "      <td>2.000000</td>\n",
       "      <td>2.000000</td>\n",
       "      <td>2.000000</td>\n",
       "      <td>1.000000</td>\n",
       "      <td>5.710000</td>\n",
       "      <td>2.466500</td>\n",
       "      <td>3.000000</td>\n",
       "      <td>NaN</td>\n",
       "    </tr>\n",
       "    <tr>\n",
       "      <th>50%</th>\n",
       "      <td>1988.000000</td>\n",
       "      <td>2.800000</td>\n",
       "      <td>4.000000</td>\n",
       "      <td>868.00000</td>\n",
       "      <td>2.000000</td>\n",
       "      <td>2.000000</td>\n",
       "      <td>2.000000</td>\n",
       "      <td>2.000000</td>\n",
       "      <td>2.000000</td>\n",
       "      <td>1.000000</td>\n",
       "      <td>2.000000</td>\n",
       "      <td>3.000000</td>\n",
       "      <td>3.000000</td>\n",
       "      <td>1.000000</td>\n",
       "      <td>16.130000</td>\n",
       "      <td>3.770000</td>\n",
       "      <td>4.000000</td>\n",
       "      <td>NaN</td>\n",
       "    </tr>\n",
       "    <tr>\n",
       "      <th>75%</th>\n",
       "      <td>1994.000000</td>\n",
       "      <td>2.900000</td>\n",
       "      <td>5.000000</td>\n",
       "      <td>1475.09000</td>\n",
       "      <td>2.000000</td>\n",
       "      <td>2.000000</td>\n",
       "      <td>2.000000</td>\n",
       "      <td>2.000000</td>\n",
       "      <td>2.000000</td>\n",
       "      <td>2.000000</td>\n",
       "      <td>2.000000</td>\n",
       "      <td>4.000000</td>\n",
       "      <td>4.000000</td>\n",
       "      <td>1.000000</td>\n",
       "      <td>29.430000</td>\n",
       "      <td>5.796500</td>\n",
       "      <td>5.000000</td>\n",
       "      <td>NaN</td>\n",
       "    </tr>\n",
       "    <tr>\n",
       "      <th>max</th>\n",
       "      <td>2001.000000</td>\n",
       "      <td>3.750000</td>\n",
       "      <td>6.000000</td>\n",
       "      <td>5480.00000</td>\n",
       "      <td>2.000000</td>\n",
       "      <td>2.000000</td>\n",
       "      <td>2.000000</td>\n",
       "      <td>2.000000</td>\n",
       "      <td>2.000000</td>\n",
       "      <td>2.000000</td>\n",
       "      <td>2.000000</td>\n",
       "      <td>8.000000</td>\n",
       "      <td>11.000000</td>\n",
       "      <td>2.000000</td>\n",
       "      <td>192.650000</td>\n",
       "      <td>18.721000</td>\n",
       "      <td>6.000000</td>\n",
       "      <td>NaN</td>\n",
       "    </tr>\n",
       "  </tbody>\n",
       "</table>\n",
       "</div>"
      ],
      "text/plain": [
       "        Construction_time  Storey_height  Number_of_stories  Floor_area  \\\n",
       "count          481.000000     483.000000         483.000000   483.00000   \n",
       "unique                NaN            NaN                NaN         NaN   \n",
       "top                   NaN            NaN                NaN         NaN   \n",
       "freq                  NaN            NaN                NaN         NaN   \n",
       "mean          1986.328482       2.837350           4.055901  1053.91795   \n",
       "std              9.155156       0.136865           0.950530   748.78236   \n",
       "min           1950.000000       2.500000           2.000000    78.00000   \n",
       "25%           1980.000000       2.750000           3.000000   492.50000   \n",
       "50%           1988.000000       2.800000           4.000000   868.00000   \n",
       "75%           1994.000000       2.900000           5.000000  1475.09000   \n",
       "max           2001.000000       3.750000           6.000000  5480.00000   \n",
       "\n",
       "        Plan_irregularity_A1  Plan_irregularity_A2  Plan_irregularity_A3  \\\n",
       "count             483.000000            483.000000            483.000000   \n",
       "unique                   NaN                   NaN                   NaN   \n",
       "top                      NaN                   NaN                   NaN   \n",
       "freq                     NaN                   NaN                   NaN   \n",
       "mean                1.511387              1.960663              1.892340   \n",
       "std                 0.500389              0.194598              0.310272   \n",
       "min                 1.000000              1.000000              1.000000   \n",
       "25%                 1.000000              2.000000              2.000000   \n",
       "50%                 2.000000              2.000000              2.000000   \n",
       "75%                 2.000000              2.000000              2.000000   \n",
       "max                 2.000000              2.000000              2.000000   \n",
       "\n",
       "        Plan_irregularity_A4  Vertical_irregularity_B1  \\\n",
       "count             483.000000                483.000000   \n",
       "unique                   NaN                       NaN   \n",
       "top                      NaN                       NaN   \n",
       "freq                     NaN                       NaN   \n",
       "mean                1.745342                  1.917184   \n",
       "std                 0.436121                  0.275889   \n",
       "min                 1.000000                  1.000000   \n",
       "25%                 1.000000                  2.000000   \n",
       "50%                 2.000000                  2.000000   \n",
       "75%                 2.000000                  2.000000   \n",
       "max                 2.000000                  2.000000   \n",
       "\n",
       "        Vertical_irregularity_B2  Vertical_irregularity_B3  Bays_Number_x  \\\n",
       "count                 483.000000                483.000000     483.000000   \n",
       "unique                       NaN                       NaN            NaN   \n",
       "top                          NaN                       NaN            NaN   \n",
       "freq                         NaN                       NaN            NaN   \n",
       "mean                    1.403727                  1.973085       2.805383   \n",
       "std                     0.491153                  0.162003       1.292900   \n",
       "min                     1.000000                  1.000000       0.000000   \n",
       "25%                     1.000000                  2.000000       2.000000   \n",
       "50%                     1.000000                  2.000000       3.000000   \n",
       "75%                     2.000000                  2.000000       4.000000   \n",
       "max                     2.000000                  2.000000       8.000000   \n",
       "\n",
       "        Bays_Number_y  System_type  Overhanging_area  Column_area  \\\n",
       "count      483.000000   483.000000        483.000000   483.000000   \n",
       "unique            NaN          NaN               NaN          NaN   \n",
       "top               NaN          NaN               NaN          NaN   \n",
       "freq              NaN          NaN               NaN          NaN   \n",
       "mean         3.430642     1.227743         20.689669     4.511984   \n",
       "std          1.708185     0.419811         20.974272     2.868662   \n",
       "min          0.000000     1.000000          0.000000     0.000000   \n",
       "25%          2.000000     1.000000          5.710000     2.466500   \n",
       "50%          3.000000     1.000000         16.130000     3.770000   \n",
       "75%          4.000000     1.000000         29.430000     5.796500   \n",
       "max         11.000000     2.000000        192.650000    18.721000   \n",
       "\n",
       "        storey_number Class  \n",
       "count      483.000000   483  \n",
       "unique            NaN     6  \n",
       "top               NaN     M  \n",
       "freq              NaN   151  \n",
       "mean         4.055901   NaN  \n",
       "std          0.950530   NaN  \n",
       "min          2.000000   NaN  \n",
       "25%          3.000000   NaN  \n",
       "50%          4.000000   NaN  \n",
       "75%          5.000000   NaN  \n",
       "max          6.000000   NaN  "
      ]
     },
     "execution_count": 4,
     "metadata": {},
     "output_type": "execute_result"
    }
   ],
   "source": [
    "df.describe(include='all')"
   ]
  },
  {
   "cell_type": "code",
   "execution_count": 5,
   "id": "d22e5fce",
   "metadata": {},
   "outputs": [
    {
     "data": {
      "text/plain": [
       "<bound method DataFrame.info of      Construction_time  Storey_height  Number_of_stories  Floor_area  \\\n",
       "0               1975.0           3.00                  4       884.0   \n",
       "1               1980.0           2.80                  4       888.0   \n",
       "2               1991.0           2.80                  4       992.0   \n",
       "3               1985.0           2.70                  6       915.0   \n",
       "4               1985.0           2.70                  6       723.0   \n",
       "..                 ...            ...                ...         ...   \n",
       "478             1981.0           2.85                  3      1050.0   \n",
       "479             1996.0           2.80                  4       488.0   \n",
       "480             1994.0           2.80                  4       524.0   \n",
       "481             1994.0           2.80                  4       456.0   \n",
       "482             1993.0           2.90                  5      1310.0   \n",
       "\n",
       "     Plan_irregularity_A1  Plan_irregularity_A2  Plan_irregularity_A3  \\\n",
       "0                       1                     2                     2   \n",
       "1                       2                     2                     2   \n",
       "2                       2                     2                     2   \n",
       "3                       2                     2                     2   \n",
       "4                       2                     2                     2   \n",
       "..                    ...                   ...                   ...   \n",
       "478                     2                     2                     2   \n",
       "479                     1                     2                     2   \n",
       "480                     2                     2                     2   \n",
       "481                     2                     2                     2   \n",
       "482                     1                     2                     2   \n",
       "\n",
       "     Plan_irregularity_A4  Vertical_irregularity_B1  Vertical_irregularity_B2  \\\n",
       "0                       2                         2                         2   \n",
       "1                       2                         2                         2   \n",
       "2                       2                         2                         2   \n",
       "3                       2                         2                         2   \n",
       "4                       2                         2                         2   \n",
       "..                    ...                       ...                       ...   \n",
       "478                     2                         2                         1   \n",
       "479                     2                         2                         2   \n",
       "480                     2                         2                         2   \n",
       "481                     2                         2                         2   \n",
       "482                     1                         2                         1   \n",
       "\n",
       "     Vertical_irregularity_B3  Bays_Number_x  Bays_Number_y  System_type  \\\n",
       "0                           2              1              4            1   \n",
       "1                           2              3              4            1   \n",
       "2                           2              1              4            1   \n",
       "3                           2              3              3            2   \n",
       "4                           2              4              2            1   \n",
       "..                        ...            ...            ...          ...   \n",
       "478                         2              6              6            1   \n",
       "479                         2              3              2            1   \n",
       "480                         2              3              3            2   \n",
       "481                         2              3              3            1   \n",
       "482                         2              2              3            1   \n",
       "\n",
       "     Overhanging_area  Column_area  storey_number Class  \n",
       "0               25.40        6.055              4     M  \n",
       "1               33.87        3.960              4     M  \n",
       "2               50.10        3.540              4     M  \n",
       "3               10.95        2.600              6     M  \n",
       "4               14.52        2.125              6     M  \n",
       "..                ...          ...            ...   ...  \n",
       "478             13.92        4.750              3     M  \n",
       "479              9.26        2.583              4     M  \n",
       "480             22.34        2.725              4     L  \n",
       "481             19.08        2.260              4     L  \n",
       "482             64.01        5.220              5     L  \n",
       "\n",
       "[483 rows x 18 columns]>"
      ]
     },
     "execution_count": 5,
     "metadata": {},
     "output_type": "execute_result"
    }
   ],
   "source": [
    "df.info"
   ]
  },
  {
   "cell_type": "code",
   "execution_count": 6,
   "id": "193c999d",
   "metadata": {},
   "outputs": [
    {
     "data": {
      "text/plain": [
       "6"
      ]
     },
     "execution_count": 6,
     "metadata": {},
     "output_type": "execute_result"
    }
   ],
   "source": [
    "df['Class'].nunique()"
   ]
  },
  {
   "cell_type": "code",
   "execution_count": 7,
   "id": "a3dd9b1b",
   "metadata": {},
   "outputs": [
    {
     "data": {
      "text/plain": [
       "array(['M', 'S', 'L', 'N', 'N/L', 'C/R'], dtype=object)"
      ]
     },
     "execution_count": 7,
     "metadata": {},
     "output_type": "execute_result"
    }
   ],
   "source": [
    "df['Class'].unique()"
   ]
  },
  {
   "cell_type": "markdown",
   "id": "f66e8e04",
   "metadata": {},
   "source": [
    "# Data Preprocessing or Cleaning\n"
   ]
  },
  {
   "cell_type": "markdown",
   "id": "782fff7e",
   "metadata": {},
   "source": [
    "# Dealing with missing data"
   ]
  },
  {
   "cell_type": "code",
   "execution_count": 8,
   "id": "4c5e1652",
   "metadata": {},
   "outputs": [],
   "source": [
    "# Replacing non-standard value with 'Nan' so that pandas dataframe can ditect\n",
    "\n",
    "df.replace('NA', np.nan, inplace = True)\n",
    "df.replace('N/L', np.nan, inplace = True)\n",
    "df.replace(0, np.nan, inplace = True)"
   ]
  },
  {
   "cell_type": "code",
   "execution_count": 9,
   "id": "d51a52c8",
   "metadata": {},
   "outputs": [
    {
     "data": {
      "text/html": [
       "<div>\n",
       "<style scoped>\n",
       "    .dataframe tbody tr th:only-of-type {\n",
       "        vertical-align: middle;\n",
       "    }\n",
       "\n",
       "    .dataframe tbody tr th {\n",
       "        vertical-align: top;\n",
       "    }\n",
       "\n",
       "    .dataframe thead th {\n",
       "        text-align: right;\n",
       "    }\n",
       "</style>\n",
       "<table border=\"1\" class=\"dataframe\">\n",
       "  <thead>\n",
       "    <tr style=\"text-align: right;\">\n",
       "      <th></th>\n",
       "      <th>Construction_time</th>\n",
       "      <th>Storey_height</th>\n",
       "      <th>Number_of_stories</th>\n",
       "      <th>Floor_area</th>\n",
       "      <th>Plan_irregularity_A1</th>\n",
       "      <th>Plan_irregularity_A2</th>\n",
       "      <th>Plan_irregularity_A3</th>\n",
       "      <th>Plan_irregularity_A4</th>\n",
       "      <th>Vertical_irregularity_B1</th>\n",
       "      <th>Vertical_irregularity_B2</th>\n",
       "      <th>Vertical_irregularity_B3</th>\n",
       "      <th>Bays_Number_x</th>\n",
       "      <th>Bays_Number_y</th>\n",
       "      <th>System_type</th>\n",
       "      <th>Overhanging_area</th>\n",
       "      <th>Column_area</th>\n",
       "      <th>storey_number</th>\n",
       "      <th>Class</th>\n",
       "    </tr>\n",
       "  </thead>\n",
       "  <tbody>\n",
       "    <tr>\n",
       "      <th>count</th>\n",
       "      <td>481.000000</td>\n",
       "      <td>483.000000</td>\n",
       "      <td>483.000000</td>\n",
       "      <td>483.00000</td>\n",
       "      <td>483.000000</td>\n",
       "      <td>483.000000</td>\n",
       "      <td>483.000000</td>\n",
       "      <td>483.000000</td>\n",
       "      <td>483.000000</td>\n",
       "      <td>483.000000</td>\n",
       "      <td>483.000000</td>\n",
       "      <td>473.000000</td>\n",
       "      <td>473.000000</td>\n",
       "      <td>483.000000</td>\n",
       "      <td>384.000000</td>\n",
       "      <td>482.000000</td>\n",
       "      <td>483.000000</td>\n",
       "      <td>482</td>\n",
       "    </tr>\n",
       "    <tr>\n",
       "      <th>unique</th>\n",
       "      <td>NaN</td>\n",
       "      <td>NaN</td>\n",
       "      <td>NaN</td>\n",
       "      <td>NaN</td>\n",
       "      <td>NaN</td>\n",
       "      <td>NaN</td>\n",
       "      <td>NaN</td>\n",
       "      <td>NaN</td>\n",
       "      <td>NaN</td>\n",
       "      <td>NaN</td>\n",
       "      <td>NaN</td>\n",
       "      <td>NaN</td>\n",
       "      <td>NaN</td>\n",
       "      <td>NaN</td>\n",
       "      <td>NaN</td>\n",
       "      <td>NaN</td>\n",
       "      <td>NaN</td>\n",
       "      <td>5</td>\n",
       "    </tr>\n",
       "    <tr>\n",
       "      <th>top</th>\n",
       "      <td>NaN</td>\n",
       "      <td>NaN</td>\n",
       "      <td>NaN</td>\n",
       "      <td>NaN</td>\n",
       "      <td>NaN</td>\n",
       "      <td>NaN</td>\n",
       "      <td>NaN</td>\n",
       "      <td>NaN</td>\n",
       "      <td>NaN</td>\n",
       "      <td>NaN</td>\n",
       "      <td>NaN</td>\n",
       "      <td>NaN</td>\n",
       "      <td>NaN</td>\n",
       "      <td>NaN</td>\n",
       "      <td>NaN</td>\n",
       "      <td>NaN</td>\n",
       "      <td>NaN</td>\n",
       "      <td>M</td>\n",
       "    </tr>\n",
       "    <tr>\n",
       "      <th>freq</th>\n",
       "      <td>NaN</td>\n",
       "      <td>NaN</td>\n",
       "      <td>NaN</td>\n",
       "      <td>NaN</td>\n",
       "      <td>NaN</td>\n",
       "      <td>NaN</td>\n",
       "      <td>NaN</td>\n",
       "      <td>NaN</td>\n",
       "      <td>NaN</td>\n",
       "      <td>NaN</td>\n",
       "      <td>NaN</td>\n",
       "      <td>NaN</td>\n",
       "      <td>NaN</td>\n",
       "      <td>NaN</td>\n",
       "      <td>NaN</td>\n",
       "      <td>NaN</td>\n",
       "      <td>NaN</td>\n",
       "      <td>151</td>\n",
       "    </tr>\n",
       "    <tr>\n",
       "      <th>mean</th>\n",
       "      <td>1986.328482</td>\n",
       "      <td>2.837350</td>\n",
       "      <td>4.055901</td>\n",
       "      <td>1053.91795</td>\n",
       "      <td>1.511387</td>\n",
       "      <td>1.960663</td>\n",
       "      <td>1.892340</td>\n",
       "      <td>1.745342</td>\n",
       "      <td>1.917184</td>\n",
       "      <td>1.403727</td>\n",
       "      <td>1.973085</td>\n",
       "      <td>2.864693</td>\n",
       "      <td>3.503171</td>\n",
       "      <td>1.227743</td>\n",
       "      <td>26.023724</td>\n",
       "      <td>4.521345</td>\n",
       "      <td>4.055901</td>\n",
       "      <td>NaN</td>\n",
       "    </tr>\n",
       "    <tr>\n",
       "      <th>std</th>\n",
       "      <td>9.155156</td>\n",
       "      <td>0.136865</td>\n",
       "      <td>0.950530</td>\n",
       "      <td>748.78236</td>\n",
       "      <td>0.500389</td>\n",
       "      <td>0.194598</td>\n",
       "      <td>0.310272</td>\n",
       "      <td>0.436121</td>\n",
       "      <td>0.275889</td>\n",
       "      <td>0.491153</td>\n",
       "      <td>0.162003</td>\n",
       "      <td>1.239652</td>\n",
       "      <td>1.650786</td>\n",
       "      <td>0.419811</td>\n",
       "      <td>20.358259</td>\n",
       "      <td>2.864248</td>\n",
       "      <td>0.950530</td>\n",
       "      <td>NaN</td>\n",
       "    </tr>\n",
       "    <tr>\n",
       "      <th>min</th>\n",
       "      <td>1950.000000</td>\n",
       "      <td>2.500000</td>\n",
       "      <td>2.000000</td>\n",
       "      <td>78.00000</td>\n",
       "      <td>1.000000</td>\n",
       "      <td>1.000000</td>\n",
       "      <td>1.000000</td>\n",
       "      <td>1.000000</td>\n",
       "      <td>1.000000</td>\n",
       "      <td>1.000000</td>\n",
       "      <td>1.000000</td>\n",
       "      <td>1.000000</td>\n",
       "      <td>1.000000</td>\n",
       "      <td>1.000000</td>\n",
       "      <td>2.030000</td>\n",
       "      <td>0.600000</td>\n",
       "      <td>2.000000</td>\n",
       "      <td>NaN</td>\n",
       "    </tr>\n",
       "    <tr>\n",
       "      <th>25%</th>\n",
       "      <td>1980.000000</td>\n",
       "      <td>2.750000</td>\n",
       "      <td>3.000000</td>\n",
       "      <td>492.50000</td>\n",
       "      <td>1.000000</td>\n",
       "      <td>2.000000</td>\n",
       "      <td>2.000000</td>\n",
       "      <td>1.000000</td>\n",
       "      <td>2.000000</td>\n",
       "      <td>1.000000</td>\n",
       "      <td>2.000000</td>\n",
       "      <td>2.000000</td>\n",
       "      <td>2.000000</td>\n",
       "      <td>1.000000</td>\n",
       "      <td>12.075000</td>\n",
       "      <td>2.476250</td>\n",
       "      <td>3.000000</td>\n",
       "      <td>NaN</td>\n",
       "    </tr>\n",
       "    <tr>\n",
       "      <th>50%</th>\n",
       "      <td>1988.000000</td>\n",
       "      <td>2.800000</td>\n",
       "      <td>4.000000</td>\n",
       "      <td>868.00000</td>\n",
       "      <td>2.000000</td>\n",
       "      <td>2.000000</td>\n",
       "      <td>2.000000</td>\n",
       "      <td>2.000000</td>\n",
       "      <td>2.000000</td>\n",
       "      <td>1.000000</td>\n",
       "      <td>2.000000</td>\n",
       "      <td>3.000000</td>\n",
       "      <td>3.000000</td>\n",
       "      <td>1.000000</td>\n",
       "      <td>20.945000</td>\n",
       "      <td>3.772500</td>\n",
       "      <td>4.000000</td>\n",
       "      <td>NaN</td>\n",
       "    </tr>\n",
       "    <tr>\n",
       "      <th>75%</th>\n",
       "      <td>1994.000000</td>\n",
       "      <td>2.900000</td>\n",
       "      <td>5.000000</td>\n",
       "      <td>1475.09000</td>\n",
       "      <td>2.000000</td>\n",
       "      <td>2.000000</td>\n",
       "      <td>2.000000</td>\n",
       "      <td>2.000000</td>\n",
       "      <td>2.000000</td>\n",
       "      <td>2.000000</td>\n",
       "      <td>2.000000</td>\n",
       "      <td>4.000000</td>\n",
       "      <td>4.000000</td>\n",
       "      <td>1.000000</td>\n",
       "      <td>34.645000</td>\n",
       "      <td>5.800750</td>\n",
       "      <td>5.000000</td>\n",
       "      <td>NaN</td>\n",
       "    </tr>\n",
       "    <tr>\n",
       "      <th>max</th>\n",
       "      <td>2001.000000</td>\n",
       "      <td>3.750000</td>\n",
       "      <td>6.000000</td>\n",
       "      <td>5480.00000</td>\n",
       "      <td>2.000000</td>\n",
       "      <td>2.000000</td>\n",
       "      <td>2.000000</td>\n",
       "      <td>2.000000</td>\n",
       "      <td>2.000000</td>\n",
       "      <td>2.000000</td>\n",
       "      <td>2.000000</td>\n",
       "      <td>8.000000</td>\n",
       "      <td>11.000000</td>\n",
       "      <td>2.000000</td>\n",
       "      <td>192.650000</td>\n",
       "      <td>18.721000</td>\n",
       "      <td>6.000000</td>\n",
       "      <td>NaN</td>\n",
       "    </tr>\n",
       "  </tbody>\n",
       "</table>\n",
       "</div>"
      ],
      "text/plain": [
       "        Construction_time  Storey_height  Number_of_stories  Floor_area  \\\n",
       "count          481.000000     483.000000         483.000000   483.00000   \n",
       "unique                NaN            NaN                NaN         NaN   \n",
       "top                   NaN            NaN                NaN         NaN   \n",
       "freq                  NaN            NaN                NaN         NaN   \n",
       "mean          1986.328482       2.837350           4.055901  1053.91795   \n",
       "std              9.155156       0.136865           0.950530   748.78236   \n",
       "min           1950.000000       2.500000           2.000000    78.00000   \n",
       "25%           1980.000000       2.750000           3.000000   492.50000   \n",
       "50%           1988.000000       2.800000           4.000000   868.00000   \n",
       "75%           1994.000000       2.900000           5.000000  1475.09000   \n",
       "max           2001.000000       3.750000           6.000000  5480.00000   \n",
       "\n",
       "        Plan_irregularity_A1  Plan_irregularity_A2  Plan_irregularity_A3  \\\n",
       "count             483.000000            483.000000            483.000000   \n",
       "unique                   NaN                   NaN                   NaN   \n",
       "top                      NaN                   NaN                   NaN   \n",
       "freq                     NaN                   NaN                   NaN   \n",
       "mean                1.511387              1.960663              1.892340   \n",
       "std                 0.500389              0.194598              0.310272   \n",
       "min                 1.000000              1.000000              1.000000   \n",
       "25%                 1.000000              2.000000              2.000000   \n",
       "50%                 2.000000              2.000000              2.000000   \n",
       "75%                 2.000000              2.000000              2.000000   \n",
       "max                 2.000000              2.000000              2.000000   \n",
       "\n",
       "        Plan_irregularity_A4  Vertical_irregularity_B1  \\\n",
       "count             483.000000                483.000000   \n",
       "unique                   NaN                       NaN   \n",
       "top                      NaN                       NaN   \n",
       "freq                     NaN                       NaN   \n",
       "mean                1.745342                  1.917184   \n",
       "std                 0.436121                  0.275889   \n",
       "min                 1.000000                  1.000000   \n",
       "25%                 1.000000                  2.000000   \n",
       "50%                 2.000000                  2.000000   \n",
       "75%                 2.000000                  2.000000   \n",
       "max                 2.000000                  2.000000   \n",
       "\n",
       "        Vertical_irregularity_B2  Vertical_irregularity_B3  Bays_Number_x  \\\n",
       "count                 483.000000                483.000000     473.000000   \n",
       "unique                       NaN                       NaN            NaN   \n",
       "top                          NaN                       NaN            NaN   \n",
       "freq                         NaN                       NaN            NaN   \n",
       "mean                    1.403727                  1.973085       2.864693   \n",
       "std                     0.491153                  0.162003       1.239652   \n",
       "min                     1.000000                  1.000000       1.000000   \n",
       "25%                     1.000000                  2.000000       2.000000   \n",
       "50%                     1.000000                  2.000000       3.000000   \n",
       "75%                     2.000000                  2.000000       4.000000   \n",
       "max                     2.000000                  2.000000       8.000000   \n",
       "\n",
       "        Bays_Number_y  System_type  Overhanging_area  Column_area  \\\n",
       "count      473.000000   483.000000        384.000000   482.000000   \n",
       "unique            NaN          NaN               NaN          NaN   \n",
       "top               NaN          NaN               NaN          NaN   \n",
       "freq              NaN          NaN               NaN          NaN   \n",
       "mean         3.503171     1.227743         26.023724     4.521345   \n",
       "std          1.650786     0.419811         20.358259     2.864248   \n",
       "min          1.000000     1.000000          2.030000     0.600000   \n",
       "25%          2.000000     1.000000         12.075000     2.476250   \n",
       "50%          3.000000     1.000000         20.945000     3.772500   \n",
       "75%          4.000000     1.000000         34.645000     5.800750   \n",
       "max         11.000000     2.000000        192.650000    18.721000   \n",
       "\n",
       "        storey_number Class  \n",
       "count      483.000000   482  \n",
       "unique            NaN     5  \n",
       "top               NaN     M  \n",
       "freq              NaN   151  \n",
       "mean         4.055901   NaN  \n",
       "std          0.950530   NaN  \n",
       "min          2.000000   NaN  \n",
       "25%          3.000000   NaN  \n",
       "50%          4.000000   NaN  \n",
       "75%          5.000000   NaN  \n",
       "max          6.000000   NaN  "
      ]
     },
     "execution_count": 9,
     "metadata": {},
     "output_type": "execute_result"
    }
   ],
   "source": [
    "df.describe(include='all')"
   ]
  },
  {
   "cell_type": "code",
   "execution_count": 10,
   "id": "550087d5",
   "metadata": {},
   "outputs": [],
   "source": [
    "# Dealing with those variables which need to be replaced by mean\n",
    "\n",
    "from sklearn.impute import SimpleImputer\n",
    "imputer_mean = SimpleImputer(missing_values = np.nan, strategy = 'mean')\n",
    "df[['Construction_time']] = imputer_mean.fit_transform(df[['Construction_time']]).astype('object')\n",
    "\n",
    "#df[['feature', 'Feature', 'Feature']] = imputer_mean.fit_transform(df[['feature', 'Feature', 'Feature']]).astype('object')\n",
    "#df.head(10)\n",
    "\n",
    "\n",
    "# Dealing with those variables which need to be replaced by median\n",
    "\n",
    "imputer_mean = SimpleImputer(missing_values = np.nan, strategy = 'median')\n",
    "df[['Overhanging_area', 'Column_area']] = imputer_mean.fit_transform(df[['Overhanging_area', 'Column_area']]).astype('object')"
   ]
  },
  {
   "cell_type": "code",
   "execution_count": 11,
   "id": "6f4fdb46",
   "metadata": {},
   "outputs": [],
   "source": [
    "# Replacing null values with most frequent values in case for categorical variable (mode)\n",
    "\n",
    "imputer_most_freq = SimpleImputer(missing_values = np.nan, strategy = 'most_frequent')\n",
    "df[['Bays_Number_x', 'Bays_Number_y', 'Plan_irregularity_A1', 'Plan_irregularity_A2', 'Plan_irregularity_A3', 'Plan_irregularity_A4', 'Vertical_irregularity_B1', 'Vertical_irregularity_B2', 'Vertical_irregularity_B3']] = imputer_most_freq.fit_transform(df[['Bays_Number_x', 'Bays_Number_y', 'Plan_irregularity_A1', 'Plan_irregularity_A2', 'Plan_irregularity_A3', 'Plan_irregularity_A4', 'Vertical_irregularity_B1', 'Vertical_irregularity_B2', 'Vertical_irregularity_B3']])\n"
   ]
  },
  {
   "cell_type": "code",
   "execution_count": 12,
   "id": "8be1b78f",
   "metadata": {},
   "outputs": [],
   "source": [
    "# Drop whole row with NaN in 'Class' column \n",
    "df.dropna(subset = ['Class'], axis=0, inplace=True)\n",
    "\n",
    "# Reset index because of dropping rows\n",
    "df.reset_index(drop = True, inplace = True)"
   ]
  },
  {
   "cell_type": "code",
   "execution_count": 13,
   "id": "7a713d54",
   "metadata": {},
   "outputs": [
    {
     "data": {
      "text/html": [
       "<div>\n",
       "<style scoped>\n",
       "    .dataframe tbody tr th:only-of-type {\n",
       "        vertical-align: middle;\n",
       "    }\n",
       "\n",
       "    .dataframe tbody tr th {\n",
       "        vertical-align: top;\n",
       "    }\n",
       "\n",
       "    .dataframe thead th {\n",
       "        text-align: right;\n",
       "    }\n",
       "</style>\n",
       "<table border=\"1\" class=\"dataframe\">\n",
       "  <thead>\n",
       "    <tr style=\"text-align: right;\">\n",
       "      <th></th>\n",
       "      <th>Construction_time</th>\n",
       "      <th>Storey_height</th>\n",
       "      <th>Number_of_stories</th>\n",
       "      <th>Floor_area</th>\n",
       "      <th>Plan_irregularity_A1</th>\n",
       "      <th>Plan_irregularity_A2</th>\n",
       "      <th>Plan_irregularity_A3</th>\n",
       "      <th>Plan_irregularity_A4</th>\n",
       "      <th>Vertical_irregularity_B1</th>\n",
       "      <th>Vertical_irregularity_B2</th>\n",
       "      <th>Vertical_irregularity_B3</th>\n",
       "      <th>Bays_Number_x</th>\n",
       "      <th>Bays_Number_y</th>\n",
       "      <th>System_type</th>\n",
       "      <th>Overhanging_area</th>\n",
       "      <th>Column_area</th>\n",
       "      <th>storey_number</th>\n",
       "      <th>Class</th>\n",
       "    </tr>\n",
       "  </thead>\n",
       "  <tbody>\n",
       "    <tr>\n",
       "      <th>count</th>\n",
       "      <td>482.0</td>\n",
       "      <td>482.000000</td>\n",
       "      <td>482.000000</td>\n",
       "      <td>482.000000</td>\n",
       "      <td>482.000000</td>\n",
       "      <td>482.000000</td>\n",
       "      <td>482.000000</td>\n",
       "      <td>482.000000</td>\n",
       "      <td>482.000000</td>\n",
       "      <td>482.000000</td>\n",
       "      <td>482.000000</td>\n",
       "      <td>482.000000</td>\n",
       "      <td>482.000000</td>\n",
       "      <td>482.000000</td>\n",
       "      <td>482.000</td>\n",
       "      <td>482.0</td>\n",
       "      <td>482.000000</td>\n",
       "      <td>482</td>\n",
       "    </tr>\n",
       "    <tr>\n",
       "      <th>unique</th>\n",
       "      <td>36.0</td>\n",
       "      <td>NaN</td>\n",
       "      <td>NaN</td>\n",
       "      <td>NaN</td>\n",
       "      <td>NaN</td>\n",
       "      <td>NaN</td>\n",
       "      <td>NaN</td>\n",
       "      <td>NaN</td>\n",
       "      <td>NaN</td>\n",
       "      <td>NaN</td>\n",
       "      <td>NaN</td>\n",
       "      <td>NaN</td>\n",
       "      <td>NaN</td>\n",
       "      <td>NaN</td>\n",
       "      <td>364.000</td>\n",
       "      <td>390.0</td>\n",
       "      <td>NaN</td>\n",
       "      <td>5</td>\n",
       "    </tr>\n",
       "    <tr>\n",
       "      <th>top</th>\n",
       "      <td>1980.0</td>\n",
       "      <td>NaN</td>\n",
       "      <td>NaN</td>\n",
       "      <td>NaN</td>\n",
       "      <td>NaN</td>\n",
       "      <td>NaN</td>\n",
       "      <td>NaN</td>\n",
       "      <td>NaN</td>\n",
       "      <td>NaN</td>\n",
       "      <td>NaN</td>\n",
       "      <td>NaN</td>\n",
       "      <td>NaN</td>\n",
       "      <td>NaN</td>\n",
       "      <td>NaN</td>\n",
       "      <td>20.945</td>\n",
       "      <td>2.0</td>\n",
       "      <td>NaN</td>\n",
       "      <td>M</td>\n",
       "    </tr>\n",
       "    <tr>\n",
       "      <th>freq</th>\n",
       "      <td>35.0</td>\n",
       "      <td>NaN</td>\n",
       "      <td>NaN</td>\n",
       "      <td>NaN</td>\n",
       "      <td>NaN</td>\n",
       "      <td>NaN</td>\n",
       "      <td>NaN</td>\n",
       "      <td>NaN</td>\n",
       "      <td>NaN</td>\n",
       "      <td>NaN</td>\n",
       "      <td>NaN</td>\n",
       "      <td>NaN</td>\n",
       "      <td>NaN</td>\n",
       "      <td>NaN</td>\n",
       "      <td>98.000</td>\n",
       "      <td>8.0</td>\n",
       "      <td>NaN</td>\n",
       "      <td>151</td>\n",
       "    </tr>\n",
       "    <tr>\n",
       "      <th>mean</th>\n",
       "      <td>NaN</td>\n",
       "      <td>2.837220</td>\n",
       "      <td>4.053942</td>\n",
       "      <td>1054.131473</td>\n",
       "      <td>1.512448</td>\n",
       "      <td>1.960581</td>\n",
       "      <td>1.892116</td>\n",
       "      <td>1.744813</td>\n",
       "      <td>1.917012</td>\n",
       "      <td>1.404564</td>\n",
       "      <td>1.973029</td>\n",
       "      <td>2.848548</td>\n",
       "      <td>3.470954</td>\n",
       "      <td>1.228216</td>\n",
       "      <td>NaN</td>\n",
       "      <td>NaN</td>\n",
       "      <td>4.053942</td>\n",
       "      <td>NaN</td>\n",
       "    </tr>\n",
       "    <tr>\n",
       "      <th>std</th>\n",
       "      <td>NaN</td>\n",
       "      <td>0.136977</td>\n",
       "      <td>0.950541</td>\n",
       "      <td>749.545596</td>\n",
       "      <td>0.500364</td>\n",
       "      <td>0.194792</td>\n",
       "      <td>0.310556</td>\n",
       "      <td>0.436419</td>\n",
       "      <td>0.276150</td>\n",
       "      <td>0.491317</td>\n",
       "      <td>0.162167</td>\n",
       "      <td>1.233577</td>\n",
       "      <td>1.649099</td>\n",
       "      <td>0.420118</td>\n",
       "      <td>NaN</td>\n",
       "      <td>NaN</td>\n",
       "      <td>0.950541</td>\n",
       "      <td>NaN</td>\n",
       "    </tr>\n",
       "    <tr>\n",
       "      <th>min</th>\n",
       "      <td>NaN</td>\n",
       "      <td>2.500000</td>\n",
       "      <td>2.000000</td>\n",
       "      <td>78.000000</td>\n",
       "      <td>1.000000</td>\n",
       "      <td>1.000000</td>\n",
       "      <td>1.000000</td>\n",
       "      <td>1.000000</td>\n",
       "      <td>1.000000</td>\n",
       "      <td>1.000000</td>\n",
       "      <td>1.000000</td>\n",
       "      <td>1.000000</td>\n",
       "      <td>1.000000</td>\n",
       "      <td>1.000000</td>\n",
       "      <td>NaN</td>\n",
       "      <td>NaN</td>\n",
       "      <td>2.000000</td>\n",
       "      <td>NaN</td>\n",
       "    </tr>\n",
       "    <tr>\n",
       "      <th>25%</th>\n",
       "      <td>NaN</td>\n",
       "      <td>2.750000</td>\n",
       "      <td>3.000000</td>\n",
       "      <td>492.250000</td>\n",
       "      <td>1.000000</td>\n",
       "      <td>2.000000</td>\n",
       "      <td>2.000000</td>\n",
       "      <td>1.000000</td>\n",
       "      <td>2.000000</td>\n",
       "      <td>1.000000</td>\n",
       "      <td>2.000000</td>\n",
       "      <td>2.000000</td>\n",
       "      <td>2.000000</td>\n",
       "      <td>1.000000</td>\n",
       "      <td>NaN</td>\n",
       "      <td>NaN</td>\n",
       "      <td>3.000000</td>\n",
       "      <td>NaN</td>\n",
       "    </tr>\n",
       "    <tr>\n",
       "      <th>50%</th>\n",
       "      <td>NaN</td>\n",
       "      <td>2.800000</td>\n",
       "      <td>4.000000</td>\n",
       "      <td>866.000000</td>\n",
       "      <td>2.000000</td>\n",
       "      <td>2.000000</td>\n",
       "      <td>2.000000</td>\n",
       "      <td>2.000000</td>\n",
       "      <td>2.000000</td>\n",
       "      <td>1.000000</td>\n",
       "      <td>2.000000</td>\n",
       "      <td>3.000000</td>\n",
       "      <td>3.000000</td>\n",
       "      <td>1.000000</td>\n",
       "      <td>NaN</td>\n",
       "      <td>NaN</td>\n",
       "      <td>4.000000</td>\n",
       "      <td>NaN</td>\n",
       "    </tr>\n",
       "    <tr>\n",
       "      <th>75%</th>\n",
       "      <td>NaN</td>\n",
       "      <td>2.900000</td>\n",
       "      <td>5.000000</td>\n",
       "      <td>1475.545000</td>\n",
       "      <td>2.000000</td>\n",
       "      <td>2.000000</td>\n",
       "      <td>2.000000</td>\n",
       "      <td>2.000000</td>\n",
       "      <td>2.000000</td>\n",
       "      <td>2.000000</td>\n",
       "      <td>2.000000</td>\n",
       "      <td>4.000000</td>\n",
       "      <td>4.000000</td>\n",
       "      <td>1.000000</td>\n",
       "      <td>NaN</td>\n",
       "      <td>NaN</td>\n",
       "      <td>5.000000</td>\n",
       "      <td>NaN</td>\n",
       "    </tr>\n",
       "    <tr>\n",
       "      <th>max</th>\n",
       "      <td>NaN</td>\n",
       "      <td>3.750000</td>\n",
       "      <td>6.000000</td>\n",
       "      <td>5480.000000</td>\n",
       "      <td>2.000000</td>\n",
       "      <td>2.000000</td>\n",
       "      <td>2.000000</td>\n",
       "      <td>2.000000</td>\n",
       "      <td>2.000000</td>\n",
       "      <td>2.000000</td>\n",
       "      <td>2.000000</td>\n",
       "      <td>8.000000</td>\n",
       "      <td>11.000000</td>\n",
       "      <td>2.000000</td>\n",
       "      <td>NaN</td>\n",
       "      <td>NaN</td>\n",
       "      <td>6.000000</td>\n",
       "      <td>NaN</td>\n",
       "    </tr>\n",
       "  </tbody>\n",
       "</table>\n",
       "</div>"
      ],
      "text/plain": [
       "        Construction_time  Storey_height  Number_of_stories   Floor_area  \\\n",
       "count               482.0     482.000000         482.000000   482.000000   \n",
       "unique               36.0            NaN                NaN          NaN   \n",
       "top                1980.0            NaN                NaN          NaN   \n",
       "freq                 35.0            NaN                NaN          NaN   \n",
       "mean                  NaN       2.837220           4.053942  1054.131473   \n",
       "std                   NaN       0.136977           0.950541   749.545596   \n",
       "min                   NaN       2.500000           2.000000    78.000000   \n",
       "25%                   NaN       2.750000           3.000000   492.250000   \n",
       "50%                   NaN       2.800000           4.000000   866.000000   \n",
       "75%                   NaN       2.900000           5.000000  1475.545000   \n",
       "max                   NaN       3.750000           6.000000  5480.000000   \n",
       "\n",
       "        Plan_irregularity_A1  Plan_irregularity_A2  Plan_irregularity_A3  \\\n",
       "count             482.000000            482.000000            482.000000   \n",
       "unique                   NaN                   NaN                   NaN   \n",
       "top                      NaN                   NaN                   NaN   \n",
       "freq                     NaN                   NaN                   NaN   \n",
       "mean                1.512448              1.960581              1.892116   \n",
       "std                 0.500364              0.194792              0.310556   \n",
       "min                 1.000000              1.000000              1.000000   \n",
       "25%                 1.000000              2.000000              2.000000   \n",
       "50%                 2.000000              2.000000              2.000000   \n",
       "75%                 2.000000              2.000000              2.000000   \n",
       "max                 2.000000              2.000000              2.000000   \n",
       "\n",
       "        Plan_irregularity_A4  Vertical_irregularity_B1  \\\n",
       "count             482.000000                482.000000   \n",
       "unique                   NaN                       NaN   \n",
       "top                      NaN                       NaN   \n",
       "freq                     NaN                       NaN   \n",
       "mean                1.744813                  1.917012   \n",
       "std                 0.436419                  0.276150   \n",
       "min                 1.000000                  1.000000   \n",
       "25%                 1.000000                  2.000000   \n",
       "50%                 2.000000                  2.000000   \n",
       "75%                 2.000000                  2.000000   \n",
       "max                 2.000000                  2.000000   \n",
       "\n",
       "        Vertical_irregularity_B2  Vertical_irregularity_B3  Bays_Number_x  \\\n",
       "count                 482.000000                482.000000     482.000000   \n",
       "unique                       NaN                       NaN            NaN   \n",
       "top                          NaN                       NaN            NaN   \n",
       "freq                         NaN                       NaN            NaN   \n",
       "mean                    1.404564                  1.973029       2.848548   \n",
       "std                     0.491317                  0.162167       1.233577   \n",
       "min                     1.000000                  1.000000       1.000000   \n",
       "25%                     1.000000                  2.000000       2.000000   \n",
       "50%                     1.000000                  2.000000       3.000000   \n",
       "75%                     2.000000                  2.000000       4.000000   \n",
       "max                     2.000000                  2.000000       8.000000   \n",
       "\n",
       "        Bays_Number_y  System_type  Overhanging_area  Column_area  \\\n",
       "count      482.000000   482.000000           482.000        482.0   \n",
       "unique            NaN          NaN           364.000        390.0   \n",
       "top               NaN          NaN            20.945          2.0   \n",
       "freq              NaN          NaN            98.000          8.0   \n",
       "mean         3.470954     1.228216               NaN          NaN   \n",
       "std          1.649099     0.420118               NaN          NaN   \n",
       "min          1.000000     1.000000               NaN          NaN   \n",
       "25%          2.000000     1.000000               NaN          NaN   \n",
       "50%          3.000000     1.000000               NaN          NaN   \n",
       "75%          4.000000     1.000000               NaN          NaN   \n",
       "max         11.000000     2.000000               NaN          NaN   \n",
       "\n",
       "        storey_number Class  \n",
       "count      482.000000   482  \n",
       "unique            NaN     5  \n",
       "top               NaN     M  \n",
       "freq              NaN   151  \n",
       "mean         4.053942   NaN  \n",
       "std          0.950541   NaN  \n",
       "min          2.000000   NaN  \n",
       "25%          3.000000   NaN  \n",
       "50%          4.000000   NaN  \n",
       "75%          5.000000   NaN  \n",
       "max          6.000000   NaN  "
      ]
     },
     "execution_count": 13,
     "metadata": {},
     "output_type": "execute_result"
    }
   ],
   "source": [
    "#df('Class').value_counts()\n",
    "df['Class'].unique()\n",
    "df.describe(include='all')\n",
    "\n",
    "\n"
   ]
  },
  {
   "cell_type": "markdown",
   "id": "6c4ada0c",
   "metadata": {},
   "source": [
    "# Dealing with outliers"
   ]
  },
  {
   "cell_type": "code",
   "execution_count": 14,
   "id": "53e435b6",
   "metadata": {
    "scrolled": true
   },
   "outputs": [
    {
     "name": "stderr",
     "output_type": "stream",
     "text": [
      "C:\\Users\\user\\AppData\\Local\\Temp\\ipykernel_10832\\3305401544.py:3: UserWarning: \n",
      "\n",
      "`distplot` is a deprecated function and will be removed in seaborn v0.14.0.\n",
      "\n",
      "Please adapt your code to use either `displot` (a figure-level function with\n",
      "similar flexibility) or `histplot` (an axes-level function for histograms).\n",
      "\n",
      "For a guide to updating your code to use the new functions, please see\n",
      "https://gist.github.com/mwaskom/de44147ed2974457ad6372750bbe5751\n",
      "\n",
      "  sns.distplot(df['Floor_area'])\n",
      "C:\\Users\\user\\AppData\\Local\\Temp\\ipykernel_10832\\3305401544.py:6: UserWarning: \n",
      "\n",
      "`distplot` is a deprecated function and will be removed in seaborn v0.14.0.\n",
      "\n",
      "Please adapt your code to use either `displot` (a figure-level function with\n",
      "similar flexibility) or `histplot` (an axes-level function for histograms).\n",
      "\n",
      "For a guide to updating your code to use the new functions, please see\n",
      "https://gist.github.com/mwaskom/de44147ed2974457ad6372750bbe5751\n",
      "\n",
      "  sns.distplot(df['Overhanging_area'])\n"
     ]
    },
    {
     "data": {
      "image/png": "[encoded data removed]",
      "text/plain": [
       "<Figure size 1600x500 with 2 Axes>"
      ]
     },
     "metadata": {},
     "output_type": "display_data"
    }
   ],
   "source": [
    "plt.figure(figsize=(16,5))\n",
    "plt.subplot(1,2,1)\n",
    "sns.distplot(df['Floor_area'])\n",
    "\n",
    "plt.subplot(1,2,2)\n",
    "sns.distplot(df['Overhanging_area'])\n",
    "\n",
    "plt.show()\n"
   ]
  },
  {
   "cell_type": "code",
   "execution_count": 15,
   "id": "70e59a77",
   "metadata": {},
   "outputs": [
    {
     "name": "stderr",
     "output_type": "stream",
     "text": [
      "C:\\Users\\user\\AppData\\Local\\Temp\\ipykernel_10832\\3264227925.py:3: UserWarning: \n",
      "\n",
      "`distplot` is a deprecated function and will be removed in seaborn v0.14.0.\n",
      "\n",
      "Please adapt your code to use either `displot` (a figure-level function with\n",
      "similar flexibility) or `histplot` (an axes-level function for histograms).\n",
      "\n",
      "For a guide to updating your code to use the new functions, please see\n",
      "https://gist.github.com/mwaskom/de44147ed2974457ad6372750bbe5751\n",
      "\n",
      "  sns.distplot(df['Column_area'])\n",
      "C:\\Users\\user\\AppData\\Local\\Temp\\ipykernel_10832\\3264227925.py:6: UserWarning: \n",
      "\n",
      "`distplot` is a deprecated function and will be removed in seaborn v0.14.0.\n",
      "\n",
      "Please adapt your code to use either `displot` (a figure-level function with\n",
      "similar flexibility) or `histplot` (an axes-level function for histograms).\n",
      "\n",
      "For a guide to updating your code to use the new functions, please see\n",
      "https://gist.github.com/mwaskom/de44147ed2974457ad6372750bbe5751\n",
      "\n",
      "  sns.distplot(df['Storey_height'])\n"
     ]
    },
    {
     "data": {
      "image/png": "[encoded data removed]",
      "text/plain": [
       "<Figure size 1600x500 with 2 Axes>"
      ]
     },
     "metadata": {},
     "output_type": "display_data"
    }
   ],
   "source": [
    "plt.figure(figsize=(16,5))\n",
    "plt.subplot(1,2,1)\n",
    "sns.distplot(df['Column_area'])\n",
    "\n",
    "plt.subplot(1,2,2)\n",
    "sns.distplot(df['Storey_height'])\n",
    "\n",
    "plt.show()"
   ]
  },
  {
   "cell_type": "code",
   "execution_count": 16,
   "id": "29e849dd",
   "metadata": {},
   "outputs": [
    {
     "name": "stderr",
     "output_type": "stream",
     "text": [
      "C:\\Users\\user\\AppData\\Local\\Temp\\ipykernel_10832\\2180412493.py:3: UserWarning: \n",
      "\n",
      "`distplot` is a deprecated function and will be removed in seaborn v0.14.0.\n",
      "\n",
      "Please adapt your code to use either `displot` (a figure-level function with\n",
      "similar flexibility) or `histplot` (an axes-level function for histograms).\n",
      "\n",
      "For a guide to updating your code to use the new functions, please see\n",
      "https://gist.github.com/mwaskom/de44147ed2974457ad6372750bbe5751\n",
      "\n",
      "  sns.distplot(df['Construction_time'])\n",
      "C:\\Users\\user\\AppData\\Local\\Temp\\ipykernel_10832\\2180412493.py:6: UserWarning: \n",
      "\n",
      "`distplot` is a deprecated function and will be removed in seaborn v0.14.0.\n",
      "\n",
      "Please adapt your code to use either `displot` (a figure-level function with\n",
      "similar flexibility) or `histplot` (an axes-level function for histograms).\n",
      "\n",
      "For a guide to updating your code to use the new functions, please see\n",
      "https://gist.github.com/mwaskom/de44147ed2974457ad6372750bbe5751\n",
      "\n",
      "  sns.distplot(df['Number_of_stories'])\n"
     ]
    },
    {
     "data": {
      "image/png": "[encoded data removed]",
      "text/plain": [
       "<Figure size 1600x500 with 2 Axes>"
      ]
     },
     "metadata": {},
     "output_type": "display_data"
    }
   ],
   "source": [
    "plt.figure(figsize=(16,5))\n",
    "plt.subplot(1,2,1)\n",
    "sns.distplot(df['Construction_time'])\n",
    "\n",
    "plt.subplot(1,2,2)\n",
    "sns.distplot(df['Number_of_stories'])\n",
    "\n",
    "plt.show()"
   ]
  },
  {
   "cell_type": "code",
   "execution_count": 17,
   "id": "7b21eab9",
   "metadata": {},
   "outputs": [
    {
     "name": "stderr",
     "output_type": "stream",
     "text": [
      "C:\\Users\\user\\AppData\\Local\\Temp\\ipykernel_10832\\1377380826.py:3: UserWarning: \n",
      "\n",
      "`distplot` is a deprecated function and will be removed in seaborn v0.14.0.\n",
      "\n",
      "Please adapt your code to use either `displot` (a figure-level function with\n",
      "similar flexibility) or `histplot` (an axes-level function for histograms).\n",
      "\n",
      "For a guide to updating your code to use the new functions, please see\n",
      "https://gist.github.com/mwaskom/de44147ed2974457ad6372750bbe5751\n",
      "\n",
      "  sns.distplot(df['storey_number'])\n"
     ]
    },
    {
     "data": {
      "image/png": "[encoded data removed]",
      "text/plain": [
       "<Figure size 1600x500 with 1 Axes>"
      ]
     },
     "metadata": {},
     "output_type": "display_data"
    }
   ],
   "source": [
    "plt.figure(figsize=(16,5))\n",
    "plt.subplot(1,2,1)\n",
    "sns.distplot(df['storey_number'])\n",
    "\n",
    "\n",
    "plt.show()"
   ]
  },
  {
   "cell_type": "code",
   "execution_count": null,
   "id": "4ccaa3cb",
   "metadata": {},
   "outputs": [],
   "source": []
  },
  {
   "cell_type": "markdown",
   "id": "1999f1b9",
   "metadata": {},
   "source": [
    "# Outlier Detection\n",
    "# Z score method"
   ]
  },
  {
   "cell_type": "code",
   "execution_count": 18,
   "id": "e77fb41a",
   "metadata": {},
   "outputs": [
    {
     "name": "stdout",
     "output_type": "stream",
     "text": [
      "Mean value of feature 2.837219917012448\n",
      "Std value of feature 0.1369771267064015\n",
      "Min value of feature 2.5\n",
      "Max value of feature 3.75\n"
     ]
    }
   ],
   "source": [
    "# For normally distributed feature\n",
    "\n",
    "print(\"Mean value of feature\", df['Storey_height'].mean())\n",
    "print(\"Std value of feature\", df['Storey_height'].std())\n",
    "print(\"Min value of feature\", df['Storey_height'].min())\n",
    "print(\"Max value of feature\", df['Storey_height'].max())"
   ]
  },
  {
   "cell_type": "code",
   "execution_count": 19,
   "id": "db8a5347",
   "metadata": {},
   "outputs": [
    {
     "name": "stdout",
     "output_type": "stream",
     "text": [
      "Highest allowed 3.2481512971316526\n",
      "Lowest allowed 2.426288536893243\n"
     ]
    }
   ],
   "source": [
    "# Find the boundaries values\n",
    "# Based on Z score calculation\n",
    "\n",
    "print(\"Highest allowed\", df['Storey_height'].mean() + 3*df['Storey_height'].std())\n",
    "print(\"Lowest allowed\", df['Storey_height'].mean() - 3*df['Storey_height'].std())"
   ]
  },
  {
   "cell_type": "code",
   "execution_count": 20,
   "id": "1046fe0d",
   "metadata": {},
   "outputs": [
    {
     "data": {
      "text/html": [
       "<div>\n",
       "<style scoped>\n",
       "    .dataframe tbody tr th:only-of-type {\n",
       "        vertical-align: middle;\n",
       "    }\n",
       "\n",
       "    .dataframe tbody tr th {\n",
       "        vertical-align: top;\n",
       "    }\n",
       "\n",
       "    .dataframe thead th {\n",
       "        text-align: right;\n",
       "    }\n",
       "</style>\n",
       "<table border=\"1\" class=\"dataframe\">\n",
       "  <thead>\n",
       "    <tr style=\"text-align: right;\">\n",
       "      <th></th>\n",
       "      <th>Construction_time</th>\n",
       "      <th>Storey_height</th>\n",
       "      <th>Number_of_stories</th>\n",
       "      <th>Floor_area</th>\n",
       "      <th>Plan_irregularity_A1</th>\n",
       "      <th>Plan_irregularity_A2</th>\n",
       "      <th>Plan_irregularity_A3</th>\n",
       "      <th>Plan_irregularity_A4</th>\n",
       "      <th>Vertical_irregularity_B1</th>\n",
       "      <th>Vertical_irregularity_B2</th>\n",
       "      <th>Vertical_irregularity_B3</th>\n",
       "      <th>Bays_Number_x</th>\n",
       "      <th>Bays_Number_y</th>\n",
       "      <th>System_type</th>\n",
       "      <th>Overhanging_area</th>\n",
       "      <th>Column_area</th>\n",
       "      <th>storey_number</th>\n",
       "      <th>Class</th>\n",
       "    </tr>\n",
       "  </thead>\n",
       "  <tbody>\n",
       "    <tr>\n",
       "      <th>148</th>\n",
       "      <td>1975.0</td>\n",
       "      <td>3.75</td>\n",
       "      <td>4</td>\n",
       "      <td>1391.2</td>\n",
       "      <td>2.0</td>\n",
       "      <td>2.0</td>\n",
       "      <td>2.0</td>\n",
       "      <td>2.0</td>\n",
       "      <td>2.0</td>\n",
       "      <td>1.0</td>\n",
       "      <td>2.0</td>\n",
       "      <td>8.0</td>\n",
       "      <td>4.0</td>\n",
       "      <td>1</td>\n",
       "      <td>7.84</td>\n",
       "      <td>5.805</td>\n",
       "      <td>4</td>\n",
       "      <td>M</td>\n",
       "    </tr>\n",
       "    <tr>\n",
       "      <th>285</th>\n",
       "      <td>1983.0</td>\n",
       "      <td>3.30</td>\n",
       "      <td>4</td>\n",
       "      <td>1258.0</td>\n",
       "      <td>2.0</td>\n",
       "      <td>2.0</td>\n",
       "      <td>2.0</td>\n",
       "      <td>2.0</td>\n",
       "      <td>2.0</td>\n",
       "      <td>2.0</td>\n",
       "      <td>2.0</td>\n",
       "      <td>3.0</td>\n",
       "      <td>4.0</td>\n",
       "      <td>2</td>\n",
       "      <td>20.945</td>\n",
       "      <td>5.71</td>\n",
       "      <td>4</td>\n",
       "      <td>M</td>\n",
       "    </tr>\n",
       "    <tr>\n",
       "      <th>339</th>\n",
       "      <td>1998.0</td>\n",
       "      <td>3.30</td>\n",
       "      <td>2</td>\n",
       "      <td>1320.0</td>\n",
       "      <td>2.0</td>\n",
       "      <td>2.0</td>\n",
       "      <td>1.0</td>\n",
       "      <td>2.0</td>\n",
       "      <td>2.0</td>\n",
       "      <td>2.0</td>\n",
       "      <td>2.0</td>\n",
       "      <td>6.0</td>\n",
       "      <td>4.0</td>\n",
       "      <td>1</td>\n",
       "      <td>20.945</td>\n",
       "      <td>10.08</td>\n",
       "      <td>2</td>\n",
       "      <td>L</td>\n",
       "    </tr>\n",
       "    <tr>\n",
       "      <th>340</th>\n",
       "      <td>1998.0</td>\n",
       "      <td>3.30</td>\n",
       "      <td>2</td>\n",
       "      <td>1440.0</td>\n",
       "      <td>2.0</td>\n",
       "      <td>2.0</td>\n",
       "      <td>1.0</td>\n",
       "      <td>2.0</td>\n",
       "      <td>2.0</td>\n",
       "      <td>2.0</td>\n",
       "      <td>2.0</td>\n",
       "      <td>5.0</td>\n",
       "      <td>3.0</td>\n",
       "      <td>2</td>\n",
       "      <td>20.945</td>\n",
       "      <td>12.6</td>\n",
       "      <td>2</td>\n",
       "      <td>L</td>\n",
       "    </tr>\n",
       "    <tr>\n",
       "      <th>341</th>\n",
       "      <td>1998.0</td>\n",
       "      <td>3.30</td>\n",
       "      <td>2</td>\n",
       "      <td>1320.0</td>\n",
       "      <td>2.0</td>\n",
       "      <td>2.0</td>\n",
       "      <td>1.0</td>\n",
       "      <td>2.0</td>\n",
       "      <td>2.0</td>\n",
       "      <td>2.0</td>\n",
       "      <td>2.0</td>\n",
       "      <td>5.0</td>\n",
       "      <td>4.0</td>\n",
       "      <td>1</td>\n",
       "      <td>20.945</td>\n",
       "      <td>10.08</td>\n",
       "      <td>2</td>\n",
       "      <td>L</td>\n",
       "    </tr>\n",
       "    <tr>\n",
       "      <th>386</th>\n",
       "      <td>1950.0</td>\n",
       "      <td>3.45</td>\n",
       "      <td>2</td>\n",
       "      <td>324.0</td>\n",
       "      <td>1.0</td>\n",
       "      <td>2.0</td>\n",
       "      <td>2.0</td>\n",
       "      <td>1.0</td>\n",
       "      <td>1.0</td>\n",
       "      <td>1.0</td>\n",
       "      <td>2.0</td>\n",
       "      <td>5.0</td>\n",
       "      <td>2.0</td>\n",
       "      <td>1</td>\n",
       "      <td>11.45</td>\n",
       "      <td>1.8</td>\n",
       "      <td>2</td>\n",
       "      <td>N</td>\n",
       "    </tr>\n",
       "    <tr>\n",
       "      <th>418</th>\n",
       "      <td>1989.0</td>\n",
       "      <td>3.75</td>\n",
       "      <td>2</td>\n",
       "      <td>432.0</td>\n",
       "      <td>1.0</td>\n",
       "      <td>2.0</td>\n",
       "      <td>2.0</td>\n",
       "      <td>2.0</td>\n",
       "      <td>2.0</td>\n",
       "      <td>1.0</td>\n",
       "      <td>2.0</td>\n",
       "      <td>2.0</td>\n",
       "      <td>5.0</td>\n",
       "      <td>1</td>\n",
       "      <td>13.5</td>\n",
       "      <td>3.55</td>\n",
       "      <td>2</td>\n",
       "      <td>M</td>\n",
       "    </tr>\n",
       "    <tr>\n",
       "      <th>459</th>\n",
       "      <td>1990.0</td>\n",
       "      <td>3.50</td>\n",
       "      <td>5</td>\n",
       "      <td>2560.0</td>\n",
       "      <td>1.0</td>\n",
       "      <td>2.0</td>\n",
       "      <td>2.0</td>\n",
       "      <td>1.0</td>\n",
       "      <td>2.0</td>\n",
       "      <td>1.0</td>\n",
       "      <td>2.0</td>\n",
       "      <td>5.0</td>\n",
       "      <td>3.0</td>\n",
       "      <td>2</td>\n",
       "      <td>26.77</td>\n",
       "      <td>10.454</td>\n",
       "      <td>5</td>\n",
       "      <td>M</td>\n",
       "    </tr>\n",
       "  </tbody>\n",
       "</table>\n",
       "</div>"
      ],
      "text/plain": [
       "    Construction_time  Storey_height  Number_of_stories  Floor_area  \\\n",
       "148            1975.0           3.75                  4      1391.2   \n",
       "285            1983.0           3.30                  4      1258.0   \n",
       "339            1998.0           3.30                  2      1320.0   \n",
       "340            1998.0           3.30                  2      1440.0   \n",
       "341            1998.0           3.30                  2      1320.0   \n",
       "386            1950.0           3.45                  2       324.0   \n",
       "418            1989.0           3.75                  2       432.0   \n",
       "459            1990.0           3.50                  5      2560.0   \n",
       "\n",
       "     Plan_irregularity_A1  Plan_irregularity_A2  Plan_irregularity_A3  \\\n",
       "148                   2.0                   2.0                   2.0   \n",
       "285                   2.0                   2.0                   2.0   \n",
       "339                   2.0                   2.0                   1.0   \n",
       "340                   2.0                   2.0                   1.0   \n",
       "341                   2.0                   2.0                   1.0   \n",
       "386                   1.0                   2.0                   2.0   \n",
       "418                   1.0                   2.0                   2.0   \n",
       "459                   1.0                   2.0                   2.0   \n",
       "\n",
       "     Plan_irregularity_A4  Vertical_irregularity_B1  Vertical_irregularity_B2  \\\n",
       "148                   2.0                       2.0                       1.0   \n",
       "285                   2.0                       2.0                       2.0   \n",
       "339                   2.0                       2.0                       2.0   \n",
       "340                   2.0                       2.0                       2.0   \n",
       "341                   2.0                       2.0                       2.0   \n",
       "386                   1.0                       1.0                       1.0   \n",
       "418                   2.0                       2.0                       1.0   \n",
       "459                   1.0                       2.0                       1.0   \n",
       "\n",
       "     Vertical_irregularity_B3  Bays_Number_x  Bays_Number_y  System_type  \\\n",
       "148                       2.0            8.0            4.0            1   \n",
       "285                       2.0            3.0            4.0            2   \n",
       "339                       2.0            6.0            4.0            1   \n",
       "340                       2.0            5.0            3.0            2   \n",
       "341                       2.0            5.0            4.0            1   \n",
       "386                       2.0            5.0            2.0            1   \n",
       "418                       2.0            2.0            5.0            1   \n",
       "459                       2.0            5.0            3.0            2   \n",
       "\n",
       "    Overhanging_area Column_area  storey_number Class  \n",
       "148             7.84       5.805              4     M  \n",
       "285           20.945        5.71              4     M  \n",
       "339           20.945       10.08              2     L  \n",
       "340           20.945        12.6              2     L  \n",
       "341           20.945       10.08              2     L  \n",
       "386            11.45         1.8              2     N  \n",
       "418             13.5        3.55              2     M  \n",
       "459            26.77      10.454              5     M  "
      ]
     },
     "execution_count": 20,
     "metadata": {},
     "output_type": "execute_result"
    }
   ],
   "source": [
    "# Find the outliers\n",
    "\n",
    "df[(df['Storey_height']>3.2481512971316526) | (df['Storey_height'] < 2.426288536893243)]\n"
   ]
  },
  {
   "cell_type": "markdown",
   "id": "201370d6",
   "metadata": {},
   "source": [
    " # IQR method (Interquartile Range)"
   ]
  },
  {
   "cell_type": "code",
   "execution_count": 21,
   "id": "4b358eef",
   "metadata": {},
   "outputs": [
    {
     "data": {
      "text/plain": [
       "count     482.000000\n",
       "mean     1054.131473\n",
       "std       749.545596\n",
       "min        78.000000\n",
       "25%       492.250000\n",
       "50%       866.000000\n",
       "75%      1475.545000\n",
       "max      5480.000000\n",
       "Name: Floor_area, dtype: float64"
      ]
     },
     "execution_count": 21,
     "metadata": {},
     "output_type": "execute_result"
    }
   ],
   "source": [
    "# For skewed feature (Floor_area)\n",
    "\n",
    "df['Floor_area'].describe()\n"
   ]
  },
  {
   "cell_type": "code",
   "execution_count": 22,
   "id": "4296752a",
   "metadata": {},
   "outputs": [
    {
     "data": {
      "text/plain": [
       "<Axes: >"
      ]
     },
     "execution_count": 22,
     "metadata": {},
     "output_type": "execute_result"
    },
    {
     "data": {
      "image/png": "[encoded data removed]",
      "text/plain": [
       "<Figure size 640x480 with 1 Axes>"
      ]
     },
     "metadata": {},
     "output_type": "display_data"
    }
   ],
   "source": [
    "sns.boxplot(df['Floor_area'])"
   ]
  },
  {
   "cell_type": "code",
   "execution_count": 23,
   "id": "973d7cc1",
   "metadata": {},
   "outputs": [],
   "source": [
    "# Finding the IQR\n",
    "\n",
    "percentile25 = df['Floor_area'].quantile(0.25)\n",
    "percentile75 = df['Floor_area'].quantile(0.75)"
   ]
  },
  {
   "cell_type": "code",
   "execution_count": 24,
   "id": "45146609",
   "metadata": {},
   "outputs": [
    {
     "data": {
      "text/plain": [
       "492.25"
      ]
     },
     "execution_count": 24,
     "metadata": {},
     "output_type": "execute_result"
    }
   ],
   "source": [
    "percentile25"
   ]
  },
  {
   "cell_type": "code",
   "execution_count": 25,
   "id": "a1001aa9",
   "metadata": {},
   "outputs": [
    {
     "data": {
      "text/plain": [
       "1475.545"
      ]
     },
     "execution_count": 25,
     "metadata": {},
     "output_type": "execute_result"
    }
   ],
   "source": [
    "percentile75"
   ]
  },
  {
   "cell_type": "code",
   "execution_count": 26,
   "id": "98019464",
   "metadata": {},
   "outputs": [],
   "source": [
    "iqr = percentile75 - percentile25 "
   ]
  },
  {
   "cell_type": "code",
   "execution_count": 27,
   "id": "21c8d4bb",
   "metadata": {},
   "outputs": [
    {
     "data": {
      "text/plain": [
       "983.2950000000001"
      ]
     },
     "execution_count": 27,
     "metadata": {},
     "output_type": "execute_result"
    }
   ],
   "source": [
    "iqr"
   ]
  },
  {
   "cell_type": "code",
   "execution_count": 28,
   "id": "bd5fff58",
   "metadata": {},
   "outputs": [],
   "source": [
    "# Indicating the limit values\n",
    "\n",
    "upper_limit2 = percentile75 + 1.5*iqr\n",
    "lower_limit2 = percentile25 - 1.5*iqr"
   ]
  },
  {
   "cell_type": "code",
   "execution_count": 29,
   "id": "d33ca349",
   "metadata": {},
   "outputs": [
    {
     "name": "stdout",
     "output_type": "stream",
     "text": [
      "Upper limit 2950.4875\n",
      "Lower limit -982.6925000000001\n"
     ]
    }
   ],
   "source": [
    "print('Upper limit', upper_limit2)\n",
    "print('Lower limit', lower_limit2)"
   ]
  },
  {
   "cell_type": "code",
   "execution_count": 30,
   "id": "eee5b176",
   "metadata": {},
   "outputs": [
    {
     "data": {
      "text/html": [
       "<div>\n",
       "<style scoped>\n",
       "    .dataframe tbody tr th:only-of-type {\n",
       "        vertical-align: middle;\n",
       "    }\n",
       "\n",
       "    .dataframe tbody tr th {\n",
       "        vertical-align: top;\n",
       "    }\n",
       "\n",
       "    .dataframe thead th {\n",
       "        text-align: right;\n",
       "    }\n",
       "</style>\n",
       "<table border=\"1\" class=\"dataframe\">\n",
       "  <thead>\n",
       "    <tr style=\"text-align: right;\">\n",
       "      <th></th>\n",
       "      <th>Construction_time</th>\n",
       "      <th>Storey_height</th>\n",
       "      <th>Number_of_stories</th>\n",
       "      <th>Floor_area</th>\n",
       "      <th>Plan_irregularity_A1</th>\n",
       "      <th>Plan_irregularity_A2</th>\n",
       "      <th>Plan_irregularity_A3</th>\n",
       "      <th>Plan_irregularity_A4</th>\n",
       "      <th>Vertical_irregularity_B1</th>\n",
       "      <th>Vertical_irregularity_B2</th>\n",
       "      <th>Vertical_irregularity_B3</th>\n",
       "      <th>Bays_Number_x</th>\n",
       "      <th>Bays_Number_y</th>\n",
       "      <th>System_type</th>\n",
       "      <th>Overhanging_area</th>\n",
       "      <th>Column_area</th>\n",
       "      <th>storey_number</th>\n",
       "      <th>Class</th>\n",
       "    </tr>\n",
       "  </thead>\n",
       "  <tbody>\n",
       "    <tr>\n",
       "      <th>38</th>\n",
       "      <td>1992.0</td>\n",
       "      <td>2.80</td>\n",
       "      <td>5</td>\n",
       "      <td>2998.0</td>\n",
       "      <td>1.0</td>\n",
       "      <td>2.0</td>\n",
       "      <td>2.0</td>\n",
       "      <td>1.0</td>\n",
       "      <td>2.0</td>\n",
       "      <td>1.0</td>\n",
       "      <td>1.0</td>\n",
       "      <td>3.0</td>\n",
       "      <td>4.0</td>\n",
       "      <td>2</td>\n",
       "      <td>20.945</td>\n",
       "      <td>9.913</td>\n",
       "      <td>5</td>\n",
       "      <td>M</td>\n",
       "    </tr>\n",
       "    <tr>\n",
       "      <th>101</th>\n",
       "      <td>1994.0</td>\n",
       "      <td>3.00</td>\n",
       "      <td>5</td>\n",
       "      <td>3325.0</td>\n",
       "      <td>2.0</td>\n",
       "      <td>2.0</td>\n",
       "      <td>2.0</td>\n",
       "      <td>2.0</td>\n",
       "      <td>2.0</td>\n",
       "      <td>1.0</td>\n",
       "      <td>2.0</td>\n",
       "      <td>1.0</td>\n",
       "      <td>2.0</td>\n",
       "      <td>2</td>\n",
       "      <td>48.08</td>\n",
       "      <td>8.665</td>\n",
       "      <td>5</td>\n",
       "      <td>S</td>\n",
       "    </tr>\n",
       "    <tr>\n",
       "      <th>170</th>\n",
       "      <td>1995.0</td>\n",
       "      <td>2.80</td>\n",
       "      <td>5</td>\n",
       "      <td>3412.5</td>\n",
       "      <td>1.0</td>\n",
       "      <td>2.0</td>\n",
       "      <td>1.0</td>\n",
       "      <td>2.0</td>\n",
       "      <td>2.0</td>\n",
       "      <td>1.0</td>\n",
       "      <td>2.0</td>\n",
       "      <td>2.0</td>\n",
       "      <td>2.0</td>\n",
       "      <td>1</td>\n",
       "      <td>20.945</td>\n",
       "      <td>12.075</td>\n",
       "      <td>5</td>\n",
       "      <td>C/R</td>\n",
       "    </tr>\n",
       "    <tr>\n",
       "      <th>187</th>\n",
       "      <td>1996.0</td>\n",
       "      <td>2.85</td>\n",
       "      <td>5</td>\n",
       "      <td>3124.5</td>\n",
       "      <td>2.0</td>\n",
       "      <td>2.0</td>\n",
       "      <td>2.0</td>\n",
       "      <td>1.0</td>\n",
       "      <td>2.0</td>\n",
       "      <td>2.0</td>\n",
       "      <td>2.0</td>\n",
       "      <td>1.0</td>\n",
       "      <td>6.0</td>\n",
       "      <td>2</td>\n",
       "      <td>192.65</td>\n",
       "      <td>8.075</td>\n",
       "      <td>5</td>\n",
       "      <td>C/R</td>\n",
       "    </tr>\n",
       "    <tr>\n",
       "      <th>188</th>\n",
       "      <td>1990.0</td>\n",
       "      <td>2.80</td>\n",
       "      <td>6</td>\n",
       "      <td>3322.0</td>\n",
       "      <td>2.0</td>\n",
       "      <td>2.0</td>\n",
       "      <td>2.0</td>\n",
       "      <td>2.0</td>\n",
       "      <td>2.0</td>\n",
       "      <td>2.0</td>\n",
       "      <td>2.0</td>\n",
       "      <td>2.0</td>\n",
       "      <td>7.0</td>\n",
       "      <td>1</td>\n",
       "      <td>63.28</td>\n",
       "      <td>8.805</td>\n",
       "      <td>6</td>\n",
       "      <td>C/R</td>\n",
       "    </tr>\n",
       "    <tr>\n",
       "      <th>242</th>\n",
       "      <td>1997.0</td>\n",
       "      <td>2.95</td>\n",
       "      <td>5</td>\n",
       "      <td>5480.0</td>\n",
       "      <td>1.0</td>\n",
       "      <td>1.0</td>\n",
       "      <td>2.0</td>\n",
       "      <td>1.0</td>\n",
       "      <td>2.0</td>\n",
       "      <td>1.0</td>\n",
       "      <td>2.0</td>\n",
       "      <td>3.0</td>\n",
       "      <td>4.0</td>\n",
       "      <td>2</td>\n",
       "      <td>25.88</td>\n",
       "      <td>18.721</td>\n",
       "      <td>5</td>\n",
       "      <td>L</td>\n",
       "    </tr>\n",
       "    <tr>\n",
       "      <th>250</th>\n",
       "      <td>1993.0</td>\n",
       "      <td>3.20</td>\n",
       "      <td>5</td>\n",
       "      <td>3700.0</td>\n",
       "      <td>1.0</td>\n",
       "      <td>2.0</td>\n",
       "      <td>1.0</td>\n",
       "      <td>1.0</td>\n",
       "      <td>2.0</td>\n",
       "      <td>1.0</td>\n",
       "      <td>2.0</td>\n",
       "      <td>3.0</td>\n",
       "      <td>5.0</td>\n",
       "      <td>2</td>\n",
       "      <td>101.46</td>\n",
       "      <td>15.42</td>\n",
       "      <td>5</td>\n",
       "      <td>M</td>\n",
       "    </tr>\n",
       "    <tr>\n",
       "      <th>322</th>\n",
       "      <td>1993.0</td>\n",
       "      <td>2.90</td>\n",
       "      <td>5</td>\n",
       "      <td>3350.0</td>\n",
       "      <td>1.0</td>\n",
       "      <td>1.0</td>\n",
       "      <td>1.0</td>\n",
       "      <td>1.0</td>\n",
       "      <td>1.0</td>\n",
       "      <td>1.0</td>\n",
       "      <td>2.0</td>\n",
       "      <td>2.0</td>\n",
       "      <td>4.0</td>\n",
       "      <td>2</td>\n",
       "      <td>17.3</td>\n",
       "      <td>11.71</td>\n",
       "      <td>5</td>\n",
       "      <td>M</td>\n",
       "    </tr>\n",
       "    <tr>\n",
       "      <th>393</th>\n",
       "      <td>1976.0</td>\n",
       "      <td>2.95</td>\n",
       "      <td>4</td>\n",
       "      <td>3000.0</td>\n",
       "      <td>2.0</td>\n",
       "      <td>2.0</td>\n",
       "      <td>2.0</td>\n",
       "      <td>2.0</td>\n",
       "      <td>2.0</td>\n",
       "      <td>1.0</td>\n",
       "      <td>2.0</td>\n",
       "      <td>7.0</td>\n",
       "      <td>7.0</td>\n",
       "      <td>1</td>\n",
       "      <td>20.945</td>\n",
       "      <td>9.36</td>\n",
       "      <td>4</td>\n",
       "      <td>N</td>\n",
       "    </tr>\n",
       "    <tr>\n",
       "      <th>406</th>\n",
       "      <td>1986.328482</td>\n",
       "      <td>2.75</td>\n",
       "      <td>5</td>\n",
       "      <td>3655.0</td>\n",
       "      <td>1.0</td>\n",
       "      <td>2.0</td>\n",
       "      <td>2.0</td>\n",
       "      <td>1.0</td>\n",
       "      <td>2.0</td>\n",
       "      <td>2.0</td>\n",
       "      <td>2.0</td>\n",
       "      <td>2.0</td>\n",
       "      <td>6.0</td>\n",
       "      <td>2</td>\n",
       "      <td>40.2</td>\n",
       "      <td>12.835</td>\n",
       "      <td>5</td>\n",
       "      <td>S</td>\n",
       "    </tr>\n",
       "    <tr>\n",
       "      <th>445</th>\n",
       "      <td>2001.0</td>\n",
       "      <td>2.90</td>\n",
       "      <td>5</td>\n",
       "      <td>3140.0</td>\n",
       "      <td>1.0</td>\n",
       "      <td>2.0</td>\n",
       "      <td>2.0</td>\n",
       "      <td>2.0</td>\n",
       "      <td>2.0</td>\n",
       "      <td>2.0</td>\n",
       "      <td>2.0</td>\n",
       "      <td>2.0</td>\n",
       "      <td>5.0</td>\n",
       "      <td>1</td>\n",
       "      <td>29.55</td>\n",
       "      <td>8.075</td>\n",
       "      <td>5</td>\n",
       "      <td>S</td>\n",
       "    </tr>\n",
       "    <tr>\n",
       "      <th>455</th>\n",
       "      <td>1989.0</td>\n",
       "      <td>2.90</td>\n",
       "      <td>5</td>\n",
       "      <td>4935.0</td>\n",
       "      <td>1.0</td>\n",
       "      <td>2.0</td>\n",
       "      <td>1.0</td>\n",
       "      <td>1.0</td>\n",
       "      <td>2.0</td>\n",
       "      <td>1.0</td>\n",
       "      <td>2.0</td>\n",
       "      <td>4.0</td>\n",
       "      <td>3.0</td>\n",
       "      <td>1</td>\n",
       "      <td>61.26</td>\n",
       "      <td>18.382</td>\n",
       "      <td>5</td>\n",
       "      <td>M</td>\n",
       "    </tr>\n",
       "  </tbody>\n",
       "</table>\n",
       "</div>"
      ],
      "text/plain": [
       "    Construction_time  Storey_height  Number_of_stories  Floor_area  \\\n",
       "38             1992.0           2.80                  5      2998.0   \n",
       "101            1994.0           3.00                  5      3325.0   \n",
       "170            1995.0           2.80                  5      3412.5   \n",
       "187            1996.0           2.85                  5      3124.5   \n",
       "188            1990.0           2.80                  6      3322.0   \n",
       "242            1997.0           2.95                  5      5480.0   \n",
       "250            1993.0           3.20                  5      3700.0   \n",
       "322            1993.0           2.90                  5      3350.0   \n",
       "393            1976.0           2.95                  4      3000.0   \n",
       "406       1986.328482           2.75                  5      3655.0   \n",
       "445            2001.0           2.90                  5      3140.0   \n",
       "455            1989.0           2.90                  5      4935.0   \n",
       "\n",
       "     Plan_irregularity_A1  Plan_irregularity_A2  Plan_irregularity_A3  \\\n",
       "38                    1.0                   2.0                   2.0   \n",
       "101                   2.0                   2.0                   2.0   \n",
       "170                   1.0                   2.0                   1.0   \n",
       "187                   2.0                   2.0                   2.0   \n",
       "188                   2.0                   2.0                   2.0   \n",
       "242                   1.0                   1.0                   2.0   \n",
       "250                   1.0                   2.0                   1.0   \n",
       "322                   1.0                   1.0                   1.0   \n",
       "393                   2.0                   2.0                   2.0   \n",
       "406                   1.0                   2.0                   2.0   \n",
       "445                   1.0                   2.0                   2.0   \n",
       "455                   1.0                   2.0                   1.0   \n",
       "\n",
       "     Plan_irregularity_A4  Vertical_irregularity_B1  Vertical_irregularity_B2  \\\n",
       "38                    1.0                       2.0                       1.0   \n",
       "101                   2.0                       2.0                       1.0   \n",
       "170                   2.0                       2.0                       1.0   \n",
       "187                   1.0                       2.0                       2.0   \n",
       "188                   2.0                       2.0                       2.0   \n",
       "242                   1.0                       2.0                       1.0   \n",
       "250                   1.0                       2.0                       1.0   \n",
       "322                   1.0                       1.0                       1.0   \n",
       "393                   2.0                       2.0                       1.0   \n",
       "406                   1.0                       2.0                       2.0   \n",
       "445                   2.0                       2.0                       2.0   \n",
       "455                   1.0                       2.0                       1.0   \n",
       "\n",
       "     Vertical_irregularity_B3  Bays_Number_x  Bays_Number_y  System_type  \\\n",
       "38                        1.0            3.0            4.0            2   \n",
       "101                       2.0            1.0            2.0            2   \n",
       "170                       2.0            2.0            2.0            1   \n",
       "187                       2.0            1.0            6.0            2   \n",
       "188                       2.0            2.0            7.0            1   \n",
       "242                       2.0            3.0            4.0            2   \n",
       "250                       2.0            3.0            5.0            2   \n",
       "322                       2.0            2.0            4.0            2   \n",
       "393                       2.0            7.0            7.0            1   \n",
       "406                       2.0            2.0            6.0            2   \n",
       "445                       2.0            2.0            5.0            1   \n",
       "455                       2.0            4.0            3.0            1   \n",
       "\n",
       "    Overhanging_area Column_area  storey_number Class  \n",
       "38            20.945       9.913              5     M  \n",
       "101            48.08       8.665              5     S  \n",
       "170           20.945      12.075              5   C/R  \n",
       "187           192.65       8.075              5   C/R  \n",
       "188            63.28       8.805              6   C/R  \n",
       "242            25.88      18.721              5     L  \n",
       "250           101.46       15.42              5     M  \n",
       "322             17.3       11.71              5     M  \n",
       "393           20.945        9.36              4     N  \n",
       "406             40.2      12.835              5     S  \n",
       "445            29.55       8.075              5     S  \n",
       "455            61.26      18.382              5     M  "
      ]
     },
     "execution_count": 30,
     "metadata": {},
     "output_type": "execute_result"
    }
   ],
   "source": [
    "# Find the outliers\n",
    "\n",
    "df[df['Floor_area'] > upper_limit2]"
   ]
  },
  {
   "cell_type": "code",
   "execution_count": 31,
   "id": "9a1c7266",
   "metadata": {},
   "outputs": [
    {
     "data": {
      "text/html": [
       "<div>\n",
       "<style scoped>\n",
       "    .dataframe tbody tr th:only-of-type {\n",
       "        vertical-align: middle;\n",
       "    }\n",
       "\n",
       "    .dataframe tbody tr th {\n",
       "        vertical-align: top;\n",
       "    }\n",
       "\n",
       "    .dataframe thead th {\n",
       "        text-align: right;\n",
       "    }\n",
       "</style>\n",
       "<table border=\"1\" class=\"dataframe\">\n",
       "  <thead>\n",
       "    <tr style=\"text-align: right;\">\n",
       "      <th></th>\n",
       "      <th>Construction_time</th>\n",
       "      <th>Storey_height</th>\n",
       "      <th>Number_of_stories</th>\n",
       "      <th>Floor_area</th>\n",
       "      <th>Plan_irregularity_A1</th>\n",
       "      <th>Plan_irregularity_A2</th>\n",
       "      <th>Plan_irregularity_A3</th>\n",
       "      <th>Plan_irregularity_A4</th>\n",
       "      <th>Vertical_irregularity_B1</th>\n",
       "      <th>Vertical_irregularity_B2</th>\n",
       "      <th>Vertical_irregularity_B3</th>\n",
       "      <th>Bays_Number_x</th>\n",
       "      <th>Bays_Number_y</th>\n",
       "      <th>System_type</th>\n",
       "      <th>Overhanging_area</th>\n",
       "      <th>Column_area</th>\n",
       "      <th>storey_number</th>\n",
       "      <th>Class</th>\n",
       "    </tr>\n",
       "  </thead>\n",
       "  <tbody>\n",
       "  </tbody>\n",
       "</table>\n",
       "</div>"
      ],
      "text/plain": [
       "Empty DataFrame\n",
       "Columns: [Construction_time, Storey_height, Number_of_stories, Floor_area, Plan_irregularity_A1, Plan_irregularity_A2, Plan_irregularity_A3, Plan_irregularity_A4, Vertical_irregularity_B1, Vertical_irregularity_B2, Vertical_irregularity_B3, Bays_Number_x, Bays_Number_y, System_type, Overhanging_area, Column_area, storey_number, Class]\n",
       "Index: []"
      ]
     },
     "execution_count": 31,
     "metadata": {},
     "output_type": "execute_result"
    }
   ],
   "source": [
    "df[df['Floor_area'] < lower_limit2]"
   ]
  },
  {
   "cell_type": "code",
   "execution_count": 32,
   "id": "9b4e750a",
   "metadata": {},
   "outputs": [],
   "source": [
    "# For skewed feature (Column_area)\n",
    "\n",
    "#df['Column_area'].describe()"
   ]
  },
  {
   "cell_type": "code",
   "execution_count": 33,
   "id": "954a5d33",
   "metadata": {},
   "outputs": [],
   "source": [
    "#sns.boxplot(df['Column_area'])"
   ]
  },
  {
   "cell_type": "code",
   "execution_count": 34,
   "id": "85f6acfd",
   "metadata": {},
   "outputs": [],
   "source": [
    "# Finding the IQR\n",
    "\n",
    "#percentile25_2 = df['Column_area'].quantile(0.25)\n",
    "#percentile75_2 = df['Column_area'].quantile(0.75)"
   ]
  },
  {
   "cell_type": "code",
   "execution_count": 35,
   "id": "d90ef704",
   "metadata": {},
   "outputs": [],
   "source": [
    "#iqr = percentile75_2 - percentile25_2 "
   ]
  },
  {
   "cell_type": "code",
   "execution_count": 36,
   "id": "51ce1f45",
   "metadata": {},
   "outputs": [],
   "source": [
    "# Indicating the limit values\n",
    "\n",
    "#upper_limit3 = percentile75_2 + 1.5*iqr\n",
    "#lower_limit3 = percentile25_2 - 1.5*iqr"
   ]
  },
  {
   "cell_type": "code",
   "execution_count": 37,
   "id": "59ea8620",
   "metadata": {},
   "outputs": [],
   "source": [
    "#print('Upper limit', upper_limit3)\n",
    "#print('Lower limit', lower_limit3)"
   ]
  },
  {
   "cell_type": "code",
   "execution_count": 38,
   "id": "486d329d",
   "metadata": {},
   "outputs": [],
   "source": [
    "# Find the outliers\n",
    "\n",
    "#df[df['Column_area'] > upper_limit3]"
   ]
  },
  {
   "cell_type": "code",
   "execution_count": 39,
   "id": "328ba836",
   "metadata": {},
   "outputs": [],
   "source": [
    "#df[df['Column_area'] < lower_limit3]"
   ]
  },
  {
   "cell_type": "code",
   "execution_count": 40,
   "id": "d8d9f7c3",
   "metadata": {},
   "outputs": [],
   "source": [
    "# For skewed feature (Overhanging_area)\n",
    "\n",
    "#df['Overhanging_area'].describe()"
   ]
  },
  {
   "cell_type": "code",
   "execution_count": 41,
   "id": "a5ae9e0d",
   "metadata": {},
   "outputs": [],
   "source": [
    "#sns.boxplot(df['Overhanging_area'])"
   ]
  },
  {
   "cell_type": "code",
   "execution_count": 42,
   "id": "0ecaa80a",
   "metadata": {},
   "outputs": [],
   "source": [
    "# Finding the IQR\n",
    "\n",
    "#percentile25_3 = df['Overhanging_area'].quantile(0.25)\n",
    "#percentile75_3 = df['Overhanging_area'].quantile(0.75)"
   ]
  },
  {
   "cell_type": "code",
   "execution_count": 43,
   "id": "206a05bc",
   "metadata": {},
   "outputs": [],
   "source": [
    "#iqr = percentile75_3 - percentile25_3 "
   ]
  },
  {
   "cell_type": "code",
   "execution_count": 44,
   "id": "36812f4c",
   "metadata": {},
   "outputs": [],
   "source": [
    "# Indicating the limit values\n",
    "\n",
    "#upper_limit4 = percentile75_3 + 1.5*iqr\n",
    "#lower_limit4 = percentile25_3 - 1.5*iqr"
   ]
  },
  {
   "cell_type": "code",
   "execution_count": 45,
   "id": "d7e46ea4",
   "metadata": {},
   "outputs": [],
   "source": [
    "#print('Upper limit', upper_limit4)\n",
    "#print('Lower limit', lower_limit4)"
   ]
  },
  {
   "cell_type": "code",
   "execution_count": 46,
   "id": "13b2cc13",
   "metadata": {},
   "outputs": [],
   "source": [
    "# Find the outliers\n",
    "\n",
    "#df[df['Overhanging_area'] > upper_limit4]"
   ]
  },
  {
   "cell_type": "code",
   "execution_count": 47,
   "id": "0cae01a7",
   "metadata": {},
   "outputs": [],
   "source": [
    "#df[df['Overhanging_area'] < lower_limit4]"
   ]
  },
  {
   "cell_type": "markdown",
   "id": "3ae7fa06",
   "metadata": {},
   "source": [
    "# Outlier Removal for Normally Distributed Feature\n",
    "# Trimming"
   ]
  },
  {
   "cell_type": "code",
   "execution_count": 48,
   "id": "1c21c130",
   "metadata": {},
   "outputs": [],
   "source": [
    "#df = df[(df['Feature'] < value) & (df['Feature'] > value)] # values are highest and lowest allowed\n",
    "#df"
   ]
  },
  {
   "cell_type": "markdown",
   "id": "04311a8f",
   "metadata": {},
   "source": [
    "#  or Capping"
   ]
  },
  {
   "cell_type": "code",
   "execution_count": 49,
   "id": "2466ef46",
   "metadata": {},
   "outputs": [],
   "source": [
    "# Alternate method\n",
    "\n",
    "upper_limit = df['Storey_height'].mean() + 3*df['Storey_height'].std()\n",
    "lower_limit = df['Storey_height'].mean() - 3*df['Storey_height'].std()\n"
   ]
  },
  {
   "cell_type": "code",
   "execution_count": 50,
   "id": "5f2d7465",
   "metadata": {},
   "outputs": [],
   "source": [
    "df['Storey_height'] = np.where(\n",
    "    df['Storey_height']> upper_limit, \n",
    "    upper_limit, \n",
    "    np.where(\n",
    "        df['Storey_height'] < lower_limit,\n",
    "        lower_limit, \n",
    "        df['Storey_height']\n",
    "    )\n",
    ")\n",
    "\n"
   ]
  },
  {
   "cell_type": "code",
   "execution_count": 51,
   "id": "4f3609c7",
   "metadata": {},
   "outputs": [
    {
     "data": {
      "text/plain": [
       "count    482.000000\n",
       "mean       2.833766\n",
       "std        0.120914\n",
       "min        2.500000\n",
       "25%        2.750000\n",
       "50%        2.800000\n",
       "75%        2.900000\n",
       "max        3.248151\n",
       "Name: Storey_height, dtype: float64"
      ]
     },
     "execution_count": 51,
     "metadata": {},
     "output_type": "execute_result"
    }
   ],
   "source": [
    "df['Storey_height'].describe()"
   ]
  },
  {
   "cell_type": "markdown",
   "id": "c165a2a8",
   "metadata": {},
   "source": [
    "# Outlier Removal for Skewed  Feature"
   ]
  },
  {
   "cell_type": "markdown",
   "id": "20be2288",
   "metadata": {},
   "source": [
    "# Trimming"
   ]
  },
  {
   "cell_type": "code",
   "execution_count": 52,
   "id": "bb6c163e",
   "metadata": {},
   "outputs": [],
   "source": [
    "#df = df[df['Feauture'] < upper_limit2]"
   ]
  },
  {
   "cell_type": "code",
   "execution_count": 53,
   "id": "121cb729",
   "metadata": {},
   "outputs": [],
   "source": [
    "#df.shape()"
   ]
  },
  {
   "cell_type": "markdown",
   "id": "22df6fc2",
   "metadata": {},
   "source": [
    "# or Capping"
   ]
  },
  {
   "cell_type": "code",
   "execution_count": 54,
   "id": "3c26f964",
   "metadata": {},
   "outputs": [],
   "source": [
    "# Floor_area\n",
    "\n",
    "df['Floor_area'] = np.where(\n",
    "    df['Floor_area']> upper_limit2, \n",
    "    upper_limit2, \n",
    "    np.where(\n",
    "        df['Floor_area'] < lower_limit2,\n",
    "        lower_limit2, \n",
    "        df['Floor_area']\n",
    "    )\n",
    ")"
   ]
  },
  {
   "cell_type": "code",
   "execution_count": 55,
   "id": "f17807e7",
   "metadata": {},
   "outputs": [
    {
     "data": {
      "text/plain": [
       "count     482.000000\n",
       "mean     1037.458963\n",
       "std       687.737681\n",
       "min        78.000000\n",
       "25%       492.250000\n",
       "50%       866.000000\n",
       "75%      1475.545000\n",
       "max      2950.487500\n",
       "Name: Floor_area, dtype: float64"
      ]
     },
     "execution_count": 55,
     "metadata": {},
     "output_type": "execute_result"
    }
   ],
   "source": [
    "df['Floor_area'].describe()"
   ]
  },
  {
   "cell_type": "code",
   "execution_count": 56,
   "id": "794e1ff2",
   "metadata": {},
   "outputs": [],
   "source": [
    "# Column_area\n",
    "\n",
    "#df['column_area'] = np.where(\n",
    "    #df['Column_area']> upper_limit3, \n",
    "    #upper_limit3, \n",
    "    #np.where(\n",
    "        #df['Column_area'] < lower_limit3,\n",
    "        #lower_limit3, \n",
    "        #df['Column_area']\n",
    "    #)\n",
    "#)"
   ]
  },
  {
   "cell_type": "code",
   "execution_count": 57,
   "id": "15feaf5f",
   "metadata": {},
   "outputs": [],
   "source": [
    "#df['Column_area'].describe()"
   ]
  },
  {
   "cell_type": "code",
   "execution_count": 58,
   "id": "d79ce45e",
   "metadata": {},
   "outputs": [],
   "source": [
    "# Overhanging_area\n",
    "\n",
    "#df['Overhanging_area'] = np.where(\n",
    "    #df['Overhanging_area']> upper_limit4, \n",
    "    #upper_limit4, \n",
    "    #np.where(\n",
    "        #df['Overhanging_area'] < lower_limit4,\n",
    "        #lower_limit4, \n",
    "        #df['Overhanging_area']\n",
    "    #)\n",
    "#)"
   ]
  },
  {
   "cell_type": "code",
   "execution_count": 59,
   "id": "64d924f3",
   "metadata": {},
   "outputs": [],
   "source": [
    "#df['Overhanging_area'].describe()"
   ]
  },
  {
   "cell_type": "markdown",
   "id": "7d3d3165",
   "metadata": {},
   "source": [
    "# Creating the Random Forest Model"
   ]
  },
  {
   "cell_type": "markdown",
   "id": "490be945",
   "metadata": {},
   "source": [
    "# Preparing Data"
   ]
  },
  {
   "cell_type": "code",
   "execution_count": 60,
   "id": "f5e8c90e",
   "metadata": {},
   "outputs": [],
   "source": [
    "from sklearn.model_selection import train_test_split\n",
    "from sklearn.metrics import classification_report, confusion_matrix, accuracy_score\n",
    "from sklearn.ensemble import RandomForestClassifier"
   ]
  },
  {
   "cell_type": "code",
   "execution_count": 61,
   "id": "9c7cfbdf",
   "metadata": {},
   "outputs": [],
   "source": [
    "# Select inputs and target\n",
    "#X = df[['Input', 'Input', 'Input']]\n",
    "#y = df['Class']\n",
    "\n",
    "\n",
    "# Location by index\n",
    "X = df.iloc[:,:-1]\n",
    "y = df.iloc[:,-1]\n"
   ]
  },
  {
   "cell_type": "code",
   "execution_count": 62,
   "id": "47439dd7",
   "metadata": {},
   "outputs": [],
   "source": [
    "X_train, X_test, y_train, y_test = train_test_split(X, y, test_size=0.3, random_state = 56)"
   ]
  },
  {
   "cell_type": "markdown",
   "id": "59d74de3",
   "metadata": {},
   "source": [
    "# Dealing with Categorical Values"
   ]
  },
  {
   "cell_type": "markdown",
   "id": "ec6a05aa",
   "metadata": {},
   "source": [
    "# Label Encoding"
   ]
  },
  {
   "cell_type": "code",
   "execution_count": 63,
   "id": "1d3f7574",
   "metadata": {},
   "outputs": [],
   "source": [
    "# Used for musticlass target variable.\n",
    "\n",
    "from sklearn.preprocessing import LabelEncoder\n",
    "le = LabelEncoder()"
   ]
  },
  {
   "cell_type": "code",
   "execution_count": 64,
   "id": "4ea52812",
   "metadata": {},
   "outputs": [
    {
     "data": {
      "text/html": [
       "<style>#sk-container-id-1 {color: black;}#sk-container-id-1 pre{padding: 0;}#sk-container-id-1 div.sk-toggleable {background-color: white;}#sk-container-id-1 label.sk-toggleable__label {cursor: pointer;display: block;width: 100%;margin-bottom: 0;padding: 0.3em;box-sizing: border-box;text-align: center;}#sk-container-id-1 label.sk-toggleable__label-arrow:before {content: \"▸\";float: left;margin-right: 0.25em;color: #696969;}#sk-container-id-1 label.sk-toggleable__label-arrow:hover:before {color: black;}#sk-container-id-1 div.sk-estimator:hover label.sk-toggleable__label-arrow:before {color: black;}#sk-container-id-1 div.sk-toggleable__content {max-height: 0;max-width: 0;overflow: hidden;text-align: left;background-color: #f0f8ff;}#sk-container-id-1 div.sk-toggleable__content pre {margin: 0.2em;color: black;border-radius: 0.25em;background-color: #f0f8ff;}#sk-container-id-1 input.sk-toggleable__control:checked~div.sk-toggleable__content {max-height: 200px;max-width: 100%;overflow: auto;}#sk-container-id-1 input.sk-toggleable__control:checked~label.sk-toggleable__label-arrow:before {content: \"▾\";}#sk-container-id-1 div.sk-estimator input.sk-toggleable__control:checked~label.sk-toggleable__label {background-color: #d4ebff;}#sk-container-id-1 div.sk-label input.sk-toggleable__control:checked~label.sk-toggleable__label {background-color: #d4ebff;}#sk-container-id-1 input.sk-hidden--visually {border: 0;clip: rect(1px 1px 1px 1px);clip: rect(1px, 1px, 1px, 1px);height: 1px;margin: -1px;overflow: hidden;padding: 0;position: absolute;width: 1px;}#sk-container-id-1 div.sk-estimator {font-family: monospace;background-color: #f0f8ff;border: 1px dotted black;border-radius: 0.25em;box-sizing: border-box;margin-bottom: 0.5em;}#sk-container-id-1 div.sk-estimator:hover {background-color: #d4ebff;}#sk-container-id-1 div.sk-parallel-item::after {content: \"\";width: 100%;border-bottom: 1px solid gray;flex-grow: 1;}#sk-container-id-1 div.sk-label:hover label.sk-toggleable__label {background-color: #d4ebff;}#sk-container-id-1 div.sk-serial::before {content: \"\";position: absolute;border-left: 1px solid gray;box-sizing: border-box;top: 0;bottom: 0;left: 50%;z-index: 0;}#sk-container-id-1 div.sk-serial {display: flex;flex-direction: column;align-items: center;background-color: white;padding-right: 0.2em;padding-left: 0.2em;position: relative;}#sk-container-id-1 div.sk-item {position: relative;z-index: 1;}#sk-container-id-1 div.sk-parallel {display: flex;align-items: stretch;justify-content: center;background-color: white;position: relative;}#sk-container-id-1 div.sk-item::before, #sk-container-id-1 div.sk-parallel-item::before {content: \"\";position: absolute;border-left: 1px solid gray;box-sizing: border-box;top: 0;bottom: 0;left: 50%;z-index: -1;}#sk-container-id-1 div.sk-parallel-item {display: flex;flex-direction: column;z-index: 1;position: relative;background-color: white;}#sk-container-id-1 div.sk-parallel-item:first-child::after {align-self: flex-end;width: 50%;}#sk-container-id-1 div.sk-parallel-item:last-child::after {align-self: flex-start;width: 50%;}#sk-container-id-1 div.sk-parallel-item:only-child::after {width: 0;}#sk-container-id-1 div.sk-dashed-wrapped {border: 1px dashed gray;margin: 0 0.4em 0.5em 0.4em;box-sizing: border-box;padding-bottom: 0.4em;background-color: white;}#sk-container-id-1 div.sk-label label {font-family: monospace;font-weight: bold;display: inline-block;line-height: 1.2em;}#sk-container-id-1 div.sk-label-container {text-align: center;}#sk-container-id-1 div.sk-container {/* jupyter's `normalize.less` sets `[hidden] { display: none; }` but bootstrap.min.css set `[hidden] { display: none !important; }` so we also need the `!important` here to be able to override the default hidden behavior on the sphinx rendered scikit-learn.org. See: https://github.com/scikit-learn/scikit-learn/issues/21755 */display: inline-block !important;position: relative;}#sk-container-id-1 div.sk-text-repr-fallback {display: none;}</style><div id=\"sk-container-id-1\" class=\"sk-top-container\"><div class=\"sk-text-repr-fallback\"><pre>LabelEncoder()</pre><b>In a Jupyter environment, please rerun this cell to show the HTML representation or trust the notebook. <br />On GitHub, the HTML representation is unable to render, please try loading this page with nbviewer.org.</b></div><div class=\"sk-container\" hidden><div class=\"sk-item\"><div class=\"sk-estimator sk-toggleable\"><input class=\"sk-toggleable__control sk-hidden--visually\" id=\"sk-estimator-id-1\" type=\"checkbox\" checked><label for=\"sk-estimator-id-1\" class=\"sk-toggleable__label sk-toggleable__label-arrow\">LabelEncoder</label><div class=\"sk-toggleable__content\"><pre>LabelEncoder()</pre></div></div></div></div></div>"
      ],
      "text/plain": [
       "LabelEncoder()"
      ]
     },
     "execution_count": 64,
     "metadata": {},
     "output_type": "execute_result"
    }
   ],
   "source": [
    "le.fit(y_train)"
   ]
  },
  {
   "cell_type": "code",
   "execution_count": 65,
   "id": "a8c15133",
   "metadata": {},
   "outputs": [
    {
     "data": {
      "text/plain": [
       "array(['C/R', 'L', 'M', 'N', 'S'], dtype=object)"
      ]
     },
     "execution_count": 65,
     "metadata": {},
     "output_type": "execute_result"
    }
   ],
   "source": [
    "le.classes_"
   ]
  },
  {
   "cell_type": "code",
   "execution_count": 66,
   "id": "36bd3a94",
   "metadata": {},
   "outputs": [],
   "source": [
    "y_train = le.transform(y_train)\n",
    "y_test = le.transform(y_test)"
   ]
  },
  {
   "cell_type": "code",
   "execution_count": 67,
   "id": "377780ad",
   "metadata": {},
   "outputs": [
    {
     "data": {
      "text/plain": [
       "array([3, 0, 2, 2, 2, 2, 3, 4, 2, 2, 1, 1, 1, 2, 2, 1, 0, 4, 1, 2, 0, 1,\n",
       "       3, 4, 2, 2, 2, 2, 3, 2, 2, 2, 2, 2, 2, 1, 2, 4, 1, 2, 1, 0, 1, 1,\n",
       "       4, 0, 1, 2, 3, 0, 2, 4, 2, 2, 1, 2, 1, 1, 4, 2, 2, 4, 3, 1, 2, 0,\n",
       "       3, 1, 2, 1, 0, 3, 4, 1, 1, 4, 4, 1, 0, 3, 2, 2, 2, 2, 2, 1, 2, 1,\n",
       "       3, 2, 1, 0, 2, 2, 4, 1, 4, 3, 1, 4, 2, 1, 3, 3, 1, 3, 1, 4, 4, 0,\n",
       "       3, 4, 0, 0, 1, 1, 2, 0, 0, 1, 3, 2, 1, 0, 4, 1, 0, 4, 2, 3, 4, 3,\n",
       "       3, 3, 4, 1, 3, 3, 2, 1, 0, 1, 1, 1, 2, 2, 4, 0, 1, 2, 1, 3, 3, 0,\n",
       "       1, 1, 4, 3, 2, 3, 1, 2, 1, 2, 2, 1, 2, 1, 3, 0, 4, 1, 0, 3, 3, 1,\n",
       "       2, 2, 2, 1, 3, 0, 2, 2, 0, 3, 1, 0, 2, 0, 3, 1, 1, 2, 1, 2, 0, 2,\n",
       "       0, 0, 3, 3, 1, 4, 3, 1, 1, 4, 3, 1, 0, 0, 1, 3, 4, 1, 1, 0, 1, 1,\n",
       "       1, 3, 0, 4, 0, 2, 4, 2, 0, 3, 1, 1, 2, 1, 2, 2, 4, 1, 4, 1, 1, 1,\n",
       "       1, 1, 4, 1, 2, 1, 1, 2, 4, 0, 1, 2, 0, 1, 2, 1, 2, 2, 2, 1, 2, 0,\n",
       "       2, 2, 3, 0, 0, 2, 3, 1, 0, 2, 2, 0, 2, 2, 1, 1, 1, 0, 2, 3, 0, 0,\n",
       "       2, 1, 2, 1, 2, 1, 2, 4, 1, 2, 1, 2, 2, 1, 1, 1, 2, 1, 2, 1, 4, 1,\n",
       "       2, 2, 3, 1, 1, 2, 1, 2, 4, 1, 0, 4, 3, 1, 1, 1, 4, 2, 3, 2, 1, 1,\n",
       "       2, 4, 1, 2, 0, 3, 1])"
      ]
     },
     "execution_count": 67,
     "metadata": {},
     "output_type": "execute_result"
    }
   ],
   "source": [
    "y_train"
   ]
  },
  {
   "cell_type": "markdown",
   "id": "15d075fc",
   "metadata": {},
   "source": [
    "# Ordinal Encoding"
   ]
  },
  {
   "cell_type": "code",
   "execution_count": 68,
   "id": "b4e1277e",
   "metadata": {},
   "outputs": [],
   "source": [
    "# Categorical values have relation between them. Means come in order.\n",
    "# Ordinal categorical data.\n",
    "\n",
    "#from sklearn.preprocessing import OrdinalEncoder\n",
    "#oe =  OrdinalEncoder(categories = [['Poor','Average','Good'],['Good','Better','Best'])"
   ]
  },
  {
   "cell_type": "code",
   "execution_count": 69,
   "id": "e862310e",
   "metadata": {},
   "outputs": [],
   "source": [
    "#oe.fit(X_train)"
   ]
  },
  {
   "cell_type": "code",
   "execution_count": 70,
   "id": "00fd07f7",
   "metadata": {},
   "outputs": [],
   "source": [
    "#X_train = oe.transform(X_train)\n",
    "#X_test = oe.transform(X_test)"
   ]
  },
  {
   "cell_type": "code",
   "execution_count": 71,
   "id": "5f5533bf",
   "metadata": {},
   "outputs": [],
   "source": [
    "#X_train"
   ]
  },
  {
   "cell_type": "code",
   "execution_count": 72,
   "id": "edfe76cf",
   "metadata": {},
   "outputs": [],
   "source": [
    "#oe.categories_"
   ]
  },
  {
   "cell_type": "markdown",
   "id": "73acb9d2",
   "metadata": {},
   "source": [
    "# One-hot encoding"
   ]
  },
  {
   "cell_type": "code",
   "execution_count": 73,
   "id": "302ca3ea",
   "metadata": {},
   "outputs": [],
   "source": [
    "# Multiclass catergorical value. For example city of a country.\n",
    "# Nominal categorical data\n",
    "\n",
    "#from sklearn.compose import ColumnTransformer\n",
    "#from sklearn.preprocessing import OneHotEncoder\n",
    "#ct = ColumnTransformer(transformers =[('encoder',  OneHotEncoder(), [0, 2, 3])], remainder = 'passthrough')\n",
    "#df = pd.DataFrame(ct.fit_transform(df))\n",
    "#df.columns = ['Feature', 'Feature', 'Feature']"
   ]
  },
  {
   "cell_type": "markdown",
   "id": "c137b607",
   "metadata": {},
   "source": [
    "# Feature Scaling (Standardization)"
   ]
  },
  {
   "cell_type": "code",
   "execution_count": 74,
   "id": "8e209a95",
   "metadata": {},
   "outputs": [],
   "source": [
    "# Feature scaling shoud be done after data splitting.There should be no influence on test data.\n",
    "\n",
    "from sklearn.preprocessing import StandardScaler\n",
    "sc = StandardScaler()\n",
    "X_train.iloc[:,:-1] = sc.fit_transform(X_train.iloc[:,:-1])\n",
    "\n",
    "# Not using fit method so that model doesn't know the mean and standard deviation of the test dataset\n",
    "X_test.iloc[:,:-1] = sc.transform(X_test.iloc[:,:-1])\n"
   ]
  },
  {
   "cell_type": "markdown",
   "id": "e64bf6c2",
   "metadata": {},
   "source": [
    "# Creating Model"
   ]
  },
  {
   "cell_type": "code",
   "execution_count": 75,
   "id": "e5af503c",
   "metadata": {},
   "outputs": [],
   "source": [
    "clf = RandomForestClassifier(max_samples=0.75,random_state=42)"
   ]
  },
  {
   "cell_type": "code",
   "execution_count": 76,
   "id": "2284bb72",
   "metadata": {},
   "outputs": [
    {
     "data": {
      "text/html": [
       "<style>#sk-container-id-2 {color: black;}#sk-container-id-2 pre{padding: 0;}#sk-container-id-2 div.sk-toggleable {background-color: white;}#sk-container-id-2 label.sk-toggleable__label {cursor: pointer;display: block;width: 100%;margin-bottom: 0;padding: 0.3em;box-sizing: border-box;text-align: center;}#sk-container-id-2 label.sk-toggleable__label-arrow:before {content: \"▸\";float: left;margin-right: 0.25em;color: #696969;}#sk-container-id-2 label.sk-toggleable__label-arrow:hover:before {color: black;}#sk-container-id-2 div.sk-estimator:hover label.sk-toggleable__label-arrow:before {color: black;}#sk-container-id-2 div.sk-toggleable__content {max-height: 0;max-width: 0;overflow: hidden;text-align: left;background-color: #f0f8ff;}#sk-container-id-2 div.sk-toggleable__content pre {margin: 0.2em;color: black;border-radius: 0.25em;background-color: #f0f8ff;}#sk-container-id-2 input.sk-toggleable__control:checked~div.sk-toggleable__content {max-height: 200px;max-width: 100%;overflow: auto;}#sk-container-id-2 input.sk-toggleable__control:checked~label.sk-toggleable__label-arrow:before {content: \"▾\";}#sk-container-id-2 div.sk-estimator input.sk-toggleable__control:checked~label.sk-toggleable__label {background-color: #d4ebff;}#sk-container-id-2 div.sk-label input.sk-toggleable__control:checked~label.sk-toggleable__label {background-color: #d4ebff;}#sk-container-id-2 input.sk-hidden--visually {border: 0;clip: rect(1px 1px 1px 1px);clip: rect(1px, 1px, 1px, 1px);height: 1px;margin: -1px;overflow: hidden;padding: 0;position: absolute;width: 1px;}#sk-container-id-2 div.sk-estimator {font-family: monospace;background-color: #f0f8ff;border: 1px dotted black;border-radius: 0.25em;box-sizing: border-box;margin-bottom: 0.5em;}#sk-container-id-2 div.sk-estimator:hover {background-color: #d4ebff;}#sk-container-id-2 div.sk-parallel-item::after {content: \"\";width: 100%;border-bottom: 1px solid gray;flex-grow: 1;}#sk-container-id-2 div.sk-label:hover label.sk-toggleable__label {background-color: #d4ebff;}#sk-container-id-2 div.sk-serial::before {content: \"\";position: absolute;border-left: 1px solid gray;box-sizing: border-box;top: 0;bottom: 0;left: 50%;z-index: 0;}#sk-container-id-2 div.sk-serial {display: flex;flex-direction: column;align-items: center;background-color: white;padding-right: 0.2em;padding-left: 0.2em;position: relative;}#sk-container-id-2 div.sk-item {position: relative;z-index: 1;}#sk-container-id-2 div.sk-parallel {display: flex;align-items: stretch;justify-content: center;background-color: white;position: relative;}#sk-container-id-2 div.sk-item::before, #sk-container-id-2 div.sk-parallel-item::before {content: \"\";position: absolute;border-left: 1px solid gray;box-sizing: border-box;top: 0;bottom: 0;left: 50%;z-index: -1;}#sk-container-id-2 div.sk-parallel-item {display: flex;flex-direction: column;z-index: 1;position: relative;background-color: white;}#sk-container-id-2 div.sk-parallel-item:first-child::after {align-self: flex-end;width: 50%;}#sk-container-id-2 div.sk-parallel-item:last-child::after {align-self: flex-start;width: 50%;}#sk-container-id-2 div.sk-parallel-item:only-child::after {width: 0;}#sk-container-id-2 div.sk-dashed-wrapped {border: 1px dashed gray;margin: 0 0.4em 0.5em 0.4em;box-sizing: border-box;padding-bottom: 0.4em;background-color: white;}#sk-container-id-2 div.sk-label label {font-family: monospace;font-weight: bold;display: inline-block;line-height: 1.2em;}#sk-container-id-2 div.sk-label-container {text-align: center;}#sk-container-id-2 div.sk-container {/* jupyter's `normalize.less` sets `[hidden] { display: none; }` but bootstrap.min.css set `[hidden] { display: none !important; }` so we also need the `!important` here to be able to override the default hidden behavior on the sphinx rendered scikit-learn.org. See: https://github.com/scikit-learn/scikit-learn/issues/21755 */display: inline-block !important;position: relative;}#sk-container-id-2 div.sk-text-repr-fallback {display: none;}</style><div id=\"sk-container-id-2\" class=\"sk-top-container\"><div class=\"sk-text-repr-fallback\"><pre>RandomForestClassifier(max_samples=0.75, random_state=42)</pre><b>In a Jupyter environment, please rerun this cell to show the HTML representation or trust the notebook. <br />On GitHub, the HTML representation is unable to render, please try loading this page with nbviewer.org.</b></div><div class=\"sk-container\" hidden><div class=\"sk-item\"><div class=\"sk-estimator sk-toggleable\"><input class=\"sk-toggleable__control sk-hidden--visually\" id=\"sk-estimator-id-2\" type=\"checkbox\" checked><label for=\"sk-estimator-id-2\" class=\"sk-toggleable__label sk-toggleable__label-arrow\">RandomForestClassifier</label><div class=\"sk-toggleable__content\"><pre>RandomForestClassifier(max_samples=0.75, random_state=42)</pre></div></div></div></div></div>"
      ],
      "text/plain": [
       "RandomForestClassifier(max_samples=0.75, random_state=42)"
      ]
     },
     "execution_count": 76,
     "metadata": {},
     "output_type": "execute_result"
    }
   ],
   "source": [
    "clf.fit(X_train, y_train)"
   ]
  },
  {
   "cell_type": "code",
   "execution_count": 77,
   "id": "23f59d5b",
   "metadata": {},
   "outputs": [],
   "source": [
    "y_pred = clf.predict(X_test)"
   ]
  },
  {
   "cell_type": "code",
   "execution_count": 78,
   "id": "941971d7",
   "metadata": {},
   "outputs": [
    {
     "data": {
      "text/plain": [
       "0.4413793103448276"
      ]
     },
     "execution_count": 78,
     "metadata": {},
     "output_type": "execute_result"
    }
   ],
   "source": [
    "accuracy_score(y_test, y_pred)"
   ]
  },
  {
   "cell_type": "markdown",
   "id": "f80615f5",
   "metadata": {},
   "source": [
    "# Cross Validation"
   ]
  },
  {
   "cell_type": "code",
   "execution_count": 79,
   "id": "053d74fb",
   "metadata": {},
   "outputs": [
    {
     "data": {
      "text/plain": [
       "0.4149234693877551"
      ]
     },
     "execution_count": 79,
     "metadata": {},
     "output_type": "execute_result"
    }
   ],
   "source": [
    "# For class imbalanced dataset applying stratified K-Fold cross validation\n",
    "\n",
    "from sklearn.model_selection import cross_val_score\n",
    "np.mean(cross_val_score(RandomForestClassifier(),X,y,cv=10,scoring='accuracy'))\n"
   ]
  },
  {
   "cell_type": "markdown",
   "id": "6b090118",
   "metadata": {},
   "source": [
    "# Hyperparameter Tuning"
   ]
  },
  {
   "cell_type": "markdown",
   "id": "48fff27e",
   "metadata": {},
   "source": [
    "# GridSearchCV"
   ]
  },
  {
   "cell_type": "code",
   "execution_count": 80,
   "id": "54dc9cb5",
   "metadata": {},
   "outputs": [],
   "source": [
    "# Number of trees in random forest\n",
    "n_estimators = [20,60,100,120]\n",
    "\n",
    "# Number of features to consider at every split\n",
    "max_features = [0.2,0.6,1.0]\n",
    "\n",
    "# Maximum number of levels in tree\n",
    "max_depth = [2,8,None]\n",
    "\n",
    "# Number of samples\n",
    "max_samples = [0.5,0.75,1.0]\n",
    "\n"
   ]
  },
  {
   "cell_type": "code",
   "execution_count": 81,
   "id": "fa3c7a3f",
   "metadata": {},
   "outputs": [
    {
     "name": "stdout",
     "output_type": "stream",
     "text": [
      "{'n_estimators': [20, 60, 100, 120], 'max_features': [0.2, 0.6, 1.0], 'max_depth': [2, 8, None], 'max_samples': [0.5, 0.75, 1.0]}\n"
     ]
    }
   ],
   "source": [
    "param_grid = {'n_estimators': n_estimators,\n",
    "             'max_features': max_features,\n",
    "             'max_depth': max_depth,\n",
    "             'max_samples': max_samples\n",
    "             }\n",
    "print(param_grid)\n",
    "\n"
   ]
  },
  {
   "cell_type": "code",
   "execution_count": 82,
   "id": "5853ffea",
   "metadata": {},
   "outputs": [],
   "source": [
    "rf = RandomForestClassifier()"
   ]
  },
  {
   "cell_type": "code",
   "execution_count": 83,
   "id": "a78a686b",
   "metadata": {},
   "outputs": [],
   "source": [
    "\n",
    "from sklearn.model_selection import GridSearchCV\n",
    "\n",
    "rf_grid = GridSearchCV(estimator = rf,\n",
    "                      param_grid = param_grid,\n",
    "                      cv = 5,\n",
    "                      verbose = 2,\n",
    "                      n_jobs = -1)"
   ]
  },
  {
   "cell_type": "code",
   "execution_count": 84,
   "id": "e6ab6d7d",
   "metadata": {},
   "outputs": [
    {
     "name": "stdout",
     "output_type": "stream",
     "text": [
      "Fitting 5 folds for each of 108 candidates, totalling 540 fits\n"
     ]
    },
    {
     "data": {
      "text/html": [
       "<style>#sk-container-id-3 {color: black;}#sk-container-id-3 pre{padding: 0;}#sk-container-id-3 div.sk-toggleable {background-color: white;}#sk-container-id-3 label.sk-toggleable__label {cursor: pointer;display: block;width: 100%;margin-bottom: 0;padding: 0.3em;box-sizing: border-box;text-align: center;}#sk-container-id-3 label.sk-toggleable__label-arrow:before {content: \"▸\";float: left;margin-right: 0.25em;color: #696969;}#sk-container-id-3 label.sk-toggleable__label-arrow:hover:before {color: black;}#sk-container-id-3 div.sk-estimator:hover label.sk-toggleable__label-arrow:before {color: black;}#sk-container-id-3 div.sk-toggleable__content {max-height: 0;max-width: 0;overflow: hidden;text-align: left;background-color: #f0f8ff;}#sk-container-id-3 div.sk-toggleable__content pre {margin: 0.2em;color: black;border-radius: 0.25em;background-color: #f0f8ff;}#sk-container-id-3 input.sk-toggleable__control:checked~div.sk-toggleable__content {max-height: 200px;max-width: 100%;overflow: auto;}#sk-container-id-3 input.sk-toggleable__control:checked~label.sk-toggleable__label-arrow:before {content: \"▾\";}#sk-container-id-3 div.sk-estimator input.sk-toggleable__control:checked~label.sk-toggleable__label {background-color: #d4ebff;}#sk-container-id-3 div.sk-label input.sk-toggleable__control:checked~label.sk-toggleable__label {background-color: #d4ebff;}#sk-container-id-3 input.sk-hidden--visually {border: 0;clip: rect(1px 1px 1px 1px);clip: rect(1px, 1px, 1px, 1px);height: 1px;margin: -1px;overflow: hidden;padding: 0;position: absolute;width: 1px;}#sk-container-id-3 div.sk-estimator {font-family: monospace;background-color: #f0f8ff;border: 1px dotted black;border-radius: 0.25em;box-sizing: border-box;margin-bottom: 0.5em;}#sk-container-id-3 div.sk-estimator:hover {background-color: #d4ebff;}#sk-container-id-3 div.sk-parallel-item::after {content: \"\";width: 100%;border-bottom: 1px solid gray;flex-grow: 1;}#sk-container-id-3 div.sk-label:hover label.sk-toggleable__label {background-color: #d4ebff;}#sk-container-id-3 div.sk-serial::before {content: \"\";position: absolute;border-left: 1px solid gray;box-sizing: border-box;top: 0;bottom: 0;left: 50%;z-index: 0;}#sk-container-id-3 div.sk-serial {display: flex;flex-direction: column;align-items: center;background-color: white;padding-right: 0.2em;padding-left: 0.2em;position: relative;}#sk-container-id-3 div.sk-item {position: relative;z-index: 1;}#sk-container-id-3 div.sk-parallel {display: flex;align-items: stretch;justify-content: center;background-color: white;position: relative;}#sk-container-id-3 div.sk-item::before, #sk-container-id-3 div.sk-parallel-item::before {content: \"\";position: absolute;border-left: 1px solid gray;box-sizing: border-box;top: 0;bottom: 0;left: 50%;z-index: -1;}#sk-container-id-3 div.sk-parallel-item {display: flex;flex-direction: column;z-index: 1;position: relative;background-color: white;}#sk-container-id-3 div.sk-parallel-item:first-child::after {align-self: flex-end;width: 50%;}#sk-container-id-3 div.sk-parallel-item:last-child::after {align-self: flex-start;width: 50%;}#sk-container-id-3 div.sk-parallel-item:only-child::after {width: 0;}#sk-container-id-3 div.sk-dashed-wrapped {border: 1px dashed gray;margin: 0 0.4em 0.5em 0.4em;box-sizing: border-box;padding-bottom: 0.4em;background-color: white;}#sk-container-id-3 div.sk-label label {font-family: monospace;font-weight: bold;display: inline-block;line-height: 1.2em;}#sk-container-id-3 div.sk-label-container {text-align: center;}#sk-container-id-3 div.sk-container {/* jupyter's `normalize.less` sets `[hidden] { display: none; }` but bootstrap.min.css set `[hidden] { display: none !important; }` so we also need the `!important` here to be able to override the default hidden behavior on the sphinx rendered scikit-learn.org. See: https://github.com/scikit-learn/scikit-learn/issues/21755 */display: inline-block !important;position: relative;}#sk-container-id-3 div.sk-text-repr-fallback {display: none;}</style><div id=\"sk-container-id-3\" class=\"sk-top-container\"><div class=\"sk-text-repr-fallback\"><pre>GridSearchCV(cv=5, estimator=RandomForestClassifier(), n_jobs=-1,\n",
       "             param_grid={&#x27;max_depth&#x27;: [2, 8, None],\n",
       "                         &#x27;max_features&#x27;: [0.2, 0.6, 1.0],\n",
       "                         &#x27;max_samples&#x27;: [0.5, 0.75, 1.0],\n",
       "                         &#x27;n_estimators&#x27;: [20, 60, 100, 120]},\n",
       "             verbose=2)</pre><b>In a Jupyter environment, please rerun this cell to show the HTML representation or trust the notebook. <br />On GitHub, the HTML representation is unable to render, please try loading this page with nbviewer.org.</b></div><div class=\"sk-container\" hidden><div class=\"sk-item sk-dashed-wrapped\"><div class=\"sk-label-container\"><div class=\"sk-label sk-toggleable\"><input class=\"sk-toggleable__control sk-hidden--visually\" id=\"sk-estimator-id-3\" type=\"checkbox\" ><label for=\"sk-estimator-id-3\" class=\"sk-toggleable__label sk-toggleable__label-arrow\">GridSearchCV</label><div class=\"sk-toggleable__content\"><pre>GridSearchCV(cv=5, estimator=RandomForestClassifier(), n_jobs=-1,\n",
       "             param_grid={&#x27;max_depth&#x27;: [2, 8, None],\n",
       "                         &#x27;max_features&#x27;: [0.2, 0.6, 1.0],\n",
       "                         &#x27;max_samples&#x27;: [0.5, 0.75, 1.0],\n",
       "                         &#x27;n_estimators&#x27;: [20, 60, 100, 120]},\n",
       "             verbose=2)</pre></div></div></div><div class=\"sk-parallel\"><div class=\"sk-parallel-item\"><div class=\"sk-item\"><div class=\"sk-label-container\"><div class=\"sk-label sk-toggleable\"><input class=\"sk-toggleable__control sk-hidden--visually\" id=\"sk-estimator-id-4\" type=\"checkbox\" ><label for=\"sk-estimator-id-4\" class=\"sk-toggleable__label sk-toggleable__label-arrow\">estimator: RandomForestClassifier</label><div class=\"sk-toggleable__content\"><pre>RandomForestClassifier()</pre></div></div></div><div class=\"sk-serial\"><div class=\"sk-item\"><div class=\"sk-estimator sk-toggleable\"><input class=\"sk-toggleable__control sk-hidden--visually\" id=\"sk-estimator-id-5\" type=\"checkbox\" ><label for=\"sk-estimator-id-5\" class=\"sk-toggleable__label sk-toggleable__label-arrow\">RandomForestClassifier</label><div class=\"sk-toggleable__content\"><pre>RandomForestClassifier()</pre></div></div></div></div></div></div></div></div></div></div>"
      ],
      "text/plain": [
       "GridSearchCV(cv=5, estimator=RandomForestClassifier(), n_jobs=-1,\n",
       "             param_grid={'max_depth': [2, 8, None],\n",
       "                         'max_features': [0.2, 0.6, 1.0],\n",
       "                         'max_samples': [0.5, 0.75, 1.0],\n",
       "                         'n_estimators': [20, 60, 100, 120]},\n",
       "             verbose=2)"
      ]
     },
     "execution_count": 84,
     "metadata": {},
     "output_type": "execute_result"
    }
   ],
   "source": [
    "rf_grid.fit(X_train, y_train)"
   ]
  },
  {
   "cell_type": "code",
   "execution_count": 85,
   "id": "8def04b4",
   "metadata": {},
   "outputs": [
    {
     "data": {
      "text/plain": [
       "{'max_depth': None,\n",
       " 'max_features': 0.6,\n",
       " 'max_samples': 0.5,\n",
       " 'n_estimators': 120}"
      ]
     },
     "execution_count": 85,
     "metadata": {},
     "output_type": "execute_result"
    }
   ],
   "source": [
    "rf_grid.best_params_"
   ]
  },
  {
   "cell_type": "code",
   "execution_count": 86,
   "id": "424ee294",
   "metadata": {},
   "outputs": [
    {
     "data": {
      "text/plain": [
       "0.44187884108867426"
      ]
     },
     "execution_count": 86,
     "metadata": {},
     "output_type": "execute_result"
    }
   ],
   "source": [
    "rf_grid.best_score_"
   ]
  },
  {
   "cell_type": "markdown",
   "id": "81c2713e",
   "metadata": {},
   "source": [
    "# Model Evaluation"
   ]
  },
  {
   "cell_type": "code",
   "execution_count": 87,
   "id": "a64a2d19",
   "metadata": {},
   "outputs": [
    {
     "name": "stdout",
     "output_type": "stream",
     "text": [
      "              precision    recall  f1-score   support\n",
      "\n",
      "           0       0.38      0.56      0.45        16\n",
      "           1       0.41      0.58      0.48        43\n",
      "           2       0.47      0.48      0.48        52\n",
      "           3       0.60      0.20      0.30        15\n",
      "           4       1.00      0.11      0.19        19\n",
      "\n",
      "    accuracy                           0.44       145\n",
      "   macro avg       0.57      0.39      0.38       145\n",
      "weighted avg       0.53      0.44      0.42       145\n",
      "\n"
     ]
    }
   ],
   "source": [
    "# Classification Report\n",
    "\n",
    "print(classification_report(y_test, y_pred))\n"
   ]
  },
  {
   "cell_type": "code",
   "execution_count": 88,
   "id": "6204982d",
   "metadata": {},
   "outputs": [
    {
     "name": "stdout",
     "output_type": "stream",
     "text": [
      "[[ 9  3  4  0  0]\n",
      " [ 3 25 14  1  0]\n",
      " [ 9 18 25  0  0]\n",
      " [ 0  7  5  3  0]\n",
      " [ 3  8  5  1  2]]\n"
     ]
    }
   ],
   "source": [
    "# Confusion Matrix\n",
    "\n",
    "cf_matrix = confusion_matrix(y_test, y_pred)\n",
    "print(cf_matrix)\n"
   ]
  },
  {
   "cell_type": "code",
   "execution_count": 89,
   "id": "e3f76570",
   "metadata": {},
   "outputs": [],
   "source": [
    "labels = ['C/R', 'L', 'M', 'N', 'S']\n",
    "labels.sort()\n"
   ]
  },
  {
   "cell_type": "code",
   "execution_count": 90,
   "id": "cc69c326",
   "metadata": {},
   "outputs": [
    {
     "data": {
      "image/png": "[encoded data removed]",
      "text/plain": [
       "<Figure size 1000x1000 with 2 Axes>"
      ]
     },
     "metadata": {},
     "output_type": "display_data"
    }
   ],
   "source": [
    "import seaborn as sns\n",
    "\n",
    "fig = plt.figure(figsize=(10,10))\n",
    "ax = sns.heatmap(cf_matrix, annot=True, cmap='coolwarm', fmt='.0f',\n",
    "                xticklabels=labels, yticklabels=labels)\n",
    "\n",
    "ax.set_title('Seaborn Confuse Matrix with labels\\n\\n');\n",
    "ax.set_xlabel('\\nPredicted values')\n",
    "ax.set_ylabel('Actual Values');\n"
   ]
  },
  {
   "cell_type": "markdown",
   "id": "000dbd69",
   "metadata": {},
   "source": [
    "# Feature Importance"
   ]
  },
  {
   "cell_type": "code",
   "execution_count": 92,
   "id": "7f796681",
   "metadata": {},
   "outputs": [],
   "source": [
    "# Correlation Matrix\n",
    "\n",
    "#corr = df.corr()\n",
    "#corr"
   ]
  },
  {
   "cell_type": "code",
   "execution_count": null,
   "id": "99111e93",
   "metadata": {},
   "outputs": [],
   "source": [
    "# Display Pearson Correlation Matrix in Heatmap\n",
    "\n",
    "corr = df.corr()\n",
    "plt.figure(figsize=(14,10))\n",
    "sns.heatmap(corr, annot = True, cmap = 'coolwarm')"
   ]
  },
  {
   "cell_type": "code",
   "execution_count": null,
   "id": "e0338586",
   "metadata": {},
   "outputs": [],
   "source": []
  },
  {
   "cell_type": "code",
   "execution_count": null,
   "id": "c240ba5d",
   "metadata": {},
   "outputs": [],
   "source": []
  },
  {
   "cell_type": "code",
   "execution_count": null,
   "id": "ad5b6cf8",
   "metadata": {},
   "outputs": [],
   "source": []
  }
 ],
 "metadata": {
  "kernelspec": {
   "display_name": "Python 3 (ipykernel)",
   "language": "python",
   "name": "python3"
  },
  "language_info": {
   "codemirror_mode": {
    "name": "ipython",
    "version": 3
   },
   "file_extension": ".py",
   "mimetype": "text/x-python",
   "name": "python",
   "nbconvert_exporter": "python",
   "pygments_lexer": "ipython3",
   "version": "3.11.5"
  }
 },
 "nbformat": 4,
 "nbformat_minor": 5
}
